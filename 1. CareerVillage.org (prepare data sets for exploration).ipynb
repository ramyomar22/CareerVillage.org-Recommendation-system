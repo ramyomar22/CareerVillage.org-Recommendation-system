{
 "cells": [
  {
   "cell_type": "code",
   "execution_count": 1,
   "id": "fc372d1a-4a61-4bc4-a977-6b083aedf1fc",
   "metadata": {},
   "outputs": [],
   "source": [
    "# import libraries\n",
    "import os\n",
    "import pandas as pd\n",
    "\n",
    "# Path to the folder containing the CSV files\n",
    "folder_path = 'data/'\n",
    "\n",
    "# Get the list of all files in the directory\n",
    "files = os.listdir(folder_path)\n",
    "# creat a list to storage variables names for dataframes.\n",
    "data= []\n",
    "# Iterate through the files in the directory\n",
    "for file in files:\n",
    "    # Check if the file is a CSV file\n",
    "    if file.endswith('.csv'):\n",
    "        # Create a DataFrame from the CSV file\n",
    "        file_path = os.path.join(folder_path, file)\n",
    "        df = pd.read_csv(file_path)\n",
    "        \n",
    "        # Create a variable name based on the file name (without extension)\n",
    "        variable_name = os.path.splitext(file)[0]\n",
    "        \n",
    "        # Use globals() to create a variable with the name of the file\n",
    "        globals()[variable_name] = df\n",
    "        # append each variable name a list to can be iterable for any data process. \n",
    "        data.append(variable_name)"
   ]
  },
  {
   "cell_type": "markdown",
   "id": "138e88ab-12c1-4d11-8099-886227a7c602",
   "metadata": {},
   "source": [
    "# Understanding the Data\n",
    "Before diving into the recommendation system, it’s essential to understand the data. Here are the key datasets provided by CareerVillage.org"
   ]
  },
  {
   "cell_type": "code",
   "execution_count": 2,
   "id": "d5f40176-a271-4cc3-bf0b-61a9bf4930c8",
   "metadata": {
    "scrolled": true
   },
   "outputs": [
    {
     "data": {
      "text/html": [
       "<div>\n",
       "<style scoped>\n",
       "    .dataframe tbody tr th:only-of-type {\n",
       "        vertical-align: middle;\n",
       "    }\n",
       "\n",
       "    .dataframe tbody tr th {\n",
       "        vertical-align: top;\n",
       "    }\n",
       "\n",
       "    .dataframe thead th {\n",
       "        text-align: right;\n",
       "    }\n",
       "</style>\n",
       "<table border=\"1\" class=\"dataframe\">\n",
       "  <thead>\n",
       "    <tr style=\"text-align: right;\">\n",
       "      <th></th>\n",
       "      <th>answers_id</th>\n",
       "      <th>answers_author_id</th>\n",
       "      <th>answers_question_id</th>\n",
       "      <th>answers_date_added</th>\n",
       "      <th>answers_body</th>\n",
       "    </tr>\n",
       "  </thead>\n",
       "  <tbody>\n",
       "    <tr>\n",
       "      <th>0</th>\n",
       "      <td>4e5f01128cae4f6d8fd697cec5dca60c</td>\n",
       "      <td>36ff3b3666df400f956f8335cf53e09e</td>\n",
       "      <td>332a511f1569444485cf7a7a556a5e54</td>\n",
       "      <td>2016-04-29 19:40:14 UTC+0000</td>\n",
       "      <td>&lt;p&gt;Hi!&lt;/p&gt;\\n&lt;p&gt;You are asking a very interesti...</td>\n",
       "    </tr>\n",
       "    <tr>\n",
       "      <th>1</th>\n",
       "      <td>ada720538c014e9b8a6dceed09385ee3</td>\n",
       "      <td>2aa47af241bf42a4b874c453f0381bd4</td>\n",
       "      <td>eb80205482e4424cad8f16bc25aa2d9c</td>\n",
       "      <td>2018-05-01 14:19:08 UTC+0000</td>\n",
       "      <td>&lt;p&gt;Hi. I joined the Army after I attended coll...</td>\n",
       "    </tr>\n",
       "    <tr>\n",
       "      <th>2</th>\n",
       "      <td>eaa66ef919bc408ab5296237440e323f</td>\n",
       "      <td>cbd8f30613a849bf918aed5c010340be</td>\n",
       "      <td>eb80205482e4424cad8f16bc25aa2d9c</td>\n",
       "      <td>2018-05-02 02:41:02 UTC+0000</td>\n",
       "      <td>&lt;p&gt;Dear Priyanka,&lt;/p&gt;&lt;p&gt;Greetings! I have answ...</td>\n",
       "    </tr>\n",
       "    <tr>\n",
       "      <th>3</th>\n",
       "      <td>1a6b3749d391486c9e371fbd1e605014</td>\n",
       "      <td>7e72a630c303442ba92ff00e8ea451df</td>\n",
       "      <td>4ec31632938a40b98909416bdd0decff</td>\n",
       "      <td>2017-05-10 19:00:47 UTC+0000</td>\n",
       "      <td>&lt;p&gt;I work for a global company who values high...</td>\n",
       "    </tr>\n",
       "    <tr>\n",
       "      <th>4</th>\n",
       "      <td>5229c514000446d582050f89ebd4e184</td>\n",
       "      <td>17802d94699140b0a0d2995f30c034c6</td>\n",
       "      <td>2f6a9a99d9b24e5baa50d40d0ba50a75</td>\n",
       "      <td>2017-10-13 22:07:33 UTC+0000</td>\n",
       "      <td>I agree with Denise. Every single job I've had...</td>\n",
       "    </tr>\n",
       "  </tbody>\n",
       "</table>\n",
       "</div>"
      ],
      "text/plain": [
       "                         answers_id                 answers_author_id  \\\n",
       "0  4e5f01128cae4f6d8fd697cec5dca60c  36ff3b3666df400f956f8335cf53e09e   \n",
       "1  ada720538c014e9b8a6dceed09385ee3  2aa47af241bf42a4b874c453f0381bd4   \n",
       "2  eaa66ef919bc408ab5296237440e323f  cbd8f30613a849bf918aed5c010340be   \n",
       "3  1a6b3749d391486c9e371fbd1e605014  7e72a630c303442ba92ff00e8ea451df   \n",
       "4  5229c514000446d582050f89ebd4e184  17802d94699140b0a0d2995f30c034c6   \n",
       "\n",
       "                answers_question_id            answers_date_added  \\\n",
       "0  332a511f1569444485cf7a7a556a5e54  2016-04-29 19:40:14 UTC+0000   \n",
       "1  eb80205482e4424cad8f16bc25aa2d9c  2018-05-01 14:19:08 UTC+0000   \n",
       "2  eb80205482e4424cad8f16bc25aa2d9c  2018-05-02 02:41:02 UTC+0000   \n",
       "3  4ec31632938a40b98909416bdd0decff  2017-05-10 19:00:47 UTC+0000   \n",
       "4  2f6a9a99d9b24e5baa50d40d0ba50a75  2017-10-13 22:07:33 UTC+0000   \n",
       "\n",
       "                                        answers_body  \n",
       "0  <p>Hi!</p>\\n<p>You are asking a very interesti...  \n",
       "1  <p>Hi. I joined the Army after I attended coll...  \n",
       "2  <p>Dear Priyanka,</p><p>Greetings! I have answ...  \n",
       "3  <p>I work for a global company who values high...  \n",
       "4  I agree with Denise. Every single job I've had...  "
      ]
     },
     "execution_count": 2,
     "metadata": {},
     "output_type": "execute_result"
    }
   ],
   "source": [
    "# display the first 5 rows of answers.\n",
    "answers.head()"
   ]
  },
  {
   "cell_type": "code",
   "execution_count": 3,
   "id": "c0401b97-717e-4bbd-a80f-04dd6d851fe2",
   "metadata": {},
   "outputs": [],
   "source": [
    "# rename common columns in dataframes to can be able make relations and merging them.\n",
    "answers.rename(columns={'answers_author_id':'author_id','answers_question_id':'question_id'}, inplace=True)"
   ]
  },
  {
   "cell_type": "code",
   "execution_count": 4,
   "id": "12f2e066-98cf-4aec-8817-aeb80642d6d6",
   "metadata": {
    "scrolled": true
   },
   "outputs": [
    {
     "name": "stdout",
     "output_type": "stream",
     "text": [
      "<class 'pandas.core.frame.DataFrame'>\n",
      "RangeIndex: 51123 entries, 0 to 51122\n",
      "Data columns (total 5 columns):\n",
      " #   Column              Non-Null Count  Dtype \n",
      "---  ------              --------------  ----- \n",
      " 0   answers_id          51123 non-null  object\n",
      " 1   author_id           51123 non-null  object\n",
      " 2   question_id         51123 non-null  object\n",
      " 3   answers_date_added  51123 non-null  object\n",
      " 4   answers_body        51122 non-null  object\n",
      "dtypes: object(5)\n",
      "memory usage: 2.0+ MB\n"
     ]
    }
   ],
   "source": [
    "# get infomation about answers\n",
    "answers.info()"
   ]
  },
  {
   "cell_type": "code",
   "execution_count": 5,
   "id": "fa6c67a1-609d-4af1-b9b0-a170f4ef8079",
   "metadata": {
    "scrolled": true
   },
   "outputs": [
    {
     "data": {
      "text/html": [
       "<div>\n",
       "<style scoped>\n",
       "    .dataframe tbody tr th:only-of-type {\n",
       "        vertical-align: middle;\n",
       "    }\n",
       "\n",
       "    .dataframe tbody tr th {\n",
       "        vertical-align: top;\n",
       "    }\n",
       "\n",
       "    .dataframe thead th {\n",
       "        text-align: right;\n",
       "    }\n",
       "</style>\n",
       "<table border=\"1\" class=\"dataframe\">\n",
       "  <thead>\n",
       "    <tr style=\"text-align: right;\">\n",
       "      <th></th>\n",
       "      <th>id</th>\n",
       "      <th>score</th>\n",
       "    </tr>\n",
       "  </thead>\n",
       "  <tbody>\n",
       "    <tr>\n",
       "      <th>0</th>\n",
       "      <td>7b2bb0fc0d384e298cffa6afde9cf6ab</td>\n",
       "      <td>1</td>\n",
       "    </tr>\n",
       "    <tr>\n",
       "      <th>1</th>\n",
       "      <td>7640a6e5d5224c8681cc58de860858f4</td>\n",
       "      <td>5</td>\n",
       "    </tr>\n",
       "    <tr>\n",
       "      <th>2</th>\n",
       "      <td>3ce32e236fa9435183b2180fb213375c</td>\n",
       "      <td>2</td>\n",
       "    </tr>\n",
       "    <tr>\n",
       "      <th>3</th>\n",
       "      <td>fa30fe4c016043e382c441a7ef743bfb</td>\n",
       "      <td>0</td>\n",
       "    </tr>\n",
       "    <tr>\n",
       "      <th>4</th>\n",
       "      <td>71229eb293314c8a9e545057ecc32c93</td>\n",
       "      <td>2</td>\n",
       "    </tr>\n",
       "  </tbody>\n",
       "</table>\n",
       "</div>"
      ],
      "text/plain": [
       "                                 id  score\n",
       "0  7b2bb0fc0d384e298cffa6afde9cf6ab      1\n",
       "1  7640a6e5d5224c8681cc58de860858f4      5\n",
       "2  3ce32e236fa9435183b2180fb213375c      2\n",
       "3  fa30fe4c016043e382c441a7ef743bfb      0\n",
       "4  71229eb293314c8a9e545057ecc32c93      2"
      ]
     },
     "execution_count": 5,
     "metadata": {},
     "output_type": "execute_result"
    }
   ],
   "source": [
    "# display the first 5 rows of answers score.\n",
    "answer_scores.head()"
   ]
  },
  {
   "cell_type": "code",
   "execution_count": 6,
   "id": "164d0a8a-e628-47ed-8788-c91a5622a13a",
   "metadata": {},
   "outputs": [],
   "source": [
    "# rename common columns in dataframes to can be able make relations and merging them.\n",
    "answer_scores.rename(columns={'id':'answers_id'},inplace=True)"
   ]
  },
  {
   "cell_type": "code",
   "execution_count": 7,
   "id": "f589fac3-cfef-4665-9898-74a4b2e77363",
   "metadata": {},
   "outputs": [
    {
     "name": "stdout",
     "output_type": "stream",
     "text": [
      "<class 'pandas.core.frame.DataFrame'>\n",
      "RangeIndex: 51138 entries, 0 to 51137\n",
      "Data columns (total 2 columns):\n",
      " #   Column      Non-Null Count  Dtype \n",
      "---  ------      --------------  ----- \n",
      " 0   answers_id  51138 non-null  object\n",
      " 1   score       51138 non-null  int64 \n",
      "dtypes: int64(1), object(1)\n",
      "memory usage: 799.2+ KB\n"
     ]
    }
   ],
   "source": [
    "# get information about answer score.\n",
    "answer_scores.info()"
   ]
  },
  {
   "cell_type": "code",
   "execution_count": 8,
   "id": "9783e48d-0476-47c7-b32e-eb3844c61107",
   "metadata": {
    "scrolled": true
   },
   "outputs": [
    {
     "data": {
      "text/html": [
       "<div>\n",
       "<style scoped>\n",
       "    .dataframe tbody tr th:only-of-type {\n",
       "        vertical-align: middle;\n",
       "    }\n",
       "\n",
       "    .dataframe tbody tr th {\n",
       "        vertical-align: top;\n",
       "    }\n",
       "\n",
       "    .dataframe thead th {\n",
       "        text-align: right;\n",
       "    }\n",
       "</style>\n",
       "<table border=\"1\" class=\"dataframe\">\n",
       "  <thead>\n",
       "    <tr style=\"text-align: right;\">\n",
       "      <th></th>\n",
       "      <th>emails_id</th>\n",
       "      <th>emails_recipient_id</th>\n",
       "      <th>emails_date_sent</th>\n",
       "      <th>emails_frequency_level</th>\n",
       "    </tr>\n",
       "  </thead>\n",
       "  <tbody>\n",
       "    <tr>\n",
       "      <th>0</th>\n",
       "      <td>2337714</td>\n",
       "      <td>0c673e046d824ec0ad0ebe012a0673e4</td>\n",
       "      <td>2018-12-07 01:05:40 UTC+0000</td>\n",
       "      <td>email_notification_daily</td>\n",
       "    </tr>\n",
       "    <tr>\n",
       "      <th>1</th>\n",
       "      <td>2336077</td>\n",
       "      <td>0c673e046d824ec0ad0ebe012a0673e4</td>\n",
       "      <td>2018-12-06 01:14:15 UTC+0000</td>\n",
       "      <td>email_notification_daily</td>\n",
       "    </tr>\n",
       "    <tr>\n",
       "      <th>2</th>\n",
       "      <td>2314660</td>\n",
       "      <td>0c673e046d824ec0ad0ebe012a0673e4</td>\n",
       "      <td>2018-11-17 00:38:27 UTC+0000</td>\n",
       "      <td>email_notification_daily</td>\n",
       "    </tr>\n",
       "    <tr>\n",
       "      <th>3</th>\n",
       "      <td>2312639</td>\n",
       "      <td>0c673e046d824ec0ad0ebe012a0673e4</td>\n",
       "      <td>2018-11-16 00:32:19 UTC+0000</td>\n",
       "      <td>email_notification_daily</td>\n",
       "    </tr>\n",
       "    <tr>\n",
       "      <th>4</th>\n",
       "      <td>2299700</td>\n",
       "      <td>0c673e046d824ec0ad0ebe012a0673e4</td>\n",
       "      <td>2018-11-08 00:16:40 UTC+0000</td>\n",
       "      <td>email_notification_daily</td>\n",
       "    </tr>\n",
       "  </tbody>\n",
       "</table>\n",
       "</div>"
      ],
      "text/plain": [
       "   emails_id               emails_recipient_id              emails_date_sent  \\\n",
       "0    2337714  0c673e046d824ec0ad0ebe012a0673e4  2018-12-07 01:05:40 UTC+0000   \n",
       "1    2336077  0c673e046d824ec0ad0ebe012a0673e4  2018-12-06 01:14:15 UTC+0000   \n",
       "2    2314660  0c673e046d824ec0ad0ebe012a0673e4  2018-11-17 00:38:27 UTC+0000   \n",
       "3    2312639  0c673e046d824ec0ad0ebe012a0673e4  2018-11-16 00:32:19 UTC+0000   \n",
       "4    2299700  0c673e046d824ec0ad0ebe012a0673e4  2018-11-08 00:16:40 UTC+0000   \n",
       "\n",
       "     emails_frequency_level  \n",
       "0  email_notification_daily  \n",
       "1  email_notification_daily  \n",
       "2  email_notification_daily  \n",
       "3  email_notification_daily  \n",
       "4  email_notification_daily  "
      ]
     },
     "execution_count": 8,
     "metadata": {},
     "output_type": "execute_result"
    }
   ],
   "source": [
    "# display the first 5 rows of answers.\n",
    "emails.head()"
   ]
  },
  {
   "cell_type": "code",
   "execution_count": 9,
   "id": "b800d19f-89d6-4628-a0e0-c9aa8dd8ac3f",
   "metadata": {},
   "outputs": [
    {
     "name": "stdout",
     "output_type": "stream",
     "text": [
      "<class 'pandas.core.frame.DataFrame'>\n",
      "RangeIndex: 1850101 entries, 0 to 1850100\n",
      "Data columns (total 4 columns):\n",
      " #   Column                  Dtype \n",
      "---  ------                  ----- \n",
      " 0   emails_id               int64 \n",
      " 1   emails_recipient_id     object\n",
      " 2   emails_date_sent        object\n",
      " 3   emails_frequency_level  object\n",
      "dtypes: int64(1), object(3)\n",
      "memory usage: 56.5+ MB\n"
     ]
    }
   ],
   "source": [
    "# get information about emails.\n",
    "emails.info()"
   ]
  },
  {
   "cell_type": "code",
   "execution_count": 10,
   "id": "f9e00b84-976f-4733-9d67-0aed414c8cb8",
   "metadata": {
    "scrolled": true
   },
   "outputs": [
    {
     "data": {
      "text/html": [
       "<div>\n",
       "<style scoped>\n",
       "    .dataframe tbody tr th:only-of-type {\n",
       "        vertical-align: middle;\n",
       "    }\n",
       "\n",
       "    .dataframe tbody tr th {\n",
       "        vertical-align: top;\n",
       "    }\n",
       "\n",
       "    .dataframe thead th {\n",
       "        text-align: right;\n",
       "    }\n",
       "</style>\n",
       "<table border=\"1\" class=\"dataframe\">\n",
       "  <thead>\n",
       "    <tr style=\"text-align: right;\">\n",
       "      <th></th>\n",
       "      <th>comments_id</th>\n",
       "      <th>comments_author_id</th>\n",
       "      <th>comments_parent_content_id</th>\n",
       "      <th>comments_date_added</th>\n",
       "      <th>comments_body</th>\n",
       "    </tr>\n",
       "  </thead>\n",
       "  <tbody>\n",
       "    <tr>\n",
       "      <th>0</th>\n",
       "      <td>f30250d3c2ca489db1afa9b95d481e08</td>\n",
       "      <td>9fc88a7c3323466dbb35798264c7d497</td>\n",
       "      <td>b476f9c6d9cd4c50a7bacdd90edd015a</td>\n",
       "      <td>2019-01-31 23:39:40 UTC+0000</td>\n",
       "      <td>First, you speak to recruiters. They are train...</td>\n",
       "    </tr>\n",
       "    <tr>\n",
       "      <th>1</th>\n",
       "      <td>ca9bfc4ba9464ea383a8b080301ad72c</td>\n",
       "      <td>de2415064b9b445c8717425ed70fd99a</td>\n",
       "      <td>ef4b6ae24d1f4c3b977731e8189c7fd7</td>\n",
       "      <td>2019-01-31 20:30:47 UTC+0000</td>\n",
       "      <td>Most large universities offer study abroad pro...</td>\n",
       "    </tr>\n",
       "    <tr>\n",
       "      <th>2</th>\n",
       "      <td>c354f6e33956499aa8b03798a60e9386</td>\n",
       "      <td>6ed20605002a42b0b8e3d6ac97c50c7f</td>\n",
       "      <td>ca7a9d7a95df471c816db82ee758f57d</td>\n",
       "      <td>2019-01-31 18:44:04 UTC+0000</td>\n",
       "      <td>First, I want to put you at ease that the oppo...</td>\n",
       "    </tr>\n",
       "    <tr>\n",
       "      <th>3</th>\n",
       "      <td>73a6223948714c5da6231937157e4cb7</td>\n",
       "      <td>d02f6d9faac24997a7003a59e5f34bd3</td>\n",
       "      <td>c7a88aa76f5f49b0830bfeb46ba17e4d</td>\n",
       "      <td>2019-01-31 17:53:28 UTC+0000</td>\n",
       "      <td>Your question submission was great! I just wan...</td>\n",
       "    </tr>\n",
       "    <tr>\n",
       "      <th>4</th>\n",
       "      <td>55a89a9061d44dd19569c45f90a22779</td>\n",
       "      <td>e78f75c543e84e1c94da1801d8560f65</td>\n",
       "      <td>c7a88aa76f5f49b0830bfeb46ba17e4d</td>\n",
       "      <td>2019-01-31 14:51:53 UTC+0000</td>\n",
       "      <td>Thank you. I'm new to this site. I'm sorry if ...</td>\n",
       "    </tr>\n",
       "  </tbody>\n",
       "</table>\n",
       "</div>"
      ],
      "text/plain": [
       "                        comments_id                comments_author_id  \\\n",
       "0  f30250d3c2ca489db1afa9b95d481e08  9fc88a7c3323466dbb35798264c7d497   \n",
       "1  ca9bfc4ba9464ea383a8b080301ad72c  de2415064b9b445c8717425ed70fd99a   \n",
       "2  c354f6e33956499aa8b03798a60e9386  6ed20605002a42b0b8e3d6ac97c50c7f   \n",
       "3  73a6223948714c5da6231937157e4cb7  d02f6d9faac24997a7003a59e5f34bd3   \n",
       "4  55a89a9061d44dd19569c45f90a22779  e78f75c543e84e1c94da1801d8560f65   \n",
       "\n",
       "         comments_parent_content_id           comments_date_added  \\\n",
       "0  b476f9c6d9cd4c50a7bacdd90edd015a  2019-01-31 23:39:40 UTC+0000   \n",
       "1  ef4b6ae24d1f4c3b977731e8189c7fd7  2019-01-31 20:30:47 UTC+0000   \n",
       "2  ca7a9d7a95df471c816db82ee758f57d  2019-01-31 18:44:04 UTC+0000   \n",
       "3  c7a88aa76f5f49b0830bfeb46ba17e4d  2019-01-31 17:53:28 UTC+0000   \n",
       "4  c7a88aa76f5f49b0830bfeb46ba17e4d  2019-01-31 14:51:53 UTC+0000   \n",
       "\n",
       "                                       comments_body  \n",
       "0  First, you speak to recruiters. They are train...  \n",
       "1  Most large universities offer study abroad pro...  \n",
       "2  First, I want to put you at ease that the oppo...  \n",
       "3  Your question submission was great! I just wan...  \n",
       "4  Thank you. I'm new to this site. I'm sorry if ...  "
      ]
     },
     "execution_count": 10,
     "metadata": {},
     "output_type": "execute_result"
    }
   ],
   "source": [
    "# display the first 5 rows of comments.\n",
    "comments.head()"
   ]
  },
  {
   "cell_type": "code",
   "execution_count": 11,
   "id": "fd93abea-5c1c-4041-a7b7-e8a7a0a096d0",
   "metadata": {},
   "outputs": [],
   "source": [
    "# rename common columns in dataframes to can be able make relations and merging them.\n",
    "comments.rename(columns={'comments_author_id':'author_id','comments_parent_content_id':'parent_content_id'},inplace=True)"
   ]
  },
  {
   "cell_type": "code",
   "execution_count": 12,
   "id": "cf2f2ded-2ec5-44aa-b1e8-d080aaf4f48b",
   "metadata": {},
   "outputs": [
    {
     "name": "stdout",
     "output_type": "stream",
     "text": [
      "<class 'pandas.core.frame.DataFrame'>\n",
      "RangeIndex: 14966 entries, 0 to 14965\n",
      "Data columns (total 5 columns):\n",
      " #   Column               Non-Null Count  Dtype \n",
      "---  ------               --------------  ----- \n",
      " 0   comments_id          14966 non-null  object\n",
      " 1   author_id            14966 non-null  object\n",
      " 2   parent_content_id    14966 non-null  object\n",
      " 3   comments_date_added  14966 non-null  object\n",
      " 4   comments_body        14962 non-null  object\n",
      "dtypes: object(5)\n",
      "memory usage: 584.7+ KB\n"
     ]
    }
   ],
   "source": [
    "#get information about comments.\n",
    "comments.info()"
   ]
  },
  {
   "cell_type": "code",
   "execution_count": 13,
   "id": "26e8ce56-3006-4ff8-8181-123805ef838f",
   "metadata": {
    "scrolled": true
   },
   "outputs": [
    {
     "data": {
      "text/html": [
       "<div>\n",
       "<style scoped>\n",
       "    .dataframe tbody tr th:only-of-type {\n",
       "        vertical-align: middle;\n",
       "    }\n",
       "\n",
       "    .dataframe tbody tr th {\n",
       "        vertical-align: top;\n",
       "    }\n",
       "\n",
       "    .dataframe thead th {\n",
       "        text-align: right;\n",
       "    }\n",
       "</style>\n",
       "<table border=\"1\" class=\"dataframe\">\n",
       "  <thead>\n",
       "    <tr style=\"text-align: right;\">\n",
       "      <th></th>\n",
       "      <th>group_memberships_group_id</th>\n",
       "      <th>group_memberships_user_id</th>\n",
       "    </tr>\n",
       "  </thead>\n",
       "  <tbody>\n",
       "    <tr>\n",
       "      <th>0</th>\n",
       "      <td>eabbdf4029734c848a9da20779637d03</td>\n",
       "      <td>9a5aead62c344207b2624dba90985dc5</td>\n",
       "    </tr>\n",
       "    <tr>\n",
       "      <th>1</th>\n",
       "      <td>eabbdf4029734c848a9da20779637d03</td>\n",
       "      <td>ea7122da1c7b4244a2184a4f9f944053</td>\n",
       "    </tr>\n",
       "    <tr>\n",
       "      <th>2</th>\n",
       "      <td>eabbdf4029734c848a9da20779637d03</td>\n",
       "      <td>cba603f34acb4a40b3ccb53fe6681b5d</td>\n",
       "    </tr>\n",
       "    <tr>\n",
       "      <th>3</th>\n",
       "      <td>eabbdf4029734c848a9da20779637d03</td>\n",
       "      <td>fa9a126e63714641ae0145557a390cab</td>\n",
       "    </tr>\n",
       "    <tr>\n",
       "      <th>4</th>\n",
       "      <td>eabbdf4029734c848a9da20779637d03</td>\n",
       "      <td>299da113c5d1420ab525106c242c9429</td>\n",
       "    </tr>\n",
       "  </tbody>\n",
       "</table>\n",
       "</div>"
      ],
      "text/plain": [
       "         group_memberships_group_id         group_memberships_user_id\n",
       "0  eabbdf4029734c848a9da20779637d03  9a5aead62c344207b2624dba90985dc5\n",
       "1  eabbdf4029734c848a9da20779637d03  ea7122da1c7b4244a2184a4f9f944053\n",
       "2  eabbdf4029734c848a9da20779637d03  cba603f34acb4a40b3ccb53fe6681b5d\n",
       "3  eabbdf4029734c848a9da20779637d03  fa9a126e63714641ae0145557a390cab\n",
       "4  eabbdf4029734c848a9da20779637d03  299da113c5d1420ab525106c242c9429"
      ]
     },
     "execution_count": 13,
     "metadata": {},
     "output_type": "execute_result"
    }
   ],
   "source": [
    "# display the first 5 rows of group membership.\n",
    "group_memberships.head()"
   ]
  },
  {
   "cell_type": "code",
   "execution_count": 14,
   "id": "9ec0ed00-11a2-45e4-bf95-10e2e2d9962e",
   "metadata": {},
   "outputs": [],
   "source": [
    "# rename common columns in dataframes to can be able make relations and merging them.\n",
    "group_memberships.rename(columns={'group_memberships_group_id':'group_id','group_memberships_user_id':'user_id'},inplace=True)"
   ]
  },
  {
   "cell_type": "code",
   "execution_count": 15,
   "id": "ba49c458-9bf2-4641-aeb0-fee99f2ad483",
   "metadata": {},
   "outputs": [
    {
     "name": "stdout",
     "output_type": "stream",
     "text": [
      "<class 'pandas.core.frame.DataFrame'>\n",
      "RangeIndex: 1038 entries, 0 to 1037\n",
      "Data columns (total 2 columns):\n",
      " #   Column    Non-Null Count  Dtype \n",
      "---  ------    --------------  ----- \n",
      " 0   group_id  1038 non-null   object\n",
      " 1   user_id   1038 non-null   object\n",
      "dtypes: object(2)\n",
      "memory usage: 16.3+ KB\n"
     ]
    }
   ],
   "source": [
    "# get information about group menbership.\n",
    "group_memberships.info()"
   ]
  },
  {
   "cell_type": "code",
   "execution_count": 16,
   "id": "982b1135-102e-4f9f-9685-da9636290c07",
   "metadata": {
    "scrolled": true
   },
   "outputs": [
    {
     "data": {
      "text/html": [
       "<div>\n",
       "<style scoped>\n",
       "    .dataframe tbody tr th:only-of-type {\n",
       "        vertical-align: middle;\n",
       "    }\n",
       "\n",
       "    .dataframe tbody tr th {\n",
       "        vertical-align: top;\n",
       "    }\n",
       "\n",
       "    .dataframe thead th {\n",
       "        text-align: right;\n",
       "    }\n",
       "</style>\n",
       "<table border=\"1\" class=\"dataframe\">\n",
       "  <thead>\n",
       "    <tr style=\"text-align: right;\">\n",
       "      <th></th>\n",
       "      <th>groups_id</th>\n",
       "      <th>groups_group_type</th>\n",
       "    </tr>\n",
       "  </thead>\n",
       "  <tbody>\n",
       "    <tr>\n",
       "      <th>0</th>\n",
       "      <td>eabbdf4029734c848a9da20779637d03</td>\n",
       "      <td>youth program</td>\n",
       "    </tr>\n",
       "    <tr>\n",
       "      <th>1</th>\n",
       "      <td>7080bf8dcf78463bb03e6863887fd715</td>\n",
       "      <td>youth program</td>\n",
       "    </tr>\n",
       "    <tr>\n",
       "      <th>2</th>\n",
       "      <td>bc6fc50a2b444efc8ec47111b290ffb8</td>\n",
       "      <td>youth program</td>\n",
       "    </tr>\n",
       "    <tr>\n",
       "      <th>3</th>\n",
       "      <td>37f002e8d5e442ca8e36e972eaa55882</td>\n",
       "      <td>youth program</td>\n",
       "    </tr>\n",
       "    <tr>\n",
       "      <th>4</th>\n",
       "      <td>52419ff84d4b47bebd0b0a6c1263c296</td>\n",
       "      <td>youth program</td>\n",
       "    </tr>\n",
       "  </tbody>\n",
       "</table>\n",
       "</div>"
      ],
      "text/plain": [
       "                          groups_id groups_group_type\n",
       "0  eabbdf4029734c848a9da20779637d03     youth program\n",
       "1  7080bf8dcf78463bb03e6863887fd715     youth program\n",
       "2  bc6fc50a2b444efc8ec47111b290ffb8     youth program\n",
       "3  37f002e8d5e442ca8e36e972eaa55882     youth program\n",
       "4  52419ff84d4b47bebd0b0a6c1263c296     youth program"
      ]
     },
     "execution_count": 16,
     "metadata": {},
     "output_type": "execute_result"
    }
   ],
   "source": [
    "# display the first 5 rows of groups.\n",
    "groups.head()"
   ]
  },
  {
   "cell_type": "code",
   "execution_count": 17,
   "id": "5cc5aa97-c0f7-4840-b0d5-911391c4053b",
   "metadata": {},
   "outputs": [],
   "source": [
    "# rename common columns in dataframes to can be able make relations and merging them.\n",
    "groups.rename(columns={'groups_id':'group_id','groups_group_type':'group_type'},inplace=True)"
   ]
  },
  {
   "cell_type": "code",
   "execution_count": 18,
   "id": "8790f585-ea46-4145-a459-669057fa7b88",
   "metadata": {},
   "outputs": [
    {
     "name": "stdout",
     "output_type": "stream",
     "text": [
      "<class 'pandas.core.frame.DataFrame'>\n",
      "RangeIndex: 49 entries, 0 to 48\n",
      "Data columns (total 2 columns):\n",
      " #   Column      Non-Null Count  Dtype \n",
      "---  ------      --------------  ----- \n",
      " 0   group_id    49 non-null     object\n",
      " 1   group_type  49 non-null     object\n",
      "dtypes: object(2)\n",
      "memory usage: 916.0+ bytes\n"
     ]
    }
   ],
   "source": [
    "# get information about groups.\n",
    "groups.info()"
   ]
  },
  {
   "cell_type": "code",
   "execution_count": 19,
   "id": "f4821254-3fa7-4b32-b216-c9be3ae6e4c4",
   "metadata": {
    "scrolled": true
   },
   "outputs": [
    {
     "data": {
      "text/html": [
       "<div>\n",
       "<style scoped>\n",
       "    .dataframe tbody tr th:only-of-type {\n",
       "        vertical-align: middle;\n",
       "    }\n",
       "\n",
       "    .dataframe tbody tr th {\n",
       "        vertical-align: top;\n",
       "    }\n",
       "\n",
       "    .dataframe thead th {\n",
       "        text-align: right;\n",
       "    }\n",
       "</style>\n",
       "<table border=\"1\" class=\"dataframe\">\n",
       "  <thead>\n",
       "    <tr style=\"text-align: right;\">\n",
       "      <th></th>\n",
       "      <th>matches_email_id</th>\n",
       "      <th>matches_question_id</th>\n",
       "    </tr>\n",
       "  </thead>\n",
       "  <tbody>\n",
       "    <tr>\n",
       "      <th>0</th>\n",
       "      <td>1721939</td>\n",
       "      <td>332a511f1569444485cf7a7a556a5e54</td>\n",
       "    </tr>\n",
       "    <tr>\n",
       "      <th>1</th>\n",
       "      <td>1665388</td>\n",
       "      <td>332a511f1569444485cf7a7a556a5e54</td>\n",
       "    </tr>\n",
       "    <tr>\n",
       "      <th>2</th>\n",
       "      <td>1636634</td>\n",
       "      <td>332a511f1569444485cf7a7a556a5e54</td>\n",
       "    </tr>\n",
       "    <tr>\n",
       "      <th>3</th>\n",
       "      <td>1635498</td>\n",
       "      <td>332a511f1569444485cf7a7a556a5e54</td>\n",
       "    </tr>\n",
       "    <tr>\n",
       "      <th>4</th>\n",
       "      <td>1620298</td>\n",
       "      <td>332a511f1569444485cf7a7a556a5e54</td>\n",
       "    </tr>\n",
       "  </tbody>\n",
       "</table>\n",
       "</div>"
      ],
      "text/plain": [
       "   matches_email_id               matches_question_id\n",
       "0           1721939  332a511f1569444485cf7a7a556a5e54\n",
       "1           1665388  332a511f1569444485cf7a7a556a5e54\n",
       "2           1636634  332a511f1569444485cf7a7a556a5e54\n",
       "3           1635498  332a511f1569444485cf7a7a556a5e54\n",
       "4           1620298  332a511f1569444485cf7a7a556a5e54"
      ]
     },
     "execution_count": 19,
     "metadata": {},
     "output_type": "execute_result"
    }
   ],
   "source": [
    "# display the first 5 rows of matches.\n",
    "matches.head()"
   ]
  },
  {
   "cell_type": "code",
   "execution_count": 20,
   "id": "04c04d90-8531-4abc-b083-eca177cba1f4",
   "metadata": {},
   "outputs": [],
   "source": [
    "# rename common columns in dataframes to can be able make relations and merging them.\n",
    "matches.rename(columns={'matches_email_id':'emails_id','matches_question_id':'question_id'},inplace=True)"
   ]
  },
  {
   "cell_type": "code",
   "execution_count": 21,
   "id": "9f8aaa48-4997-40c4-98f6-1626f1283693",
   "metadata": {},
   "outputs": [
    {
     "name": "stdout",
     "output_type": "stream",
     "text": [
      "<class 'pandas.core.frame.DataFrame'>\n",
      "RangeIndex: 4316275 entries, 0 to 4316274\n",
      "Data columns (total 2 columns):\n",
      " #   Column       Dtype \n",
      "---  ------       ----- \n",
      " 0   emails_id    int64 \n",
      " 1   question_id  object\n",
      "dtypes: int64(1), object(1)\n",
      "memory usage: 65.9+ MB\n"
     ]
    }
   ],
   "source": [
    "# get information about matches.\n",
    "matches.info()"
   ]
  },
  {
   "cell_type": "code",
   "execution_count": 22,
   "id": "1920e614-bd4e-415c-b802-b487215a1cad",
   "metadata": {},
   "outputs": [
    {
     "data": {
      "text/html": [
       "<div>\n",
       "<style scoped>\n",
       "    .dataframe tbody tr th:only-of-type {\n",
       "        vertical-align: middle;\n",
       "    }\n",
       "\n",
       "    .dataframe tbody tr th {\n",
       "        vertical-align: top;\n",
       "    }\n",
       "\n",
       "    .dataframe thead th {\n",
       "        text-align: right;\n",
       "    }\n",
       "</style>\n",
       "<table border=\"1\" class=\"dataframe\">\n",
       "  <thead>\n",
       "    <tr style=\"text-align: right;\">\n",
       "      <th></th>\n",
       "      <th>professionals_id</th>\n",
       "      <th>professionals_location</th>\n",
       "      <th>professionals_industry</th>\n",
       "      <th>professionals_headline</th>\n",
       "      <th>professionals_date_joined</th>\n",
       "    </tr>\n",
       "  </thead>\n",
       "  <tbody>\n",
       "    <tr>\n",
       "      <th>0</th>\n",
       "      <td>9ced4ce7519049c0944147afb75a8ce3</td>\n",
       "      <td>NaN</td>\n",
       "      <td>NaN</td>\n",
       "      <td>NaN</td>\n",
       "      <td>2011-10-05 20:35:19 UTC+0000</td>\n",
       "    </tr>\n",
       "    <tr>\n",
       "      <th>1</th>\n",
       "      <td>f718dcf6d2ec4cb0a52a9db59d7f9e67</td>\n",
       "      <td>NaN</td>\n",
       "      <td>NaN</td>\n",
       "      <td>NaN</td>\n",
       "      <td>2011-10-05 20:49:21 UTC+0000</td>\n",
       "    </tr>\n",
       "    <tr>\n",
       "      <th>2</th>\n",
       "      <td>0c673e046d824ec0ad0ebe012a0673e4</td>\n",
       "      <td>New York, New York</td>\n",
       "      <td>NaN</td>\n",
       "      <td>NaN</td>\n",
       "      <td>2011-10-18 17:31:26 UTC+0000</td>\n",
       "    </tr>\n",
       "    <tr>\n",
       "      <th>3</th>\n",
       "      <td>977428d851b24183b223be0eb8619a8c</td>\n",
       "      <td>Boston, Massachusetts</td>\n",
       "      <td>NaN</td>\n",
       "      <td>NaN</td>\n",
       "      <td>2011-11-09 20:39:29 UTC+0000</td>\n",
       "    </tr>\n",
       "    <tr>\n",
       "      <th>4</th>\n",
       "      <td>e2d57e5041a44f489288397c9904c2b2</td>\n",
       "      <td>NaN</td>\n",
       "      <td>NaN</td>\n",
       "      <td>NaN</td>\n",
       "      <td>2011-12-10 22:14:44 UTC+0000</td>\n",
       "    </tr>\n",
       "  </tbody>\n",
       "</table>\n",
       "</div>"
      ],
      "text/plain": [
       "                   professionals_id professionals_location  \\\n",
       "0  9ced4ce7519049c0944147afb75a8ce3                    NaN   \n",
       "1  f718dcf6d2ec4cb0a52a9db59d7f9e67                    NaN   \n",
       "2  0c673e046d824ec0ad0ebe012a0673e4     New York, New York   \n",
       "3  977428d851b24183b223be0eb8619a8c  Boston, Massachusetts   \n",
       "4  e2d57e5041a44f489288397c9904c2b2                    NaN   \n",
       "\n",
       "  professionals_industry professionals_headline     professionals_date_joined  \n",
       "0                    NaN                    NaN  2011-10-05 20:35:19 UTC+0000  \n",
       "1                    NaN                    NaN  2011-10-05 20:49:21 UTC+0000  \n",
       "2                    NaN                    NaN  2011-10-18 17:31:26 UTC+0000  \n",
       "3                    NaN                    NaN  2011-11-09 20:39:29 UTC+0000  \n",
       "4                    NaN                    NaN  2011-12-10 22:14:44 UTC+0000  "
      ]
     },
     "execution_count": 22,
     "metadata": {},
     "output_type": "execute_result"
    }
   ],
   "source": [
    "# display the first 5 rows of professionals.\n",
    "professionals.head()"
   ]
  },
  {
   "cell_type": "code",
   "execution_count": 23,
   "id": "1e661cfe-7d39-4b71-878d-ade9d4bc2489",
   "metadata": {},
   "outputs": [
    {
     "name": "stdout",
     "output_type": "stream",
     "text": [
      "<class 'pandas.core.frame.DataFrame'>\n",
      "RangeIndex: 28152 entries, 0 to 28151\n",
      "Data columns (total 5 columns):\n",
      " #   Column                     Non-Null Count  Dtype \n",
      "---  ------                     --------------  ----- \n",
      " 0   professionals_id           28152 non-null  object\n",
      " 1   professionals_location     25054 non-null  object\n",
      " 2   professionals_industry     25575 non-null  object\n",
      " 3   professionals_headline     26084 non-null  object\n",
      " 4   professionals_date_joined  28152 non-null  object\n",
      "dtypes: object(5)\n",
      "memory usage: 1.1+ MB\n"
     ]
    }
   ],
   "source": [
    "# get information about professionals.\n",
    "professionals.info()"
   ]
  },
  {
   "cell_type": "code",
   "execution_count": 24,
   "id": "dc80b3ea-89e2-40f8-be10-c4e2d74045eb",
   "metadata": {
    "scrolled": true
   },
   "outputs": [
    {
     "data": {
      "text/html": [
       "<div>\n",
       "<style scoped>\n",
       "    .dataframe tbody tr th:only-of-type {\n",
       "        vertical-align: middle;\n",
       "    }\n",
       "\n",
       "    .dataframe tbody tr th {\n",
       "        vertical-align: top;\n",
       "    }\n",
       "\n",
       "    .dataframe thead th {\n",
       "        text-align: right;\n",
       "    }\n",
       "</style>\n",
       "<table border=\"1\" class=\"dataframe\">\n",
       "  <thead>\n",
       "    <tr style=\"text-align: right;\">\n",
       "      <th></th>\n",
       "      <th>questions_id</th>\n",
       "      <th>questions_author_id</th>\n",
       "      <th>questions_date_added</th>\n",
       "      <th>questions_title</th>\n",
       "      <th>questions_body</th>\n",
       "    </tr>\n",
       "  </thead>\n",
       "  <tbody>\n",
       "    <tr>\n",
       "      <th>0</th>\n",
       "      <td>332a511f1569444485cf7a7a556a5e54</td>\n",
       "      <td>8f6f374ffd834d258ab69d376dd998f5</td>\n",
       "      <td>2016-04-26 11:14:26 UTC+0000</td>\n",
       "      <td>Teacher   career   question</td>\n",
       "      <td>What  is  a  maths  teacher?   what  is  a  ma...</td>\n",
       "    </tr>\n",
       "    <tr>\n",
       "      <th>1</th>\n",
       "      <td>eb80205482e4424cad8f16bc25aa2d9c</td>\n",
       "      <td>acccbda28edd4362ab03fb8b6fd2d67b</td>\n",
       "      <td>2016-05-20 16:48:25 UTC+0000</td>\n",
       "      <td>I want to become an army officer. What can I d...</td>\n",
       "      <td>I am Priyanka from Bangalore . Now am in 10th ...</td>\n",
       "    </tr>\n",
       "    <tr>\n",
       "      <th>2</th>\n",
       "      <td>4ec31632938a40b98909416bdd0decff</td>\n",
       "      <td>f2c179a563024ccc927399ce529094b5</td>\n",
       "      <td>2017-02-08 19:13:38 UTC+0000</td>\n",
       "      <td>Will going abroad for your first job increase ...</td>\n",
       "      <td>I'm planning on going abroad for my first job....</td>\n",
       "    </tr>\n",
       "    <tr>\n",
       "      <th>3</th>\n",
       "      <td>2f6a9a99d9b24e5baa50d40d0ba50a75</td>\n",
       "      <td>2c30ffba444e40eabb4583b55233a5a4</td>\n",
       "      <td>2017-09-01 14:05:32 UTC+0000</td>\n",
       "      <td>To become a specialist in business  management...</td>\n",
       "      <td>i hear business management is a hard way to ge...</td>\n",
       "    </tr>\n",
       "    <tr>\n",
       "      <th>4</th>\n",
       "      <td>5af8880460c141dbb02971a1a8369529</td>\n",
       "      <td>aa9eb1a2ab184ebbb00dc01ab663428a</td>\n",
       "      <td>2017-09-01 02:36:54 UTC+0000</td>\n",
       "      <td>Are there any scholarships out there for stude...</td>\n",
       "      <td>I'm trying to find scholarships for first year...</td>\n",
       "    </tr>\n",
       "  </tbody>\n",
       "</table>\n",
       "</div>"
      ],
      "text/plain": [
       "                       questions_id               questions_author_id  \\\n",
       "0  332a511f1569444485cf7a7a556a5e54  8f6f374ffd834d258ab69d376dd998f5   \n",
       "1  eb80205482e4424cad8f16bc25aa2d9c  acccbda28edd4362ab03fb8b6fd2d67b   \n",
       "2  4ec31632938a40b98909416bdd0decff  f2c179a563024ccc927399ce529094b5   \n",
       "3  2f6a9a99d9b24e5baa50d40d0ba50a75  2c30ffba444e40eabb4583b55233a5a4   \n",
       "4  5af8880460c141dbb02971a1a8369529  aa9eb1a2ab184ebbb00dc01ab663428a   \n",
       "\n",
       "           questions_date_added  \\\n",
       "0  2016-04-26 11:14:26 UTC+0000   \n",
       "1  2016-05-20 16:48:25 UTC+0000   \n",
       "2  2017-02-08 19:13:38 UTC+0000   \n",
       "3  2017-09-01 14:05:32 UTC+0000   \n",
       "4  2017-09-01 02:36:54 UTC+0000   \n",
       "\n",
       "                                     questions_title  \\\n",
       "0                        Teacher   career   question   \n",
       "1  I want to become an army officer. What can I d...   \n",
       "2  Will going abroad for your first job increase ...   \n",
       "3  To become a specialist in business  management...   \n",
       "4  Are there any scholarships out there for stude...   \n",
       "\n",
       "                                      questions_body  \n",
       "0  What  is  a  maths  teacher?   what  is  a  ma...  \n",
       "1  I am Priyanka from Bangalore . Now am in 10th ...  \n",
       "2  I'm planning on going abroad for my first job....  \n",
       "3  i hear business management is a hard way to ge...  \n",
       "4  I'm trying to find scholarships for first year...  "
      ]
     },
     "execution_count": 24,
     "metadata": {},
     "output_type": "execute_result"
    }
   ],
   "source": [
    "# display the first 5 rows of questions.\n",
    "questions.head()"
   ]
  },
  {
   "cell_type": "code",
   "execution_count": 25,
   "id": "a4b64cab-baf0-4353-8578-fb89160868a9",
   "metadata": {},
   "outputs": [],
   "source": [
    "# rename common columns in dataframes to can be able make relations and merging them.\n",
    "questions.rename(columns={'questions_author_id':'author_id','questions_id':'question_id'},inplace=True)"
   ]
  },
  {
   "cell_type": "code",
   "execution_count": 26,
   "id": "851efea8-f486-4e3b-9d99-3954629c0fda",
   "metadata": {},
   "outputs": [
    {
     "name": "stdout",
     "output_type": "stream",
     "text": [
      "<class 'pandas.core.frame.DataFrame'>\n",
      "RangeIndex: 23931 entries, 0 to 23930\n",
      "Data columns (total 5 columns):\n",
      " #   Column                Non-Null Count  Dtype \n",
      "---  ------                --------------  ----- \n",
      " 0   question_id           23931 non-null  object\n",
      " 1   author_id             23931 non-null  object\n",
      " 2   questions_date_added  23931 non-null  object\n",
      " 3   questions_title       23931 non-null  object\n",
      " 4   questions_body        23931 non-null  object\n",
      "dtypes: object(5)\n",
      "memory usage: 934.9+ KB\n"
     ]
    }
   ],
   "source": [
    "# get information about questions.\n",
    "questions.info()"
   ]
  },
  {
   "cell_type": "code",
   "execution_count": 27,
   "id": "78468c66-0a96-44d8-a5df-c798bd9a30f9",
   "metadata": {
    "scrolled": true
   },
   "outputs": [
    {
     "data": {
      "text/html": [
       "<div>\n",
       "<style scoped>\n",
       "    .dataframe tbody tr th:only-of-type {\n",
       "        vertical-align: middle;\n",
       "    }\n",
       "\n",
       "    .dataframe tbody tr th {\n",
       "        vertical-align: top;\n",
       "    }\n",
       "\n",
       "    .dataframe thead th {\n",
       "        text-align: right;\n",
       "    }\n",
       "</style>\n",
       "<table border=\"1\" class=\"dataframe\">\n",
       "  <thead>\n",
       "    <tr style=\"text-align: right;\">\n",
       "      <th></th>\n",
       "      <th>id</th>\n",
       "      <th>score</th>\n",
       "    </tr>\n",
       "  </thead>\n",
       "  <tbody>\n",
       "    <tr>\n",
       "      <th>0</th>\n",
       "      <td>38436aadef3d4b608ad089cf53ab0fe7</td>\n",
       "      <td>5</td>\n",
       "    </tr>\n",
       "    <tr>\n",
       "      <th>1</th>\n",
       "      <td>edb8c179c5d64c9cb812a59a32045f55</td>\n",
       "      <td>4</td>\n",
       "    </tr>\n",
       "    <tr>\n",
       "      <th>2</th>\n",
       "      <td>333464d7484b43e3866e86096bc4ddb9</td>\n",
       "      <td>6</td>\n",
       "    </tr>\n",
       "    <tr>\n",
       "      <th>3</th>\n",
       "      <td>4b995e60b99d4ee18346e893e007cb8f</td>\n",
       "      <td>6</td>\n",
       "    </tr>\n",
       "    <tr>\n",
       "      <th>4</th>\n",
       "      <td>f6b9ca94aed04ba28256492708e74f60</td>\n",
       "      <td>6</td>\n",
       "    </tr>\n",
       "  </tbody>\n",
       "</table>\n",
       "</div>"
      ],
      "text/plain": [
       "                                 id  score\n",
       "0  38436aadef3d4b608ad089cf53ab0fe7      5\n",
       "1  edb8c179c5d64c9cb812a59a32045f55      4\n",
       "2  333464d7484b43e3866e86096bc4ddb9      6\n",
       "3  4b995e60b99d4ee18346e893e007cb8f      6\n",
       "4  f6b9ca94aed04ba28256492708e74f60      6"
      ]
     },
     "execution_count": 27,
     "metadata": {},
     "output_type": "execute_result"
    }
   ],
   "source": [
    "# display the first 5 rows of question score.\n",
    "question_scores.head()"
   ]
  },
  {
   "cell_type": "code",
   "execution_count": 28,
   "id": "cc25969e-c98f-4159-a1e9-5652eb08979e",
   "metadata": {},
   "outputs": [],
   "source": [
    "# rename common columns in dataframes to can be able make relations and merging them.\n",
    "question_scores.rename(columns={'id':'question_id'},inplace=True)"
   ]
  },
  {
   "cell_type": "code",
   "execution_count": 29,
   "id": "b05b0f43-c642-41e4-ba20-c7c7baa62fc8",
   "metadata": {},
   "outputs": [
    {
     "name": "stdout",
     "output_type": "stream",
     "text": [
      "<class 'pandas.core.frame.DataFrame'>\n",
      "RangeIndex: 23928 entries, 0 to 23927\n",
      "Data columns (total 2 columns):\n",
      " #   Column       Non-Null Count  Dtype \n",
      "---  ------       --------------  ----- \n",
      " 0   question_id  23928 non-null  object\n",
      " 1   score        23928 non-null  int64 \n",
      "dtypes: int64(1), object(1)\n",
      "memory usage: 374.0+ KB\n"
     ]
    }
   ],
   "source": [
    "# get information about question score.\n",
    "question_scores.info()"
   ]
  },
  {
   "cell_type": "code",
   "execution_count": 30,
   "id": "cc7a688c-4d5a-4074-9c72-13b33fb4b289",
   "metadata": {},
   "outputs": [
    {
     "data": {
      "text/html": [
       "<div>\n",
       "<style scoped>\n",
       "    .dataframe tbody tr th:only-of-type {\n",
       "        vertical-align: middle;\n",
       "    }\n",
       "\n",
       "    .dataframe tbody tr th {\n",
       "        vertical-align: top;\n",
       "    }\n",
       "\n",
       "    .dataframe thead th {\n",
       "        text-align: right;\n",
       "    }\n",
       "</style>\n",
       "<table border=\"1\" class=\"dataframe\">\n",
       "  <thead>\n",
       "    <tr style=\"text-align: right;\">\n",
       "      <th></th>\n",
       "      <th>school_memberships_school_id</th>\n",
       "      <th>school_memberships_user_id</th>\n",
       "    </tr>\n",
       "  </thead>\n",
       "  <tbody>\n",
       "    <tr>\n",
       "      <th>0</th>\n",
       "      <td>197406</td>\n",
       "      <td>23dce13ca6164a73aec7a3cd56a4884d</td>\n",
       "    </tr>\n",
       "    <tr>\n",
       "      <th>1</th>\n",
       "      <td>197398</td>\n",
       "      <td>23dce13ca6164a73aec7a3cd56a4884d</td>\n",
       "    </tr>\n",
       "    <tr>\n",
       "      <th>2</th>\n",
       "      <td>199821</td>\n",
       "      <td>23dce13ca6164a73aec7a3cd56a4884d</td>\n",
       "    </tr>\n",
       "    <tr>\n",
       "      <th>3</th>\n",
       "      <td>186239</td>\n",
       "      <td>9c5803ae43ca4cf6b27ea85871625116</td>\n",
       "    </tr>\n",
       "    <tr>\n",
       "      <th>4</th>\n",
       "      <td>182063</td>\n",
       "      <td>9c5803ae43ca4cf6b27ea85871625116</td>\n",
       "    </tr>\n",
       "  </tbody>\n",
       "</table>\n",
       "</div>"
      ],
      "text/plain": [
       "   school_memberships_school_id        school_memberships_user_id\n",
       "0                        197406  23dce13ca6164a73aec7a3cd56a4884d\n",
       "1                        197398  23dce13ca6164a73aec7a3cd56a4884d\n",
       "2                        199821  23dce13ca6164a73aec7a3cd56a4884d\n",
       "3                        186239  9c5803ae43ca4cf6b27ea85871625116\n",
       "4                        182063  9c5803ae43ca4cf6b27ea85871625116"
      ]
     },
     "execution_count": 30,
     "metadata": {},
     "output_type": "execute_result"
    }
   ],
   "source": [
    "# display the first 5 rows of school membership.\n",
    "school_memberships.head()"
   ]
  },
  {
   "cell_type": "code",
   "execution_count": 31,
   "id": "8c9f10c8-0641-4044-99b1-fdbfe6234e09",
   "metadata": {},
   "outputs": [],
   "source": [
    "# rename common columns in dataframes to can be able make relations and merging them.\n",
    "school_memberships.rename(columns={'school_memberships_school_id':'school_id','school_memberships_user_id':'user_id'},inplace=True)"
   ]
  },
  {
   "cell_type": "code",
   "execution_count": 32,
   "id": "344d48f0-5215-4bc0-a665-1c1727e7390d",
   "metadata": {},
   "outputs": [
    {
     "name": "stdout",
     "output_type": "stream",
     "text": [
      "<class 'pandas.core.frame.DataFrame'>\n",
      "RangeIndex: 5638 entries, 0 to 5637\n",
      "Data columns (total 2 columns):\n",
      " #   Column     Non-Null Count  Dtype \n",
      "---  ------     --------------  ----- \n",
      " 0   school_id  5638 non-null   int64 \n",
      " 1   user_id    5638 non-null   object\n",
      "dtypes: int64(1), object(1)\n",
      "memory usage: 88.2+ KB\n"
     ]
    }
   ],
   "source": [
    "# get informations about school membership.\n",
    "school_memberships.info()"
   ]
  },
  {
   "cell_type": "code",
   "execution_count": 33,
   "id": "ed4e99e5-d6bb-4ccd-9019-7e96a2fd4507",
   "metadata": {},
   "outputs": [
    {
     "data": {
      "text/html": [
       "<div>\n",
       "<style scoped>\n",
       "    .dataframe tbody tr th:only-of-type {\n",
       "        vertical-align: middle;\n",
       "    }\n",
       "\n",
       "    .dataframe tbody tr th {\n",
       "        vertical-align: top;\n",
       "    }\n",
       "\n",
       "    .dataframe thead th {\n",
       "        text-align: right;\n",
       "    }\n",
       "</style>\n",
       "<table border=\"1\" class=\"dataframe\">\n",
       "  <thead>\n",
       "    <tr style=\"text-align: right;\">\n",
       "      <th></th>\n",
       "      <th>students_id</th>\n",
       "      <th>students_location</th>\n",
       "      <th>students_date_joined</th>\n",
       "    </tr>\n",
       "  </thead>\n",
       "  <tbody>\n",
       "    <tr>\n",
       "      <th>0</th>\n",
       "      <td>12a89e96755a4dba83ff03e03043d9c0</td>\n",
       "      <td>NaN</td>\n",
       "      <td>2011-12-16 14:19:24 UTC+0000</td>\n",
       "    </tr>\n",
       "    <tr>\n",
       "      <th>1</th>\n",
       "      <td>e37a5990fe354c60be5e87376b08d5e3</td>\n",
       "      <td>NaN</td>\n",
       "      <td>2011-12-27 03:02:44 UTC+0000</td>\n",
       "    </tr>\n",
       "    <tr>\n",
       "      <th>2</th>\n",
       "      <td>12b402cceeda43dcb6e12ef9f2d221ea</td>\n",
       "      <td>NaN</td>\n",
       "      <td>2012-01-01 05:00:00 UTC+0000</td>\n",
       "    </tr>\n",
       "    <tr>\n",
       "      <th>3</th>\n",
       "      <td>a0f431fc79794edcb104f68ce55ab897</td>\n",
       "      <td>NaN</td>\n",
       "      <td>2012-01-01 05:00:00 UTC+0000</td>\n",
       "    </tr>\n",
       "    <tr>\n",
       "      <th>4</th>\n",
       "      <td>23aea4702d804bd88d1e9fb28074a1b4</td>\n",
       "      <td>NaN</td>\n",
       "      <td>2012-01-01 05:00:00 UTC+0000</td>\n",
       "    </tr>\n",
       "  </tbody>\n",
       "</table>\n",
       "</div>"
      ],
      "text/plain": [
       "                        students_id students_location  \\\n",
       "0  12a89e96755a4dba83ff03e03043d9c0               NaN   \n",
       "1  e37a5990fe354c60be5e87376b08d5e3               NaN   \n",
       "2  12b402cceeda43dcb6e12ef9f2d221ea               NaN   \n",
       "3  a0f431fc79794edcb104f68ce55ab897               NaN   \n",
       "4  23aea4702d804bd88d1e9fb28074a1b4               NaN   \n",
       "\n",
       "           students_date_joined  \n",
       "0  2011-12-16 14:19:24 UTC+0000  \n",
       "1  2011-12-27 03:02:44 UTC+0000  \n",
       "2  2012-01-01 05:00:00 UTC+0000  \n",
       "3  2012-01-01 05:00:00 UTC+0000  \n",
       "4  2012-01-01 05:00:00 UTC+0000  "
      ]
     },
     "execution_count": 33,
     "metadata": {},
     "output_type": "execute_result"
    }
   ],
   "source": [
    "# display the first 5 rows of students.\n",
    "students.head()"
   ]
  },
  {
   "cell_type": "code",
   "execution_count": 34,
   "id": "6127d9b4-047d-476d-8e30-785e19f0aea0",
   "metadata": {},
   "outputs": [
    {
     "name": "stdout",
     "output_type": "stream",
     "text": [
      "<class 'pandas.core.frame.DataFrame'>\n",
      "RangeIndex: 30971 entries, 0 to 30970\n",
      "Data columns (total 3 columns):\n",
      " #   Column                Non-Null Count  Dtype \n",
      "---  ------                --------------  ----- \n",
      " 0   students_id           30971 non-null  object\n",
      " 1   students_location     28938 non-null  object\n",
      " 2   students_date_joined  30971 non-null  object\n",
      "dtypes: object(3)\n",
      "memory usage: 726.0+ KB\n"
     ]
    }
   ],
   "source": [
    "# get information about students.\n",
    "students.info()"
   ]
  },
  {
   "cell_type": "code",
   "execution_count": 35,
   "id": "e51a94c5-3b18-4091-9360-1512b55e35e5",
   "metadata": {
    "scrolled": true
   },
   "outputs": [
    {
     "data": {
      "text/html": [
       "<div>\n",
       "<style scoped>\n",
       "    .dataframe tbody tr th:only-of-type {\n",
       "        vertical-align: middle;\n",
       "    }\n",
       "\n",
       "    .dataframe tbody tr th {\n",
       "        vertical-align: top;\n",
       "    }\n",
       "\n",
       "    .dataframe thead th {\n",
       "        text-align: right;\n",
       "    }\n",
       "</style>\n",
       "<table border=\"1\" class=\"dataframe\">\n",
       "  <thead>\n",
       "    <tr style=\"text-align: right;\">\n",
       "      <th></th>\n",
       "      <th>tags_tag_id</th>\n",
       "      <th>tags_tag_name</th>\n",
       "    </tr>\n",
       "  </thead>\n",
       "  <tbody>\n",
       "    <tr>\n",
       "      <th>0</th>\n",
       "      <td>27490</td>\n",
       "      <td>college</td>\n",
       "    </tr>\n",
       "    <tr>\n",
       "      <th>1</th>\n",
       "      <td>461</td>\n",
       "      <td>computer-science</td>\n",
       "    </tr>\n",
       "    <tr>\n",
       "      <th>2</th>\n",
       "      <td>593</td>\n",
       "      <td>computer-software</td>\n",
       "    </tr>\n",
       "    <tr>\n",
       "      <th>3</th>\n",
       "      <td>27292</td>\n",
       "      <td>business</td>\n",
       "    </tr>\n",
       "    <tr>\n",
       "      <th>4</th>\n",
       "      <td>18217</td>\n",
       "      <td>doctor</td>\n",
       "    </tr>\n",
       "  </tbody>\n",
       "</table>\n",
       "</div>"
      ],
      "text/plain": [
       "   tags_tag_id      tags_tag_name\n",
       "0        27490            college\n",
       "1          461   computer-science\n",
       "2          593  computer-software\n",
       "3        27292           business\n",
       "4        18217             doctor"
      ]
     },
     "execution_count": 35,
     "metadata": {},
     "output_type": "execute_result"
    }
   ],
   "source": [
    "# display the first 5 rows of tags.\n",
    "tags.head()"
   ]
  },
  {
   "cell_type": "code",
   "execution_count": 36,
   "id": "7eebbc49-96fa-4d64-a42e-c2f61d7f96f7",
   "metadata": {},
   "outputs": [],
   "source": [
    "# rename common columns in dataframes to can be able make relations and merging them.\n",
    "tags.rename(columns={'tags_tag_id':'tag_id','tags_tag_name':'tag_name'},inplace=True)"
   ]
  },
  {
   "cell_type": "code",
   "execution_count": 37,
   "id": "3c223bce-36a8-420b-bb97-06729c17a969",
   "metadata": {},
   "outputs": [
    {
     "name": "stdout",
     "output_type": "stream",
     "text": [
      "<class 'pandas.core.frame.DataFrame'>\n",
      "RangeIndex: 16269 entries, 0 to 16268\n",
      "Data columns (total 2 columns):\n",
      " #   Column    Non-Null Count  Dtype \n",
      "---  ------    --------------  ----- \n",
      " 0   tag_id    16269 non-null  int64 \n",
      " 1   tag_name  16268 non-null  object\n",
      "dtypes: int64(1), object(1)\n",
      "memory usage: 254.3+ KB\n"
     ]
    }
   ],
   "source": [
    "# gt information about tags.\n",
    "tags.info()"
   ]
  },
  {
   "cell_type": "code",
   "execution_count": 38,
   "id": "3aab4d2b-8676-4df6-a0ad-aba745839606",
   "metadata": {
    "scrolled": true
   },
   "outputs": [
    {
     "data": {
      "text/html": [
       "<div>\n",
       "<style scoped>\n",
       "    .dataframe tbody tr th:only-of-type {\n",
       "        vertical-align: middle;\n",
       "    }\n",
       "\n",
       "    .dataframe tbody tr th {\n",
       "        vertical-align: top;\n",
       "    }\n",
       "\n",
       "    .dataframe thead th {\n",
       "        text-align: right;\n",
       "    }\n",
       "</style>\n",
       "<table border=\"1\" class=\"dataframe\">\n",
       "  <thead>\n",
       "    <tr style=\"text-align: right;\">\n",
       "      <th></th>\n",
       "      <th>tag_questions_tag_id</th>\n",
       "      <th>tag_questions_question_id</th>\n",
       "    </tr>\n",
       "  </thead>\n",
       "  <tbody>\n",
       "    <tr>\n",
       "      <th>0</th>\n",
       "      <td>28930</td>\n",
       "      <td>cb43ebee01364c68ac61d347a393ae39</td>\n",
       "    </tr>\n",
       "    <tr>\n",
       "      <th>1</th>\n",
       "      <td>28930</td>\n",
       "      <td>47f55e85ce944242a5a347ab85a8ffb4</td>\n",
       "    </tr>\n",
       "    <tr>\n",
       "      <th>2</th>\n",
       "      <td>28930</td>\n",
       "      <td>ccc30a033a0f4dfdb2eb987012f25792</td>\n",
       "    </tr>\n",
       "    <tr>\n",
       "      <th>3</th>\n",
       "      <td>28930</td>\n",
       "      <td>e30b274e48d741f7bf50eb5e7171a3c0</td>\n",
       "    </tr>\n",
       "    <tr>\n",
       "      <th>4</th>\n",
       "      <td>28930</td>\n",
       "      <td>3d22742052df4989b311b4195cbb0f1a</td>\n",
       "    </tr>\n",
       "  </tbody>\n",
       "</table>\n",
       "</div>"
      ],
      "text/plain": [
       "   tag_questions_tag_id         tag_questions_question_id\n",
       "0                 28930  cb43ebee01364c68ac61d347a393ae39\n",
       "1                 28930  47f55e85ce944242a5a347ab85a8ffb4\n",
       "2                 28930  ccc30a033a0f4dfdb2eb987012f25792\n",
       "3                 28930  e30b274e48d741f7bf50eb5e7171a3c0\n",
       "4                 28930  3d22742052df4989b311b4195cbb0f1a"
      ]
     },
     "execution_count": 38,
     "metadata": {},
     "output_type": "execute_result"
    }
   ],
   "source": [
    "# display the first 5 rows of tags question.\n",
    "tag_questions.head()"
   ]
  },
  {
   "cell_type": "code",
   "execution_count": 39,
   "id": "ae82ba75-2c5b-43fd-be56-467de2799f63",
   "metadata": {},
   "outputs": [],
   "source": [
    "# rename common columns in dataframes to can be able make relations and merging them.\n",
    "tag_questions.rename(columns={'tag_questions_tag_id':'tag_id','tag_questions_question_id':'question_id'}, inplace=True)"
   ]
  },
  {
   "cell_type": "code",
   "execution_count": 40,
   "id": "7ed9cd9a-4d74-43ab-aa6d-89481c160bdd",
   "metadata": {},
   "outputs": [
    {
     "name": "stdout",
     "output_type": "stream",
     "text": [
      "<class 'pandas.core.frame.DataFrame'>\n",
      "RangeIndex: 76553 entries, 0 to 76552\n",
      "Data columns (total 2 columns):\n",
      " #   Column       Non-Null Count  Dtype \n",
      "---  ------       --------------  ----- \n",
      " 0   tag_id       76553 non-null  int64 \n",
      " 1   question_id  76553 non-null  object\n",
      "dtypes: int64(1), object(1)\n",
      "memory usage: 1.2+ MB\n"
     ]
    }
   ],
   "source": [
    "# get informations about tag questions\n",
    "tag_questions.info()"
   ]
  },
  {
   "cell_type": "code",
   "execution_count": 41,
   "id": "2d6b7d6e-2538-4e15-a2d9-3e18965eaaee",
   "metadata": {
    "scrolled": true
   },
   "outputs": [
    {
     "data": {
      "text/html": [
       "<div>\n",
       "<style scoped>\n",
       "    .dataframe tbody tr th:only-of-type {\n",
       "        vertical-align: middle;\n",
       "    }\n",
       "\n",
       "    .dataframe tbody tr th {\n",
       "        vertical-align: top;\n",
       "    }\n",
       "\n",
       "    .dataframe thead th {\n",
       "        text-align: right;\n",
       "    }\n",
       "</style>\n",
       "<table border=\"1\" class=\"dataframe\">\n",
       "  <thead>\n",
       "    <tr style=\"text-align: right;\">\n",
       "      <th></th>\n",
       "      <th>tag_users_tag_id</th>\n",
       "      <th>tag_users_user_id</th>\n",
       "    </tr>\n",
       "  </thead>\n",
       "  <tbody>\n",
       "    <tr>\n",
       "      <th>0</th>\n",
       "      <td>593</td>\n",
       "      <td>c72ab38e073246e88da7e9a4ec7a4472</td>\n",
       "    </tr>\n",
       "    <tr>\n",
       "      <th>1</th>\n",
       "      <td>1642</td>\n",
       "      <td>8db519781ec24f2e8bdc67c2ac53f614</td>\n",
       "    </tr>\n",
       "    <tr>\n",
       "      <th>2</th>\n",
       "      <td>638</td>\n",
       "      <td>042d2184ee3e4e548fc3589baaa69caf</td>\n",
       "    </tr>\n",
       "    <tr>\n",
       "      <th>3</th>\n",
       "      <td>11093</td>\n",
       "      <td>c660bd0dc1b34224be78a58aa5a84a63</td>\n",
       "    </tr>\n",
       "    <tr>\n",
       "      <th>4</th>\n",
       "      <td>21539</td>\n",
       "      <td>8ce1dca4e94240239e4385ed22ef43ce</td>\n",
       "    </tr>\n",
       "  </tbody>\n",
       "</table>\n",
       "</div>"
      ],
      "text/plain": [
       "   tag_users_tag_id                 tag_users_user_id\n",
       "0               593  c72ab38e073246e88da7e9a4ec7a4472\n",
       "1              1642  8db519781ec24f2e8bdc67c2ac53f614\n",
       "2               638  042d2184ee3e4e548fc3589baaa69caf\n",
       "3             11093  c660bd0dc1b34224be78a58aa5a84a63\n",
       "4             21539  8ce1dca4e94240239e4385ed22ef43ce"
      ]
     },
     "execution_count": 41,
     "metadata": {},
     "output_type": "execute_result"
    }
   ],
   "source": [
    "# display the first 5 rows of tag users.\n",
    "tag_users.head()"
   ]
  },
  {
   "cell_type": "code",
   "execution_count": 42,
   "id": "84aa56c0-47c5-4671-a896-a07f604be54d",
   "metadata": {},
   "outputs": [],
   "source": [
    "# rename common columns in dataframes to can be able make relations and merging them.\n",
    "tag_users.rename(columns={'tag_users_tag_id':'tag_id','tag_users_user_id':'user_id'},inplace=True)"
   ]
  },
  {
   "cell_type": "code",
   "execution_count": 43,
   "id": "58db5e28-0c9c-4949-9f9f-e76a1e53a3de",
   "metadata": {},
   "outputs": [
    {
     "name": "stdout",
     "output_type": "stream",
     "text": [
      "<class 'pandas.core.frame.DataFrame'>\n",
      "RangeIndex: 136663 entries, 0 to 136662\n",
      "Data columns (total 2 columns):\n",
      " #   Column   Non-Null Count   Dtype \n",
      "---  ------   --------------   ----- \n",
      " 0   tag_id   136663 non-null  int64 \n",
      " 1   user_id  136663 non-null  object\n",
      "dtypes: int64(1), object(1)\n",
      "memory usage: 2.1+ MB\n"
     ]
    }
   ],
   "source": [
    "# get information about tag users.\n",
    "tag_users.info()"
   ]
  },
  {
   "cell_type": "markdown",
   "id": "1ad6b145-c839-42b5-b996-968beff244ce",
   "metadata": {},
   "source": [
    "# Data Preprocessing and Cleaning\n",
    "Data preprocessing is crucial to ensure that the data is clean and in the right format for analysis. "
   ]
  },
  {
   "cell_type": "code",
   "execution_count": 44,
   "id": "cb5e4539-f2e2-4e50-96d4-37a1cc7783d8",
   "metadata": {},
   "outputs": [
    {
     "name": "stdout",
     "output_type": "stream",
     "text": [
      "answers\n",
      "answer_scores\n",
      "comments\n",
      "emails\n",
      "groups\n",
      "group_memberships\n",
      "matches\n",
      "professionals\n",
      "questions\n",
      "question_scores\n",
      "school_memberships\n",
      "students\n",
      "tags\n",
      "tag_questions\n",
      "tag_users\n"
     ]
    }
   ],
   "source": [
    "# cheek for names of dataframes.\n",
    "for i in data:\n",
    "    print(i[0])"
   ]
  },
  {
   "cell_type": "code",
   "execution_count": 45,
   "id": "6b3bde08-b385-4de8-b536-2a8d4104b5a5",
   "metadata": {},
   "outputs": [],
   "source": [
    "# function to drop missing values from data.\n",
    "def clean():\n",
    "    \"\"\"\n",
    "    the job of this function is:\n",
    "    - to check if there are any missing values.\n",
    "    - then show the shape of each data frame.\n",
    "    - then drop all missing values in all data frames.\n",
    "    - then recheck the shape of each data frame to ensure missing values are dropped.\n",
    "    \"\"\"\n",
    "    for i in data:\n",
    "        print(i[0],\":\")\n",
    "        x= i[1].isna().sum()\n",
    "        print(x)\n",
    "        print(i[1].shape)\n",
    "        print(\"\\n\" + \"=\"*40 +\"\\n\")\n",
    "        print(i[0],\":\")\n",
    "        i[1].dropna(inplace=True)\n",
    "        y = i[1].isna().sum()\n",
    "        print(y)\n",
    "        print(i[1].shape)\n",
    "        print(\"\\n\" + \"#\"*40 +\"\\n\")\n",
    "        "
   ]
  },
  {
   "cell_type": "code",
   "execution_count": 46,
   "id": "47f4f415-33a0-4c3e-a0ad-a902b94c90de",
   "metadata": {
    "scrolled": true
   },
   "outputs": [
    {
     "name": "stdout",
     "output_type": "stream",
     "text": [
      "answers :\n",
      "answers_id            0\n",
      "author_id             0\n",
      "question_id           0\n",
      "answers_date_added    0\n",
      "answers_body          1\n",
      "dtype: int64\n",
      "(51123, 5)\n",
      "\n",
      "========================================\n",
      "\n",
      "answers :\n",
      "answers_id            0\n",
      "author_id             0\n",
      "question_id           0\n",
      "answers_date_added    0\n",
      "answers_body          0\n",
      "dtype: int64\n",
      "(51122, 5)\n",
      "\n",
      "########################################\n",
      "\n",
      "answer_scores :\n",
      "answers_id    0\n",
      "score         0\n",
      "dtype: int64\n",
      "(51138, 2)\n",
      "\n",
      "========================================\n",
      "\n",
      "answer_scores :\n",
      "answers_id    0\n",
      "score         0\n",
      "dtype: int64\n",
      "(51138, 2)\n",
      "\n",
      "########################################\n",
      "\n",
      "comments :\n",
      "comments_id            0\n",
      "author_id              0\n",
      "parent_content_id      0\n",
      "comments_date_added    0\n",
      "comments_body          4\n",
      "dtype: int64\n",
      "(14966, 5)\n",
      "\n",
      "========================================\n",
      "\n",
      "comments :\n",
      "comments_id            0\n",
      "author_id              0\n",
      "parent_content_id      0\n",
      "comments_date_added    0\n",
      "comments_body          0\n",
      "dtype: int64\n",
      "(14962, 5)\n",
      "\n",
      "########################################\n",
      "\n",
      "emails :\n",
      "emails_id                 0\n",
      "emails_recipient_id       0\n",
      "emails_date_sent          0\n",
      "emails_frequency_level    0\n",
      "dtype: int64\n",
      "(1850101, 4)\n",
      "\n",
      "========================================\n",
      "\n",
      "emails :\n",
      "emails_id                 0\n",
      "emails_recipient_id       0\n",
      "emails_date_sent          0\n",
      "emails_frequency_level    0\n",
      "dtype: int64\n",
      "(1850101, 4)\n",
      "\n",
      "########################################\n",
      "\n",
      "groups :\n",
      "group_id      0\n",
      "group_type    0\n",
      "dtype: int64\n",
      "(49, 2)\n",
      "\n",
      "========================================\n",
      "\n",
      "groups :\n",
      "group_id      0\n",
      "group_type    0\n",
      "dtype: int64\n",
      "(49, 2)\n",
      "\n",
      "########################################\n",
      "\n",
      "group_memberships :\n",
      "group_id    0\n",
      "user_id     0\n",
      "dtype: int64\n",
      "(1038, 2)\n",
      "\n",
      "========================================\n",
      "\n",
      "group_memberships :\n",
      "group_id    0\n",
      "user_id     0\n",
      "dtype: int64\n",
      "(1038, 2)\n",
      "\n",
      "########################################\n",
      "\n",
      "matches :\n",
      "emails_id      0\n",
      "question_id    0\n",
      "dtype: int64\n",
      "(4316275, 2)\n",
      "\n",
      "========================================\n",
      "\n",
      "matches :\n",
      "emails_id      0\n",
      "question_id    0\n",
      "dtype: int64\n",
      "(4316275, 2)\n",
      "\n",
      "########################################\n",
      "\n",
      "professionals :\n",
      "professionals_id                0\n",
      "professionals_location       3098\n",
      "professionals_industry       2577\n",
      "professionals_headline       2068\n",
      "professionals_date_joined       0\n",
      "dtype: int64\n",
      "(28152, 5)\n",
      "\n",
      "========================================\n",
      "\n",
      "professionals :\n",
      "professionals_id             0\n",
      "professionals_location       0\n",
      "professionals_industry       0\n",
      "professionals_headline       0\n",
      "professionals_date_joined    0\n",
      "dtype: int64\n",
      "(22902, 5)\n",
      "\n",
      "########################################\n",
      "\n",
      "questions :\n",
      "question_id             0\n",
      "author_id               0\n",
      "questions_date_added    0\n",
      "questions_title         0\n",
      "questions_body          0\n",
      "dtype: int64\n",
      "(23931, 5)\n",
      "\n",
      "========================================\n",
      "\n",
      "questions :\n",
      "question_id             0\n",
      "author_id               0\n",
      "questions_date_added    0\n",
      "questions_title         0\n",
      "questions_body          0\n",
      "dtype: int64\n",
      "(23931, 5)\n",
      "\n",
      "########################################\n",
      "\n",
      "question_scores :\n",
      "question_id    0\n",
      "score          0\n",
      "dtype: int64\n",
      "(23928, 2)\n",
      "\n",
      "========================================\n",
      "\n",
      "question_scores :\n",
      "question_id    0\n",
      "score          0\n",
      "dtype: int64\n",
      "(23928, 2)\n",
      "\n",
      "########################################\n",
      "\n",
      "school_memberships :\n",
      "school_id    0\n",
      "user_id      0\n",
      "dtype: int64\n",
      "(5638, 2)\n",
      "\n",
      "========================================\n",
      "\n",
      "school_memberships :\n",
      "school_id    0\n",
      "user_id      0\n",
      "dtype: int64\n",
      "(5638, 2)\n",
      "\n",
      "########################################\n",
      "\n",
      "students :\n",
      "students_id                0\n",
      "students_location       2033\n",
      "students_date_joined       0\n",
      "dtype: int64\n",
      "(30971, 3)\n",
      "\n",
      "========================================\n",
      "\n",
      "students :\n",
      "students_id             0\n",
      "students_location       0\n",
      "students_date_joined    0\n",
      "dtype: int64\n",
      "(28938, 3)\n",
      "\n",
      "########################################\n",
      "\n",
      "tags :\n",
      "tag_id      0\n",
      "tag_name    1\n",
      "dtype: int64\n",
      "(16269, 2)\n",
      "\n",
      "========================================\n",
      "\n",
      "tags :\n",
      "tag_id      0\n",
      "tag_name    0\n",
      "dtype: int64\n",
      "(16268, 2)\n",
      "\n",
      "########################################\n",
      "\n",
      "tag_questions :\n",
      "tag_id         0\n",
      "question_id    0\n",
      "dtype: int64\n",
      "(76553, 2)\n",
      "\n",
      "========================================\n",
      "\n",
      "tag_questions :\n",
      "tag_id         0\n",
      "question_id    0\n",
      "dtype: int64\n",
      "(76553, 2)\n",
      "\n",
      "########################################\n",
      "\n",
      "tag_users :\n",
      "tag_id     0\n",
      "user_id    0\n",
      "dtype: int64\n",
      "(136663, 2)\n",
      "\n",
      "========================================\n",
      "\n",
      "tag_users :\n",
      "tag_id     0\n",
      "user_id    0\n",
      "dtype: int64\n",
      "(136663, 2)\n",
      "\n",
      "########################################\n",
      "\n"
     ]
    }
   ],
   "source": [
    "# call clean function to cheek and clean the data from the missing values.\n",
    "clean()"
   ]
  },
  {
   "cell_type": "code",
   "execution_count": 47,
   "id": "f1c5eea7-a644-4e87-976a-8ed247db39ae",
   "metadata": {
    "scrolled": true
   },
   "outputs": [
    {
     "data": {
      "text/plain": [
       "'<p>Hi!</p>\\n<p>You are asking a very interesting question.  I am giving you two sites that will give you some of an explanation that may answer your question.</p>\\n<p>http://mathforum.org/dr.math/faq/faq.why.math.html</p>\\n<p>http://www.mathworksheetscenter.com/mathtips/mathissoimportant.html</p>\\n<p>Let me know if this helps</p>'"
      ]
     },
     "execution_count": 47,
     "metadata": {},
     "output_type": "execute_result"
    }
   ],
   "source": [
    "# check for answers body to extract and clean answer body.\n",
    "answers['answers_body'].iloc[0]"
   ]
  },
  {
   "cell_type": "code",
   "execution_count": 48,
   "id": "cf3680e7-c18d-48ed-b25c-7f636755d462",
   "metadata": {},
   "outputs": [],
   "source": [
    "# import re for regular expression\n",
    "import re \n",
    "# create a function to extract all answers body.\n",
    "def extract_text(text):\n",
    "    clr = re.compile('<.*?>')\n",
    "    cleantext = re.sub(clr, '', text)\n",
    "    return cleantext.strip()"
   ]
  },
  {
   "cell_type": "code",
   "execution_count": 49,
   "id": "9da067b3-fa7f-4c4b-b41d-5d8214cad86b",
   "metadata": {},
   "outputs": [],
   "source": [
    "# apply the function of extract text.\n",
    "answers['answers_body'] = answers['answers_body'].apply(extract_text)"
   ]
  },
  {
   "cell_type": "code",
   "execution_count": 50,
   "id": "3f8e870d-0ee8-4ce5-8240-8c6783f33462",
   "metadata": {},
   "outputs": [
    {
     "data": {
      "text/html": [
       "<div>\n",
       "<style scoped>\n",
       "    .dataframe tbody tr th:only-of-type {\n",
       "        vertical-align: middle;\n",
       "    }\n",
       "\n",
       "    .dataframe tbody tr th {\n",
       "        vertical-align: top;\n",
       "    }\n",
       "\n",
       "    .dataframe thead th {\n",
       "        text-align: right;\n",
       "    }\n",
       "</style>\n",
       "<table border=\"1\" class=\"dataframe\">\n",
       "  <thead>\n",
       "    <tr style=\"text-align: right;\">\n",
       "      <th></th>\n",
       "      <th>answers_id</th>\n",
       "      <th>author_id</th>\n",
       "      <th>question_id</th>\n",
       "      <th>answers_date_added</th>\n",
       "      <th>answers_body</th>\n",
       "    </tr>\n",
       "  </thead>\n",
       "  <tbody>\n",
       "    <tr>\n",
       "      <th>0</th>\n",
       "      <td>4e5f01128cae4f6d8fd697cec5dca60c</td>\n",
       "      <td>36ff3b3666df400f956f8335cf53e09e</td>\n",
       "      <td>332a511f1569444485cf7a7a556a5e54</td>\n",
       "      <td>2016-04-29 19:40:14 UTC+0000</td>\n",
       "      <td>Hi!\\nYou are asking a very interesting questio...</td>\n",
       "    </tr>\n",
       "    <tr>\n",
       "      <th>1</th>\n",
       "      <td>ada720538c014e9b8a6dceed09385ee3</td>\n",
       "      <td>2aa47af241bf42a4b874c453f0381bd4</td>\n",
       "      <td>eb80205482e4424cad8f16bc25aa2d9c</td>\n",
       "      <td>2018-05-01 14:19:08 UTC+0000</td>\n",
       "      <td>Hi. I joined the Army after I attended college...</td>\n",
       "    </tr>\n",
       "    <tr>\n",
       "      <th>2</th>\n",
       "      <td>eaa66ef919bc408ab5296237440e323f</td>\n",
       "      <td>cbd8f30613a849bf918aed5c010340be</td>\n",
       "      <td>eb80205482e4424cad8f16bc25aa2d9c</td>\n",
       "      <td>2018-05-02 02:41:02 UTC+0000</td>\n",
       "      <td>Dear Priyanka,Greetings! I have answered this ...</td>\n",
       "    </tr>\n",
       "    <tr>\n",
       "      <th>3</th>\n",
       "      <td>1a6b3749d391486c9e371fbd1e605014</td>\n",
       "      <td>7e72a630c303442ba92ff00e8ea451df</td>\n",
       "      <td>4ec31632938a40b98909416bdd0decff</td>\n",
       "      <td>2017-05-10 19:00:47 UTC+0000</td>\n",
       "      <td>I work for a global company who values highly ...</td>\n",
       "    </tr>\n",
       "    <tr>\n",
       "      <th>4</th>\n",
       "      <td>5229c514000446d582050f89ebd4e184</td>\n",
       "      <td>17802d94699140b0a0d2995f30c034c6</td>\n",
       "      <td>2f6a9a99d9b24e5baa50d40d0ba50a75</td>\n",
       "      <td>2017-10-13 22:07:33 UTC+0000</td>\n",
       "      <td>I agree with Denise. Every single job I've had...</td>\n",
       "    </tr>\n",
       "  </tbody>\n",
       "</table>\n",
       "</div>"
      ],
      "text/plain": [
       "                         answers_id                         author_id  \\\n",
       "0  4e5f01128cae4f6d8fd697cec5dca60c  36ff3b3666df400f956f8335cf53e09e   \n",
       "1  ada720538c014e9b8a6dceed09385ee3  2aa47af241bf42a4b874c453f0381bd4   \n",
       "2  eaa66ef919bc408ab5296237440e323f  cbd8f30613a849bf918aed5c010340be   \n",
       "3  1a6b3749d391486c9e371fbd1e605014  7e72a630c303442ba92ff00e8ea451df   \n",
       "4  5229c514000446d582050f89ebd4e184  17802d94699140b0a0d2995f30c034c6   \n",
       "\n",
       "                        question_id            answers_date_added  \\\n",
       "0  332a511f1569444485cf7a7a556a5e54  2016-04-29 19:40:14 UTC+0000   \n",
       "1  eb80205482e4424cad8f16bc25aa2d9c  2018-05-01 14:19:08 UTC+0000   \n",
       "2  eb80205482e4424cad8f16bc25aa2d9c  2018-05-02 02:41:02 UTC+0000   \n",
       "3  4ec31632938a40b98909416bdd0decff  2017-05-10 19:00:47 UTC+0000   \n",
       "4  2f6a9a99d9b24e5baa50d40d0ba50a75  2017-10-13 22:07:33 UTC+0000   \n",
       "\n",
       "                                        answers_body  \n",
       "0  Hi!\\nYou are asking a very interesting questio...  \n",
       "1  Hi. I joined the Army after I attended college...  \n",
       "2  Dear Priyanka,Greetings! I have answered this ...  \n",
       "3  I work for a global company who values highly ...  \n",
       "4  I agree with Denise. Every single job I've had...  "
      ]
     },
     "execution_count": 50,
     "metadata": {},
     "output_type": "execute_result"
    }
   ],
   "source": [
    "# check answers to ensure the function worked well.\n",
    "answers.head()"
   ]
  },
  {
   "cell_type": "code",
   "execution_count": 51,
   "id": "c3737819-6a89-43d0-acab-d1641a58951a",
   "metadata": {},
   "outputs": [],
   "source": [
    "# create a list of cleanned dataframes to can be iterable to save them in to csv files.\n",
    "datas=['answers','answer_scores','comments','emails','groups','group_memberships','matches','professionals','questions','question_scores','school_memberships','students','tags','tag_questions','tag_users']"
   ]
  },
  {
   "cell_type": "code",
   "execution_count": 52,
   "id": "14603bf3-93fd-49b8-a68f-0c5260c41bc4",
   "metadata": {},
   "outputs": [],
   "source": [
    "# iterate each cleanned data frame and save it into csv file to can import it in another notebook.\n",
    "for i in datas:\n",
    "    df = globals()[i]\n",
    "    filename = f\"{i}.csv\"\n",
    "    df.to_csv(f\"data1/{filename}\",index=False)"
   ]
  },
  {
   "cell_type": "code",
   "execution_count": null,
   "id": "7aeb696b-73a1-4f75-af31-3bd76c1b0f5d",
   "metadata": {},
   "outputs": [],
   "source": []
  }
 ],
 "metadata": {
  "kernelspec": {
   "display_name": "Python 3 (ipykernel)",
   "language": "python",
   "name": "python3"
  },
  "language_info": {
   "codemirror_mode": {
    "name": "ipython",
    "version": 3
   },
   "file_extension": ".py",
   "mimetype": "text/x-python",
   "name": "python",
   "nbconvert_exporter": "python",
   "pygments_lexer": "ipython3",
   "version": "3.11.7"
  }
 },
 "nbformat": 4,
 "nbformat_minor": 5
}
