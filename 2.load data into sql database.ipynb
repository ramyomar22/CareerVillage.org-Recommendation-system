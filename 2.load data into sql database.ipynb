{
 "cells": [
  {
   "cell_type": "code",
   "execution_count": 1,
   "id": "ccb36d47-2305-47f1-bc5c-03ff0e24737d",
   "metadata": {},
   "outputs": [],
   "source": [
    "# import libraries.\n",
    "import pandas as pd \n",
    "import sqlite3\n",
    "import os"
   ]
  },
  {
   "cell_type": "code",
   "execution_count": 2,
   "id": "9437e574-f863-48a6-b0e2-2c06e5e7b09c",
   "metadata": {},
   "outputs": [],
   "source": [
    "# create a connection to exist database.\n",
    "# if database not found it will create a one with the same name.\n",
    "conn = sqlite3.connect('C:/Users/ramyr/OneDrive/سطح المكتب/my project/db/mydata.db')"
   ]
  },
  {
   "cell_type": "code",
   "execution_count": 3,
   "id": "aa38a33b-db84-464c-9218-e164e4df2125",
   "metadata": {},
   "outputs": [],
   "source": [
    "# get the folder path where the files we want to load into the database.\n",
    "folder_path = 'data1/'\n",
    "files=os.listdir(folder_path)"
   ]
  },
  {
   "cell_type": "code",
   "execution_count": 4,
   "id": "482167a0-479d-4106-8e2f-8c919590f9d1",
   "metadata": {},
   "outputs": [
    {
     "data": {
      "text/plain": [
       "['answers.csv',\n",
       " 'answer_scores.csv',\n",
       " 'comments.csv',\n",
       " 'emails.csv',\n",
       " 'groups.csv',\n",
       " 'group_memberships.csv',\n",
       " 'matches.csv',\n",
       " 'professionals.csv',\n",
       " 'questions.csv',\n",
       " 'question_scores.csv',\n",
       " 'school_memberships.csv',\n",
       " 'students.csv',\n",
       " 'tags.csv',\n",
       " 'tag_questions.csv',\n",
       " 'tag_users.csv']"
      ]
     },
     "execution_count": 4,
     "metadata": {},
     "output_type": "execute_result"
    }
   ],
   "source": [
    "# check for the files in the director path.\n",
    "files"
   ]
  },
  {
   "cell_type": "code",
   "execution_count": 5,
   "id": "6ade9399-6a97-43a9-a9d8-3ced294dac21",
   "metadata": {},
   "outputs": [],
   "source": [
    "# create a function to get the file path and table name then load it in the database.\n",
    "def load_csv_to_database(file_path, table_name):\n",
    "    df = pd.read_csv(file_path)\n",
    "    df.to_sql(name=table_name, con=conn, if_exists='replace', index=False)"
   ]
  },
  {
   "cell_type": "code",
   "execution_count": 6,
   "id": "d4e837b2-7c6d-4cc3-8d9f-83e9c1429540",
   "metadata": {
    "scrolled": true
   },
   "outputs": [
    {
     "name": "stdout",
     "output_type": "stream",
     "text": [
      "loaded answers successfully.\n",
      "loaded answer_scores successfully.\n",
      "loaded comments successfully.\n",
      "loaded emails successfully.\n",
      "loaded groups successfully.\n",
      "loaded group_memberships successfully.\n",
      "loaded matches successfully.\n",
      "loaded professionals successfully.\n",
      "loaded questions successfully.\n",
      "loaded question_scores successfully.\n",
      "loaded school_memberships successfully.\n",
      "loaded students successfully.\n",
      "loaded tags successfully.\n",
      "loaded tag_questions successfully.\n",
      "loaded tag_users successfully.\n"
     ]
    }
   ],
   "source": [
    "# iterate for each file to load in the database.\n",
    "for file_name in files:\n",
    "    # check for csv files.\n",
    "    if file_name.endswith('.csv'):\n",
    "        # if the file is CSV file it path will be folder path plus file name.\n",
    "        file_path = os.path.join(folder_path, file_name)\n",
    "        # table name will be the name of file without the extension (.csv).\n",
    "        table_name = file_name.replace('.csv', '')\n",
    "        try: # Try to load the file into the database by applying the load CSV function.\n",
    "            load_csv_to_database(file_path, table_name)\n",
    "            # If there are no errors print the success message.\n",
    "            print(f\"loaded {table_name} successfully.\")\n",
    "        # If any errors raise an exception message.\n",
    "        except Exception as e :\n",
    "            print(f\"Faild to load {table_name}.\")"
   ]
  },
  {
   "cell_type": "code",
   "execution_count": null,
   "id": "67e153a8-de92-40bb-8671-87b5d18c91e0",
   "metadata": {},
   "outputs": [],
   "source": []
  }
 ],
 "metadata": {
  "kernelspec": {
   "display_name": "Python 3 (ipykernel)",
   "language": "python",
   "name": "python3"
  },
  "language_info": {
   "codemirror_mode": {
    "name": "ipython",
    "version": 3
   },
   "file_extension": ".py",
   "mimetype": "text/x-python",
   "name": "python",
   "nbconvert_exporter": "python",
   "pygments_lexer": "ipython3",
   "version": "3.11.7"
  }
 },
 "nbformat": 4,
 "nbformat_minor": 5
}
