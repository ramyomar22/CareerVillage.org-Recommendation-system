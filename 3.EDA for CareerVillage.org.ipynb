{
 "cells": [
  {
   "cell_type": "code",
   "execution_count": 1,
   "id": "a90d7ea4-1dce-4925-a820-139174f26aa4",
   "metadata": {},
   "outputs": [],
   "source": [
    "# import libraries\n",
    "import pandas as pd\n",
    "import numpy as np \n",
    "import matplotlib.pyplot as plt\n",
    "import sqlite3 \n",
    "import os \n",
    "from datetime import datetime as dt\n",
    "import seaborn as sns"
   ]
  },
  {
   "cell_type": "code",
   "execution_count": 2,
   "id": "c7bf775d-1993-4503-8a92-ffa72164675c",
   "metadata": {},
   "outputs": [],
   "source": [
    "# create a connection to database.\n",
    "conn = sqlite3.connect('db/mydata.db')"
   ]
  },
  {
   "cell_type": "markdown",
   "id": "7222507e-4e92-4f0e-af4c-725628551a9f",
   "metadata": {},
   "source": [
    "# load answers and merge with it answer_score and clean it"
   ]
  },
  {
   "cell_type": "code",
   "execution_count": 3,
   "id": "029a192e-2b28-43cc-9d42-d932584bc28c",
   "metadata": {},
   "outputs": [],
   "source": [
    "# query to get answers table and join to evry answer it score.\n",
    "query = \"\"\"\n",
    "SELECT answers.*, answer_scores.score \n",
    "FROM answers\n",
    "INNER JOIN answer_scores\n",
    "ON answers.answers_id = answer_scores.answers_id\n",
    "\"\"\""
   ]
  },
  {
   "cell_type": "code",
   "execution_count": 4,
   "id": "1c0a0286-41b2-4f13-9a01-efeb9a0c7ac0",
   "metadata": {},
   "outputs": [],
   "source": [
    "# load the selected data related to answers into data frame.\n",
    "answers = pd.read_sql(query, conn)"
   ]
  },
  {
   "cell_type": "code",
   "execution_count": 5,
   "id": "8dedd6cf-3058-440b-b69d-dd8b9a2ccf42",
   "metadata": {},
   "outputs": [],
   "source": [
    "answers['answers_date_added'] = pd.to_datetime(answers['answers_date_added'])"
   ]
  },
  {
   "cell_type": "code",
   "execution_count": 6,
   "id": "8d0db714-8213-492f-a28f-f3fd217379d1",
   "metadata": {},
   "outputs": [],
   "source": [
    "answers['answers_date_added'] = answers['answers_date_added'].dt.tz_localize(None)"
   ]
  },
  {
   "cell_type": "code",
   "execution_count": 7,
   "id": "2aca3d52-9ca5-4cea-ac0d-8212137b75a3",
   "metadata": {
    "scrolled": true
   },
   "outputs": [
    {
     "data": {
      "text/html": [
       "<div>\n",
       "<style scoped>\n",
       "    .dataframe tbody tr th:only-of-type {\n",
       "        vertical-align: middle;\n",
       "    }\n",
       "\n",
       "    .dataframe tbody tr th {\n",
       "        vertical-align: top;\n",
       "    }\n",
       "\n",
       "    .dataframe thead th {\n",
       "        text-align: right;\n",
       "    }\n",
       "</style>\n",
       "<table border=\"1\" class=\"dataframe\">\n",
       "  <thead>\n",
       "    <tr style=\"text-align: right;\">\n",
       "      <th></th>\n",
       "      <th>answers_id</th>\n",
       "      <th>author_id</th>\n",
       "      <th>question_id</th>\n",
       "      <th>answers_date_added</th>\n",
       "      <th>answers_body</th>\n",
       "      <th>score</th>\n",
       "    </tr>\n",
       "  </thead>\n",
       "  <tbody>\n",
       "    <tr>\n",
       "      <th>0</th>\n",
       "      <td>4e5f01128cae4f6d8fd697cec5dca60c</td>\n",
       "      <td>36ff3b3666df400f956f8335cf53e09e</td>\n",
       "      <td>332a511f1569444485cf7a7a556a5e54</td>\n",
       "      <td>2016-04-29 19:40:14</td>\n",
       "      <td>Hi!\\nYou are asking a very interesting questio...</td>\n",
       "      <td>0</td>\n",
       "    </tr>\n",
       "    <tr>\n",
       "      <th>1</th>\n",
       "      <td>ada720538c014e9b8a6dceed09385ee3</td>\n",
       "      <td>2aa47af241bf42a4b874c453f0381bd4</td>\n",
       "      <td>eb80205482e4424cad8f16bc25aa2d9c</td>\n",
       "      <td>2018-05-01 14:19:08</td>\n",
       "      <td>Hi. I joined the Army after I attended college...</td>\n",
       "      <td>0</td>\n",
       "    </tr>\n",
       "    <tr>\n",
       "      <th>2</th>\n",
       "      <td>eaa66ef919bc408ab5296237440e323f</td>\n",
       "      <td>cbd8f30613a849bf918aed5c010340be</td>\n",
       "      <td>eb80205482e4424cad8f16bc25aa2d9c</td>\n",
       "      <td>2018-05-02 02:41:02</td>\n",
       "      <td>Dear Priyanka,Greetings! I have answered this ...</td>\n",
       "      <td>0</td>\n",
       "    </tr>\n",
       "    <tr>\n",
       "      <th>3</th>\n",
       "      <td>1a6b3749d391486c9e371fbd1e605014</td>\n",
       "      <td>7e72a630c303442ba92ff00e8ea451df</td>\n",
       "      <td>4ec31632938a40b98909416bdd0decff</td>\n",
       "      <td>2017-05-10 19:00:47</td>\n",
       "      <td>I work for a global company who values highly ...</td>\n",
       "      <td>0</td>\n",
       "    </tr>\n",
       "    <tr>\n",
       "      <th>4</th>\n",
       "      <td>5229c514000446d582050f89ebd4e184</td>\n",
       "      <td>17802d94699140b0a0d2995f30c034c6</td>\n",
       "      <td>2f6a9a99d9b24e5baa50d40d0ba50a75</td>\n",
       "      <td>2017-10-13 22:07:33</td>\n",
       "      <td>I agree with Denise. Every single job I've had...</td>\n",
       "      <td>0</td>\n",
       "    </tr>\n",
       "  </tbody>\n",
       "</table>\n",
       "</div>"
      ],
      "text/plain": [
       "                         answers_id                         author_id  \\\n",
       "0  4e5f01128cae4f6d8fd697cec5dca60c  36ff3b3666df400f956f8335cf53e09e   \n",
       "1  ada720538c014e9b8a6dceed09385ee3  2aa47af241bf42a4b874c453f0381bd4   \n",
       "2  eaa66ef919bc408ab5296237440e323f  cbd8f30613a849bf918aed5c010340be   \n",
       "3  1a6b3749d391486c9e371fbd1e605014  7e72a630c303442ba92ff00e8ea451df   \n",
       "4  5229c514000446d582050f89ebd4e184  17802d94699140b0a0d2995f30c034c6   \n",
       "\n",
       "                        question_id  answers_date_added  \\\n",
       "0  332a511f1569444485cf7a7a556a5e54 2016-04-29 19:40:14   \n",
       "1  eb80205482e4424cad8f16bc25aa2d9c 2018-05-01 14:19:08   \n",
       "2  eb80205482e4424cad8f16bc25aa2d9c 2018-05-02 02:41:02   \n",
       "3  4ec31632938a40b98909416bdd0decff 2017-05-10 19:00:47   \n",
       "4  2f6a9a99d9b24e5baa50d40d0ba50a75 2017-10-13 22:07:33   \n",
       "\n",
       "                                        answers_body  score  \n",
       "0  Hi!\\nYou are asking a very interesting questio...      0  \n",
       "1  Hi. I joined the Army after I attended college...      0  \n",
       "2  Dear Priyanka,Greetings! I have answered this ...      0  \n",
       "3  I work for a global company who values highly ...      0  \n",
       "4  I agree with Denise. Every single job I've had...      0  "
      ]
     },
     "execution_count": 7,
     "metadata": {},
     "output_type": "execute_result"
    }
   ],
   "source": [
    "# display the first 5 rows of answers to check if getting data done.\n",
    "answers.head()"
   ]
  },
  {
   "cell_type": "code",
   "execution_count": 8,
   "id": "0b0086ad-9500-4c47-9da8-2a6069e6426f",
   "metadata": {},
   "outputs": [
    {
     "data": {
      "text/plain": [
       "(51106, 6)"
      ]
     },
     "execution_count": 8,
     "metadata": {},
     "output_type": "execute_result"
    }
   ],
   "source": [
    "# show shape of answers to know the size of data we working with.\n",
    "answers.shape"
   ]
  },
  {
   "cell_type": "code",
   "execution_count": 9,
   "id": "35361d8c-ee52-44a8-bf7e-966f38d946b9",
   "metadata": {
    "scrolled": true
   },
   "outputs": [
    {
     "name": "stdout",
     "output_type": "stream",
     "text": [
      "<class 'pandas.core.frame.DataFrame'>\n",
      "RangeIndex: 51106 entries, 0 to 51105\n",
      "Data columns (total 6 columns):\n",
      " #   Column              Non-Null Count  Dtype         \n",
      "---  ------              --------------  -----         \n",
      " 0   answers_id          51106 non-null  object        \n",
      " 1   author_id           51106 non-null  object        \n",
      " 2   question_id         51106 non-null  object        \n",
      " 3   answers_date_added  51106 non-null  datetime64[ns]\n",
      " 4   answers_body        51099 non-null  object        \n",
      " 5   score               51106 non-null  int64         \n",
      "dtypes: datetime64[ns](1), int64(1), object(4)\n",
      "memory usage: 2.3+ MB\n"
     ]
    }
   ],
   "source": [
    "# get answers info to know more about answers data.\n",
    "answers.info()"
   ]
  },
  {
   "cell_type": "code",
   "execution_count": 10,
   "id": "5615b45a-91c0-4c42-bb5b-b35915cd4eda",
   "metadata": {},
   "outputs": [
    {
     "data": {
      "text/plain": [
       "0"
      ]
     },
     "execution_count": 10,
     "metadata": {},
     "output_type": "execute_result"
    }
   ],
   "source": [
    "# check if their is any duplicates in answers.\n",
    "answers.duplicated().sum()"
   ]
  },
  {
   "cell_type": "code",
   "execution_count": 11,
   "id": "d5d5599c-4c52-4d76-a774-b476827ed602",
   "metadata": {
    "scrolled": true
   },
   "outputs": [
    {
     "data": {
      "text/plain": [
       "answers_id            0\n",
       "author_id             0\n",
       "question_id           0\n",
       "answers_date_added    0\n",
       "answers_body          7\n",
       "score                 0\n",
       "dtype: int64"
      ]
     },
     "execution_count": 11,
     "metadata": {},
     "output_type": "execute_result"
    }
   ],
   "source": [
    "# check if their is any missing values in answers.\n",
    "answers.isnull().sum()"
   ]
  },
  {
   "cell_type": "code",
   "execution_count": 12,
   "id": "59655090-4303-494e-ab68-740b1b980121",
   "metadata": {},
   "outputs": [
    {
     "data": {
      "text/plain": [
       "answers_id            0\n",
       "author_id             0\n",
       "question_id           0\n",
       "answers_date_added    0\n",
       "answers_body          0\n",
       "score                 0\n",
       "dtype: int64"
      ]
     },
     "execution_count": 12,
     "metadata": {},
     "output_type": "execute_result"
    }
   ],
   "source": [
    "# drop missing values in answers.\n",
    "answers.dropna(inplace=True)\n",
    "# check if the drop process done.\n",
    "answers.isnull().sum()"
   ]
  },
  {
   "cell_type": "code",
   "execution_count": 13,
   "id": "1ed5dde9-f7eb-45cf-a29f-1d4ceccd7604",
   "metadata": {},
   "outputs": [
    {
     "data": {
      "text/plain": [
       "(51099, 6)"
      ]
     },
     "execution_count": 13,
     "metadata": {},
     "output_type": "execute_result"
    }
   ],
   "source": [
    "# recheck answers shape again.\n",
    "answers.shape"
   ]
  },
  {
   "cell_type": "code",
   "execution_count": 14,
   "id": "abda1a36-fcfc-4402-930b-0b7e3b7cb1ae",
   "metadata": {},
   "outputs": [
    {
     "data": {
      "text/html": [
       "<div>\n",
       "<style scoped>\n",
       "    .dataframe tbody tr th:only-of-type {\n",
       "        vertical-align: middle;\n",
       "    }\n",
       "\n",
       "    .dataframe tbody tr th {\n",
       "        vertical-align: top;\n",
       "    }\n",
       "\n",
       "    .dataframe thead th {\n",
       "        text-align: right;\n",
       "    }\n",
       "</style>\n",
       "<table border=\"1\" class=\"dataframe\">\n",
       "  <thead>\n",
       "    <tr style=\"text-align: right;\">\n",
       "      <th></th>\n",
       "      <th>answers_id</th>\n",
       "      <th>author_id</th>\n",
       "      <th>question_id</th>\n",
       "      <th>answers_date_added</th>\n",
       "      <th>answers_body</th>\n",
       "      <th>score</th>\n",
       "    </tr>\n",
       "  </thead>\n",
       "  <tbody>\n",
       "    <tr>\n",
       "      <th>count</th>\n",
       "      <td>51099</td>\n",
       "      <td>51099</td>\n",
       "      <td>51099</td>\n",
       "      <td>51099</td>\n",
       "      <td>51099</td>\n",
       "      <td>51099.000000</td>\n",
       "    </tr>\n",
       "    <tr>\n",
       "      <th>unique</th>\n",
       "      <td>51099</td>\n",
       "      <td>10161</td>\n",
       "      <td>23101</td>\n",
       "      <td>NaN</td>\n",
       "      <td>50325</td>\n",
       "      <td>NaN</td>\n",
       "    </tr>\n",
       "    <tr>\n",
       "      <th>top</th>\n",
       "      <td>4e5f01128cae4f6d8fd697cec5dca60c</td>\n",
       "      <td>36ff3b3666df400f956f8335cf53e09e</td>\n",
       "      <td>8eb6ba7af57846acbfec5633e537192a</td>\n",
       "      <td>NaN</td>\n",
       "      <td>&amp;lt;span style=\"background-color: transparent;...</td>\n",
       "      <td>NaN</td>\n",
       "    </tr>\n",
       "    <tr>\n",
       "      <th>freq</th>\n",
       "      <td>1</td>\n",
       "      <td>1710</td>\n",
       "      <td>58</td>\n",
       "      <td>NaN</td>\n",
       "      <td>125</td>\n",
       "      <td>NaN</td>\n",
       "    </tr>\n",
       "    <tr>\n",
       "      <th>mean</th>\n",
       "      <td>NaN</td>\n",
       "      <td>NaN</td>\n",
       "      <td>NaN</td>\n",
       "      <td>2017-03-11 16:06:56.065226240</td>\n",
       "      <td>NaN</td>\n",
       "      <td>0.415546</td>\n",
       "    </tr>\n",
       "    <tr>\n",
       "      <th>min</th>\n",
       "      <td>NaN</td>\n",
       "      <td>NaN</td>\n",
       "      <td>NaN</td>\n",
       "      <td>2011-10-05 20:33:04</td>\n",
       "      <td>NaN</td>\n",
       "      <td>0.000000</td>\n",
       "    </tr>\n",
       "    <tr>\n",
       "      <th>25%</th>\n",
       "      <td>NaN</td>\n",
       "      <td>NaN</td>\n",
       "      <td>NaN</td>\n",
       "      <td>2016-06-11 20:29:32.500000</td>\n",
       "      <td>NaN</td>\n",
       "      <td>0.000000</td>\n",
       "    </tr>\n",
       "    <tr>\n",
       "      <th>50%</th>\n",
       "      <td>NaN</td>\n",
       "      <td>NaN</td>\n",
       "      <td>NaN</td>\n",
       "      <td>2017-05-10 15:50:43</td>\n",
       "      <td>NaN</td>\n",
       "      <td>0.000000</td>\n",
       "    </tr>\n",
       "    <tr>\n",
       "      <th>75%</th>\n",
       "      <td>NaN</td>\n",
       "      <td>NaN</td>\n",
       "      <td>NaN</td>\n",
       "      <td>2018-04-04 12:02:17.500000</td>\n",
       "      <td>NaN</td>\n",
       "      <td>1.000000</td>\n",
       "    </tr>\n",
       "    <tr>\n",
       "      <th>max</th>\n",
       "      <td>NaN</td>\n",
       "      <td>NaN</td>\n",
       "      <td>NaN</td>\n",
       "      <td>2019-01-31 23:47:27</td>\n",
       "      <td>NaN</td>\n",
       "      <td>30.000000</td>\n",
       "    </tr>\n",
       "    <tr>\n",
       "      <th>std</th>\n",
       "      <td>NaN</td>\n",
       "      <td>NaN</td>\n",
       "      <td>NaN</td>\n",
       "      <td>NaN</td>\n",
       "      <td>NaN</td>\n",
       "      <td>0.921498</td>\n",
       "    </tr>\n",
       "  </tbody>\n",
       "</table>\n",
       "</div>"
      ],
      "text/plain": [
       "                              answers_id                         author_id  \\\n",
       "count                              51099                             51099   \n",
       "unique                             51099                             10161   \n",
       "top     4e5f01128cae4f6d8fd697cec5dca60c  36ff3b3666df400f956f8335cf53e09e   \n",
       "freq                                   1                              1710   \n",
       "mean                                 NaN                               NaN   \n",
       "min                                  NaN                               NaN   \n",
       "25%                                  NaN                               NaN   \n",
       "50%                                  NaN                               NaN   \n",
       "75%                                  NaN                               NaN   \n",
       "max                                  NaN                               NaN   \n",
       "std                                  NaN                               NaN   \n",
       "\n",
       "                             question_id             answers_date_added  \\\n",
       "count                              51099                          51099   \n",
       "unique                             23101                            NaN   \n",
       "top     8eb6ba7af57846acbfec5633e537192a                            NaN   \n",
       "freq                                  58                            NaN   \n",
       "mean                                 NaN  2017-03-11 16:06:56.065226240   \n",
       "min                                  NaN            2011-10-05 20:33:04   \n",
       "25%                                  NaN     2016-06-11 20:29:32.500000   \n",
       "50%                                  NaN            2017-05-10 15:50:43   \n",
       "75%                                  NaN     2018-04-04 12:02:17.500000   \n",
       "max                                  NaN            2019-01-31 23:47:27   \n",
       "std                                  NaN                            NaN   \n",
       "\n",
       "                                             answers_body         score  \n",
       "count                                               51099  51099.000000  \n",
       "unique                                              50325           NaN  \n",
       "top     &lt;span style=\"background-color: transparent;...           NaN  \n",
       "freq                                                  125           NaN  \n",
       "mean                                                  NaN      0.415546  \n",
       "min                                                   NaN      0.000000  \n",
       "25%                                                   NaN      0.000000  \n",
       "50%                                                   NaN      0.000000  \n",
       "75%                                                   NaN      1.000000  \n",
       "max                                                   NaN     30.000000  \n",
       "std                                                   NaN      0.921498  "
      ]
     },
     "execution_count": 14,
     "metadata": {},
     "output_type": "execute_result"
    }
   ],
   "source": [
    "# get summary statistics for answers setting include = 'all' to get all data summary numeric and categorical.\n",
    "answers.describe(include='all')"
   ]
  },
  {
   "cell_type": "code",
   "execution_count": 15,
   "id": "b2c2aa62-6876-4b93-a223-88df26722314",
   "metadata": {},
   "outputs": [
    {
     "data": {
      "image/png": "[encoded data removed]",
      "text/plain": [
       "<Figure size 1200x600 with 1 Axes>"
      ]
     },
     "metadata": {},
     "output_type": "display_data"
    },
    {
     "data": {
      "image/png": "[encoded data removed]",
      "text/plain": [
       "<Figure size 1200x600 with 1 Axes>"
      ]
     },
     "metadata": {},
     "output_type": "display_data"
    }
   ],
   "source": [
    "# Visualization 1: Distribution of Answers Over Time\n",
    "plt.figure(figsize=(12,6))\n",
    "plt.subplot(2,1,1)\n",
    "answers['answers_date_added'].dt.to_period('Y').value_counts().sort_index().plot(kind='bar')\n",
    "plt.title('Distribution of Answers Over Time')\n",
    "plt.xlabel('Year')\n",
    "plt.ylabel('Number of Answers')\n",
    "plt.xticks(rotation=45)\n",
    "plt.show()\n",
    "plt.figure(figsize=(12,6))\n",
    "plt.subplot(2,1,2)\n",
    "filtered_answers = answers[answers['answers_date_added'].dt.year == 2018]\n",
    "filtered_answers['answers_date_added'].dt.to_period('M').value_counts().sort_index().plot(kind='bar')\n",
    "plt.title('Distribution of Answers Over Time')\n",
    "plt.xlabel('Month/Year')\n",
    "plt.ylabel('Number of Answers')\n",
    "plt.xticks(rotation=45)\n",
    "plt.show()"
   ]
  },
  {
   "cell_type": "code",
   "execution_count": 16,
   "id": "e384e311-caa8-45a0-a481-6f1e598e2cd4",
   "metadata": {},
   "outputs": [],
   "source": [
    "# add column calculate in it the len of each answer.\n",
    "answers['answers_length'] = answers['answers_body'].apply(len)"
   ]
  },
  {
   "cell_type": "code",
   "execution_count": 17,
   "id": "13a42aef-c10d-4858-aafa-0e56da46aa5c",
   "metadata": {
    "scrolled": true
   },
   "outputs": [
    {
     "data": {
      "image/png": "[encoded data removed]",
      "text/plain": [
       "<Figure size 1200x600 with 1 Axes>"
      ]
     },
     "metadata": {},
     "output_type": "display_data"
    }
   ],
   "source": [
    "plt.figure(figsize=(12,6))\n",
    "sns.histplot(answers['answers_length'],bins=20,color='b')\n",
    "plt.title('Distribution of Answer Lengths')\n",
    "plt.xlabel('Answer Length (characters)')\n",
    "plt.ylabel('Frequency')\n",
    "plt.show()"
   ]
  },
  {
   "cell_type": "code",
   "execution_count": 18,
   "id": "00f49d49-adf9-4319-b8a0-ca7b2f9ba5c0",
   "metadata": {},
   "outputs": [],
   "source": [
    "# save answers to csv file in folder of tableau  to make visualizations.\n",
    "answers.to_csv('tableau/answers.csv',index=False)"
   ]
  },
  {
   "cell_type": "markdown",
   "id": "154ecf9e-5344-4137-b38e-7cfd0a5798b5",
   "metadata": {},
   "source": [
    "# load emails and merge with it matches "
   ]
  },
  {
   "cell_type": "code",
   "execution_count": 19,
   "id": "598652e4-064e-42d8-afdf-abcc166b43b2",
   "metadata": {},
   "outputs": [
    {
     "data": {
      "text/html": [
       "<div>\n",
       "<style scoped>\n",
       "    .dataframe tbody tr th:only-of-type {\n",
       "        vertical-align: middle;\n",
       "    }\n",
       "\n",
       "    .dataframe tbody tr th {\n",
       "        vertical-align: top;\n",
       "    }\n",
       "\n",
       "    .dataframe thead th {\n",
       "        text-align: right;\n",
       "    }\n",
       "</style>\n",
       "<table border=\"1\" class=\"dataframe\">\n",
       "  <thead>\n",
       "    <tr style=\"text-align: right;\">\n",
       "      <th></th>\n",
       "      <th>cid</th>\n",
       "      <th>name</th>\n",
       "      <th>type</th>\n",
       "      <th>notnull</th>\n",
       "      <th>dflt_value</th>\n",
       "      <th>pk</th>\n",
       "    </tr>\n",
       "  </thead>\n",
       "  <tbody>\n",
       "    <tr>\n",
       "      <th>0</th>\n",
       "      <td>0</td>\n",
       "      <td>emails_id</td>\n",
       "      <td>INTEGER</td>\n",
       "      <td>0</td>\n",
       "      <td>None</td>\n",
       "      <td>0</td>\n",
       "    </tr>\n",
       "    <tr>\n",
       "      <th>1</th>\n",
       "      <td>1</td>\n",
       "      <td>emails_recipient_id</td>\n",
       "      <td>TEXT</td>\n",
       "      <td>0</td>\n",
       "      <td>None</td>\n",
       "      <td>0</td>\n",
       "    </tr>\n",
       "    <tr>\n",
       "      <th>2</th>\n",
       "      <td>2</td>\n",
       "      <td>emails_date_sent</td>\n",
       "      <td>TEXT</td>\n",
       "      <td>0</td>\n",
       "      <td>None</td>\n",
       "      <td>0</td>\n",
       "    </tr>\n",
       "    <tr>\n",
       "      <th>3</th>\n",
       "      <td>3</td>\n",
       "      <td>emails_frequency_level</td>\n",
       "      <td>TEXT</td>\n",
       "      <td>0</td>\n",
       "      <td>None</td>\n",
       "      <td>0</td>\n",
       "    </tr>\n",
       "  </tbody>\n",
       "</table>\n",
       "</div>"
      ],
      "text/plain": [
       "   cid                    name     type  notnull dflt_value  pk\n",
       "0    0               emails_id  INTEGER        0       None   0\n",
       "1    1     emails_recipient_id     TEXT        0       None   0\n",
       "2    2        emails_date_sent     TEXT        0       None   0\n",
       "3    3  emails_frequency_level     TEXT        0       None   0"
      ]
     },
     "execution_count": 19,
     "metadata": {},
     "output_type": "execute_result"
    }
   ],
   "source": [
    "# show emails table information\n",
    "query = \"PRAGMA table_info(emails);\"\n",
    "emails_info = pd.read_sql(query,conn)\n",
    "emails_info"
   ]
  },
  {
   "cell_type": "code",
   "execution_count": 20,
   "id": "884d35df-29ab-4666-a871-98b96053abca",
   "metadata": {},
   "outputs": [
    {
     "data": {
      "text/html": [
       "<div>\n",
       "<style scoped>\n",
       "    .dataframe tbody tr th:only-of-type {\n",
       "        vertical-align: middle;\n",
       "    }\n",
       "\n",
       "    .dataframe tbody tr th {\n",
       "        vertical-align: top;\n",
       "    }\n",
       "\n",
       "    .dataframe thead th {\n",
       "        text-align: right;\n",
       "    }\n",
       "</style>\n",
       "<table border=\"1\" class=\"dataframe\">\n",
       "  <thead>\n",
       "    <tr style=\"text-align: right;\">\n",
       "      <th></th>\n",
       "      <th>cid</th>\n",
       "      <th>name</th>\n",
       "      <th>type</th>\n",
       "      <th>notnull</th>\n",
       "      <th>dflt_value</th>\n",
       "      <th>pk</th>\n",
       "    </tr>\n",
       "  </thead>\n",
       "  <tbody>\n",
       "    <tr>\n",
       "      <th>0</th>\n",
       "      <td>0</td>\n",
       "      <td>emails_id</td>\n",
       "      <td>INTEGER</td>\n",
       "      <td>0</td>\n",
       "      <td>None</td>\n",
       "      <td>0</td>\n",
       "    </tr>\n",
       "    <tr>\n",
       "      <th>1</th>\n",
       "      <td>1</td>\n",
       "      <td>question_id</td>\n",
       "      <td>TEXT</td>\n",
       "      <td>0</td>\n",
       "      <td>None</td>\n",
       "      <td>0</td>\n",
       "    </tr>\n",
       "  </tbody>\n",
       "</table>\n",
       "</div>"
      ],
      "text/plain": [
       "   cid         name     type  notnull dflt_value  pk\n",
       "0    0    emails_id  INTEGER        0       None   0\n",
       "1    1  question_id     TEXT        0       None   0"
      ]
     },
     "execution_count": 20,
     "metadata": {},
     "output_type": "execute_result"
    }
   ],
   "source": [
    "# show matches table iformation.\n",
    "query = \"PRAGMA table_info(matches)\"\n",
    "matches_info = pd.read_sql(query, conn)\n",
    "matches_info"
   ]
  },
  {
   "cell_type": "code",
   "execution_count": 21,
   "id": "72a08759-56e9-4a46-8dd7-e41a3dbbbc40",
   "metadata": {},
   "outputs": [],
   "source": [
    "# query to select emails and matches columns to load into dataframe.\n",
    "query_1 = \"\"\"\n",
    "SELECT e.emails_id, e.emails_recipient_id, e.emails_date_sent, e.emails_frequency_level, m.question_id\n",
    "FROM emails as e\n",
    "INNER JOIN matches as m\n",
    "ON e.emails_id = m.emails_id\n",
    "\"\"\""
   ]
  },
  {
   "cell_type": "code",
   "execution_count": 22,
   "id": "fe87b83f-a80e-42ba-b6be-dddbe66d80fa",
   "metadata": {},
   "outputs": [],
   "source": [
    "# load selected columns into dataframe.\n",
    "emails = pd.read_sql(query_1, conn)"
   ]
  },
  {
   "cell_type": "code",
   "execution_count": 23,
   "id": "c4ac9733-c6bb-4a2c-a7f4-07defb78d9b3",
   "metadata": {},
   "outputs": [
    {
     "data": {
      "text/html": [
       "<div>\n",
       "<style scoped>\n",
       "    .dataframe tbody tr th:only-of-type {\n",
       "        vertical-align: middle;\n",
       "    }\n",
       "\n",
       "    .dataframe tbody tr th {\n",
       "        vertical-align: top;\n",
       "    }\n",
       "\n",
       "    .dataframe thead th {\n",
       "        text-align: right;\n",
       "    }\n",
       "</style>\n",
       "<table border=\"1\" class=\"dataframe\">\n",
       "  <thead>\n",
       "    <tr style=\"text-align: right;\">\n",
       "      <th></th>\n",
       "      <th>emails_id</th>\n",
       "      <th>emails_recipient_id</th>\n",
       "      <th>emails_date_sent</th>\n",
       "      <th>emails_frequency_level</th>\n",
       "      <th>question_id</th>\n",
       "    </tr>\n",
       "  </thead>\n",
       "  <tbody>\n",
       "    <tr>\n",
       "      <th>0</th>\n",
       "      <td>2337714</td>\n",
       "      <td>0c673e046d824ec0ad0ebe012a0673e4</td>\n",
       "      <td>2018-12-07 01:05:40 UTC+0000</td>\n",
       "      <td>email_notification_daily</td>\n",
       "      <td>b996a285a43e4a9aa7f111f381a7e5df</td>\n",
       "    </tr>\n",
       "    <tr>\n",
       "      <th>1</th>\n",
       "      <td>2336077</td>\n",
       "      <td>0c673e046d824ec0ad0ebe012a0673e4</td>\n",
       "      <td>2018-12-06 01:14:15 UTC+0000</td>\n",
       "      <td>email_notification_daily</td>\n",
       "      <td>b8c76d86086845668d52b6c481045be7</td>\n",
       "    </tr>\n",
       "    <tr>\n",
       "      <th>2</th>\n",
       "      <td>2314660</td>\n",
       "      <td>0c673e046d824ec0ad0ebe012a0673e4</td>\n",
       "      <td>2018-11-17 00:38:27 UTC+0000</td>\n",
       "      <td>email_notification_daily</td>\n",
       "      <td>749956b01c864e56a791710d1c4b9853</td>\n",
       "    </tr>\n",
       "    <tr>\n",
       "      <th>3</th>\n",
       "      <td>2312639</td>\n",
       "      <td>0c673e046d824ec0ad0ebe012a0673e4</td>\n",
       "      <td>2018-11-16 00:32:19 UTC+0000</td>\n",
       "      <td>email_notification_daily</td>\n",
       "      <td>5614d85fbbad494db3e1a1c2d1ef4ef9</td>\n",
       "    </tr>\n",
       "    <tr>\n",
       "      <th>4</th>\n",
       "      <td>2312639</td>\n",
       "      <td>0c673e046d824ec0ad0ebe012a0673e4</td>\n",
       "      <td>2018-11-16 00:32:19 UTC+0000</td>\n",
       "      <td>email_notification_daily</td>\n",
       "      <td>58ac65d653fe456b8a1728ee57fd861b</td>\n",
       "    </tr>\n",
       "  </tbody>\n",
       "</table>\n",
       "</div>"
      ],
      "text/plain": [
       "   emails_id               emails_recipient_id              emails_date_sent  \\\n",
       "0    2337714  0c673e046d824ec0ad0ebe012a0673e4  2018-12-07 01:05:40 UTC+0000   \n",
       "1    2336077  0c673e046d824ec0ad0ebe012a0673e4  2018-12-06 01:14:15 UTC+0000   \n",
       "2    2314660  0c673e046d824ec0ad0ebe012a0673e4  2018-11-17 00:38:27 UTC+0000   \n",
       "3    2312639  0c673e046d824ec0ad0ebe012a0673e4  2018-11-16 00:32:19 UTC+0000   \n",
       "4    2312639  0c673e046d824ec0ad0ebe012a0673e4  2018-11-16 00:32:19 UTC+0000   \n",
       "\n",
       "     emails_frequency_level                       question_id  \n",
       "0  email_notification_daily  b996a285a43e4a9aa7f111f381a7e5df  \n",
       "1  email_notification_daily  b8c76d86086845668d52b6c481045be7  \n",
       "2  email_notification_daily  749956b01c864e56a791710d1c4b9853  \n",
       "3  email_notification_daily  5614d85fbbad494db3e1a1c2d1ef4ef9  \n",
       "4  email_notification_daily  58ac65d653fe456b8a1728ee57fd861b  "
      ]
     },
     "execution_count": 23,
     "metadata": {},
     "output_type": "execute_result"
    }
   ],
   "source": [
    "# display the first 5 rows of emails.\n",
    "emails.head()"
   ]
  },
  {
   "cell_type": "code",
   "execution_count": 24,
   "id": "29a108d0-ce8b-4c94-b68c-c8e12b2e9451",
   "metadata": {},
   "outputs": [],
   "source": [
    "# convert emails sent time type to datetime.\n",
    "emails['emails_date_sent'] = pd.to_datetime(emails['emails_date_sent'])"
   ]
  },
  {
   "cell_type": "code",
   "execution_count": 25,
   "id": "840ba146-a8f5-4166-a43e-a3a26851c5ee",
   "metadata": {},
   "outputs": [
    {
     "name": "stdout",
     "output_type": "stream",
     "text": [
      "<class 'pandas.core.frame.DataFrame'>\n",
      "RangeIndex: 4316275 entries, 0 to 4316274\n",
      "Data columns (total 5 columns):\n",
      " #   Column                  Dtype              \n",
      "---  ------                  -----              \n",
      " 0   emails_id               int64              \n",
      " 1   emails_recipient_id     object             \n",
      " 2   emails_date_sent        datetime64[ns, UTC]\n",
      " 3   emails_frequency_level  object             \n",
      " 4   question_id             object             \n",
      "dtypes: datetime64[ns, UTC](1), int64(1), object(3)\n",
      "memory usage: 164.7+ MB\n"
     ]
    }
   ],
   "source": [
    "# show email information.\n",
    "emails.info()"
   ]
  },
  {
   "cell_type": "code",
   "execution_count": 26,
   "id": "38f961aa-ed9e-4662-82b1-abfce66287f6",
   "metadata": {},
   "outputs": [
    {
     "data": {
      "text/plain": [
       "(4316275, 5)"
      ]
     },
     "execution_count": 26,
     "metadata": {},
     "output_type": "execute_result"
    }
   ],
   "source": [
    "# show the size of emails dataframe.\n",
    "emails.shape"
   ]
  },
  {
   "cell_type": "code",
   "execution_count": 27,
   "id": "e5810b7e-4544-463d-937c-2e1cb75cac9e",
   "metadata": {},
   "outputs": [
    {
     "data": {
      "text/plain": [
       "emails_id                 0\n",
       "emails_recipient_id       0\n",
       "emails_date_sent          0\n",
       "emails_frequency_level    0\n",
       "question_id               0\n",
       "dtype: int64"
      ]
     },
     "execution_count": 27,
     "metadata": {},
     "output_type": "execute_result"
    }
   ],
   "source": [
    "# check for missing values.\n",
    "emails.isnull().sum()"
   ]
  },
  {
   "cell_type": "code",
   "execution_count": 28,
   "id": "33062198-ff7c-4215-b74e-c118144bc42b",
   "metadata": {},
   "outputs": [
    {
     "data": {
      "text/plain": [
       "0"
      ]
     },
     "execution_count": 28,
     "metadata": {},
     "output_type": "execute_result"
    }
   ],
   "source": [
    "# check for duplicates in emails.\n",
    "emails.duplicated().sum()"
   ]
  },
  {
   "cell_type": "code",
   "execution_count": 29,
   "id": "9b621a06-98a7-419c-b005-6e248cc5009f",
   "metadata": {},
   "outputs": [
    {
     "data": {
      "text/html": [
       "<div>\n",
       "<style scoped>\n",
       "    .dataframe tbody tr th:only-of-type {\n",
       "        vertical-align: middle;\n",
       "    }\n",
       "\n",
       "    .dataframe tbody tr th {\n",
       "        vertical-align: top;\n",
       "    }\n",
       "\n",
       "    .dataframe thead th {\n",
       "        text-align: right;\n",
       "    }\n",
       "</style>\n",
       "<table border=\"1\" class=\"dataframe\">\n",
       "  <thead>\n",
       "    <tr style=\"text-align: right;\">\n",
       "      <th></th>\n",
       "      <th>emails_id</th>\n",
       "      <th>emails_recipient_id</th>\n",
       "      <th>emails_date_sent</th>\n",
       "      <th>emails_frequency_level</th>\n",
       "      <th>question_id</th>\n",
       "    </tr>\n",
       "  </thead>\n",
       "  <tbody>\n",
       "    <tr>\n",
       "      <th>count</th>\n",
       "      <td>4.316275e+06</td>\n",
       "      <td>4316275</td>\n",
       "      <td>4316275</td>\n",
       "      <td>4316275</td>\n",
       "      <td>4316275</td>\n",
       "    </tr>\n",
       "    <tr>\n",
       "      <th>unique</th>\n",
       "      <td>NaN</td>\n",
       "      <td>21826</td>\n",
       "      <td>NaN</td>\n",
       "      <td>3</td>\n",
       "      <td>21894</td>\n",
       "    </tr>\n",
       "    <tr>\n",
       "      <th>top</th>\n",
       "      <td>NaN</td>\n",
       "      <td>64a77f3d3be84ba5a71ba6081e086c3a</td>\n",
       "      <td>NaN</td>\n",
       "      <td>email_notification_daily</td>\n",
       "      <td>d9b06cd477a943b9b3821f37d64a1da3</td>\n",
       "    </tr>\n",
       "    <tr>\n",
       "      <th>freq</th>\n",
       "      <td>NaN</td>\n",
       "      <td>3457</td>\n",
       "      <td>NaN</td>\n",
       "      <td>3655450</td>\n",
       "      <td>2099</td>\n",
       "    </tr>\n",
       "    <tr>\n",
       "      <th>mean</th>\n",
       "      <td>1.478192e+06</td>\n",
       "      <td>NaN</td>\n",
       "      <td>2017-10-09 13:00:02.699494912+00:00</td>\n",
       "      <td>NaN</td>\n",
       "      <td>NaN</td>\n",
       "    </tr>\n",
       "    <tr>\n",
       "      <th>min</th>\n",
       "      <td>1.060000e+02</td>\n",
       "      <td>NaN</td>\n",
       "      <td>2013-11-23 00:17:42+00:00</td>\n",
       "      <td>NaN</td>\n",
       "      <td>NaN</td>\n",
       "    </tr>\n",
       "    <tr>\n",
       "      <th>25%</th>\n",
       "      <td>1.011924e+06</td>\n",
       "      <td>NaN</td>\n",
       "      <td>2017-01-18 23:12:51+00:00</td>\n",
       "      <td>NaN</td>\n",
       "      <td>NaN</td>\n",
       "    </tr>\n",
       "    <tr>\n",
       "      <th>50%</th>\n",
       "      <td>1.544656e+06</td>\n",
       "      <td>NaN</td>\n",
       "      <td>2018-02-07 03:00:35+00:00</td>\n",
       "      <td>NaN</td>\n",
       "      <td>NaN</td>\n",
       "    </tr>\n",
       "    <tr>\n",
       "      <th>75%</th>\n",
       "      <td>1.970642e+06</td>\n",
       "      <td>NaN</td>\n",
       "      <td>2018-06-18 00:32:19+00:00</td>\n",
       "      <td>NaN</td>\n",
       "      <td>NaN</td>\n",
       "    </tr>\n",
       "    <tr>\n",
       "      <th>max</th>\n",
       "      <td>2.409829e+06</td>\n",
       "      <td>NaN</td>\n",
       "      <td>2019-01-31 23:33:06+00:00</td>\n",
       "      <td>NaN</td>\n",
       "      <td>NaN</td>\n",
       "    </tr>\n",
       "    <tr>\n",
       "      <th>std</th>\n",
       "      <td>5.895280e+05</td>\n",
       "      <td>NaN</td>\n",
       "      <td>NaN</td>\n",
       "      <td>NaN</td>\n",
       "      <td>NaN</td>\n",
       "    </tr>\n",
       "  </tbody>\n",
       "</table>\n",
       "</div>"
      ],
      "text/plain": [
       "           emails_id               emails_recipient_id  \\\n",
       "count   4.316275e+06                           4316275   \n",
       "unique           NaN                             21826   \n",
       "top              NaN  64a77f3d3be84ba5a71ba6081e086c3a   \n",
       "freq             NaN                              3457   \n",
       "mean    1.478192e+06                               NaN   \n",
       "min     1.060000e+02                               NaN   \n",
       "25%     1.011924e+06                               NaN   \n",
       "50%     1.544656e+06                               NaN   \n",
       "75%     1.970642e+06                               NaN   \n",
       "max     2.409829e+06                               NaN   \n",
       "std     5.895280e+05                               NaN   \n",
       "\n",
       "                           emails_date_sent    emails_frequency_level  \\\n",
       "count                               4316275                   4316275   \n",
       "unique                                  NaN                         3   \n",
       "top                                     NaN  email_notification_daily   \n",
       "freq                                    NaN                   3655450   \n",
       "mean    2017-10-09 13:00:02.699494912+00:00                       NaN   \n",
       "min               2013-11-23 00:17:42+00:00                       NaN   \n",
       "25%               2017-01-18 23:12:51+00:00                       NaN   \n",
       "50%               2018-02-07 03:00:35+00:00                       NaN   \n",
       "75%               2018-06-18 00:32:19+00:00                       NaN   \n",
       "max               2019-01-31 23:33:06+00:00                       NaN   \n",
       "std                                     NaN                       NaN   \n",
       "\n",
       "                             question_id  \n",
       "count                            4316275  \n",
       "unique                             21894  \n",
       "top     d9b06cd477a943b9b3821f37d64a1da3  \n",
       "freq                                2099  \n",
       "mean                                 NaN  \n",
       "min                                  NaN  \n",
       "25%                                  NaN  \n",
       "50%                                  NaN  \n",
       "75%                                  NaN  \n",
       "max                                  NaN  \n",
       "std                                  NaN  "
      ]
     },
     "execution_count": 29,
     "metadata": {},
     "output_type": "execute_result"
    }
   ],
   "source": [
    "# get statisticial summary for emails.\n",
    "emails.describe(include='all')"
   ]
  },
  {
   "cell_type": "code",
   "execution_count": 30,
   "id": "54cf6ba7-4188-4922-b328-bf8df931b8a6",
   "metadata": {
    "scrolled": true
   },
   "outputs": [
    {
     "data": {
      "text/plain": [
       "emails_frequency_level\n",
       "email_notification_daily        3655450\n",
       "email_notification_weekly        338632\n",
       "email_notification_immediate     322193\n",
       "Name: count, dtype: int64"
      ]
     },
     "execution_count": 30,
     "metadata": {},
     "output_type": "execute_result"
    }
   ],
   "source": [
    "# display value counts of email frequency level.\n",
    "emails_frequency_level_proportion = emails['emails_frequency_level'].value_counts()\n",
    "emails_frequency_level_proportion"
   ]
  },
  {
   "cell_type": "code",
   "execution_count": 31,
   "id": "b04062d5-bd3f-4eb0-8172-097e7c173216",
   "metadata": {
    "scrolled": true
   },
   "outputs": [
    {
     "data": {
      "image/png": "[encoded data removed]",
      "text/plain": [
       "<Figure size 800x800 with 1 Axes>"
      ]
     },
     "metadata": {},
     "output_type": "display_data"
    }
   ],
   "source": [
    "# plot pie chart for show the percent of emails frequwency level.\n",
    "emails_frequency_level_proportion = {\n",
    "    'email_notification_daily': 0.846899,\n",
    "    'email_notification_weekly': 0.078455,\n",
    "    'email_notification_immediate': 0.074646\n",
    "}\n",
    "# Extract the labels and sizes from the dictionary\n",
    "labels = emails_frequency_level_proportion.keys()\n",
    "sizes = emails_frequency_level_proportion.values()\n",
    "\n",
    "# Create a pie chart\n",
    "plt.figure(figsize=(8, 8))\n",
    "plt.pie(sizes, labels=labels, autopct='%1.1f%%')\n",
    "plt.title('Proportion of Email Frequency Levels')\n",
    "plt.axis('equal')  # Equal aspect ratio ensures that pie is drawn as a circle.\n",
    "plt.show()"
   ]
  },
  {
   "cell_type": "code",
   "execution_count": 32,
   "id": "a93cfa0e-7a1c-416e-8afc-8a6d070e6d23",
   "metadata": {},
   "outputs": [],
   "source": [
    "# Set the datetime as the index\n",
    "emails.set_index('emails_date_sent', inplace=True)"
   ]
  },
  {
   "cell_type": "code",
   "execution_count": 33,
   "id": "13fedf51-1472-4f9c-97e4-f642cf5599df",
   "metadata": {},
   "outputs": [],
   "source": [
    "# Resample the data by day to get daily email counts\n",
    "daily_emails = emails.resample('D').size()"
   ]
  },
  {
   "cell_type": "code",
   "execution_count": 34,
   "id": "c454962f-e1be-45b4-9d81-b089eae6c26e",
   "metadata": {},
   "outputs": [
    {
     "data": {
      "image/png": "[encoded data removed]",
      "text/plain": [
       "<Figure size 1200x600 with 1 Axes>"
      ]
     },
     "metadata": {},
     "output_type": "display_data"
    }
   ],
   "source": [
    "# Plotting the time series\n",
    "plt.figure(figsize=(12, 6))\n",
    "sns.lineplot(x=daily_emails.index, y=daily_emails.values)\n",
    "plt.xlabel('Date')\n",
    "plt.ylabel('Number of Emails Sent evey Day')\n",
    "plt.title('Distribution of Emails Sent Over Time')\n",
    "plt.show()"
   ]
  },
  {
   "cell_type": "code",
   "execution_count": 35,
   "id": "81a4b73c-d8e5-4423-aa14-199492e8be1c",
   "metadata": {},
   "outputs": [],
   "source": [
    "# save emails to csv file in folder of tableau  to make visualizations.\n",
    "emails.to_csv('tableau/emails.csv', index=False)"
   ]
  },
  {
   "cell_type": "markdown",
   "id": "754379c2-0ab7-4167-b029-2b659b4ecf6a",
   "metadata": {},
   "source": [
    "# load and merge groups and group_membership."
   ]
  },
  {
   "cell_type": "code",
   "execution_count": 36,
   "id": "add98c33-0b4a-41ac-a2c8-eedc2cf7c401",
   "metadata": {},
   "outputs": [
    {
     "data": {
      "text/html": [
       "<div>\n",
       "<style scoped>\n",
       "    .dataframe tbody tr th:only-of-type {\n",
       "        vertical-align: middle;\n",
       "    }\n",
       "\n",
       "    .dataframe tbody tr th {\n",
       "        vertical-align: top;\n",
       "    }\n",
       "\n",
       "    .dataframe thead th {\n",
       "        text-align: right;\n",
       "    }\n",
       "</style>\n",
       "<table border=\"1\" class=\"dataframe\">\n",
       "  <thead>\n",
       "    <tr style=\"text-align: right;\">\n",
       "      <th></th>\n",
       "      <th>cid</th>\n",
       "      <th>name</th>\n",
       "      <th>type</th>\n",
       "      <th>notnull</th>\n",
       "      <th>dflt_value</th>\n",
       "      <th>pk</th>\n",
       "    </tr>\n",
       "  </thead>\n",
       "  <tbody>\n",
       "    <tr>\n",
       "      <th>0</th>\n",
       "      <td>0</td>\n",
       "      <td>group_id</td>\n",
       "      <td>TEXT</td>\n",
       "      <td>0</td>\n",
       "      <td>None</td>\n",
       "      <td>0</td>\n",
       "    </tr>\n",
       "    <tr>\n",
       "      <th>1</th>\n",
       "      <td>1</td>\n",
       "      <td>group_type</td>\n",
       "      <td>TEXT</td>\n",
       "      <td>0</td>\n",
       "      <td>None</td>\n",
       "      <td>0</td>\n",
       "    </tr>\n",
       "  </tbody>\n",
       "</table>\n",
       "</div>"
      ],
      "text/plain": [
       "   cid        name  type  notnull dflt_value  pk\n",
       "0    0    group_id  TEXT        0       None   0\n",
       "1    1  group_type  TEXT        0       None   0"
      ]
     },
     "execution_count": 36,
     "metadata": {},
     "output_type": "execute_result"
    }
   ],
   "source": [
    "# show groups table information\n",
    "query = \"PRAGMA table_info(groups);\"\n",
    "emails_info = pd.read_sql(query,conn)\n",
    "emails_info"
   ]
  },
  {
   "cell_type": "code",
   "execution_count": 37,
   "id": "d91dafa3-0f68-4bb3-9a2f-ac722724c5c0",
   "metadata": {},
   "outputs": [
    {
     "data": {
      "text/html": [
       "<div>\n",
       "<style scoped>\n",
       "    .dataframe tbody tr th:only-of-type {\n",
       "        vertical-align: middle;\n",
       "    }\n",
       "\n",
       "    .dataframe tbody tr th {\n",
       "        vertical-align: top;\n",
       "    }\n",
       "\n",
       "    .dataframe thead th {\n",
       "        text-align: right;\n",
       "    }\n",
       "</style>\n",
       "<table border=\"1\" class=\"dataframe\">\n",
       "  <thead>\n",
       "    <tr style=\"text-align: right;\">\n",
       "      <th></th>\n",
       "      <th>cid</th>\n",
       "      <th>name</th>\n",
       "      <th>type</th>\n",
       "      <th>notnull</th>\n",
       "      <th>dflt_value</th>\n",
       "      <th>pk</th>\n",
       "    </tr>\n",
       "  </thead>\n",
       "  <tbody>\n",
       "    <tr>\n",
       "      <th>0</th>\n",
       "      <td>0</td>\n",
       "      <td>group_id</td>\n",
       "      <td>TEXT</td>\n",
       "      <td>0</td>\n",
       "      <td>None</td>\n",
       "      <td>0</td>\n",
       "    </tr>\n",
       "    <tr>\n",
       "      <th>1</th>\n",
       "      <td>1</td>\n",
       "      <td>user_id</td>\n",
       "      <td>TEXT</td>\n",
       "      <td>0</td>\n",
       "      <td>None</td>\n",
       "      <td>0</td>\n",
       "    </tr>\n",
       "  </tbody>\n",
       "</table>\n",
       "</div>"
      ],
      "text/plain": [
       "   cid      name  type  notnull dflt_value  pk\n",
       "0    0  group_id  TEXT        0       None   0\n",
       "1    1   user_id  TEXT        0       None   0"
      ]
     },
     "execution_count": 37,
     "metadata": {},
     "output_type": "execute_result"
    }
   ],
   "source": [
    "# show group_memberships table information\n",
    "query = \"PRAGMA table_info(group_memberships);\"\n",
    "emails_info = pd.read_sql(query,conn)\n",
    "emails_info"
   ]
  },
  {
   "cell_type": "code",
   "execution_count": 38,
   "id": "ef5a7507-a289-47e7-bef8-5150610248c2",
   "metadata": {},
   "outputs": [],
   "source": [
    "query2 =\"\"\"\n",
    "SELECT gm.group_id, gm.user_id, g.group_type \n",
    "FROM group_memberships as gm\n",
    "JOIN groups as g\n",
    "ON g.group_id = gm.group_id\n",
    "\"\"\""
   ]
  },
  {
   "cell_type": "code",
   "execution_count": 39,
   "id": "5861eaa6-6f1e-449c-ade5-30ef025da460",
   "metadata": {},
   "outputs": [
    {
     "data": {
      "text/html": [
       "<div>\n",
       "<style scoped>\n",
       "    .dataframe tbody tr th:only-of-type {\n",
       "        vertical-align: middle;\n",
       "    }\n",
       "\n",
       "    .dataframe tbody tr th {\n",
       "        vertical-align: top;\n",
       "    }\n",
       "\n",
       "    .dataframe thead th {\n",
       "        text-align: right;\n",
       "    }\n",
       "</style>\n",
       "<table border=\"1\" class=\"dataframe\">\n",
       "  <thead>\n",
       "    <tr style=\"text-align: right;\">\n",
       "      <th></th>\n",
       "      <th>group_id</th>\n",
       "      <th>user_id</th>\n",
       "      <th>group_type</th>\n",
       "    </tr>\n",
       "  </thead>\n",
       "  <tbody>\n",
       "    <tr>\n",
       "      <th>0</th>\n",
       "      <td>eabbdf4029734c848a9da20779637d03</td>\n",
       "      <td>9a5aead62c344207b2624dba90985dc5</td>\n",
       "      <td>youth program</td>\n",
       "    </tr>\n",
       "    <tr>\n",
       "      <th>1</th>\n",
       "      <td>eabbdf4029734c848a9da20779637d03</td>\n",
       "      <td>ea7122da1c7b4244a2184a4f9f944053</td>\n",
       "      <td>youth program</td>\n",
       "    </tr>\n",
       "    <tr>\n",
       "      <th>2</th>\n",
       "      <td>eabbdf4029734c848a9da20779637d03</td>\n",
       "      <td>cba603f34acb4a40b3ccb53fe6681b5d</td>\n",
       "      <td>youth program</td>\n",
       "    </tr>\n",
       "    <tr>\n",
       "      <th>3</th>\n",
       "      <td>eabbdf4029734c848a9da20779637d03</td>\n",
       "      <td>fa9a126e63714641ae0145557a390cab</td>\n",
       "      <td>youth program</td>\n",
       "    </tr>\n",
       "    <tr>\n",
       "      <th>4</th>\n",
       "      <td>eabbdf4029734c848a9da20779637d03</td>\n",
       "      <td>299da113c5d1420ab525106c242c9429</td>\n",
       "      <td>youth program</td>\n",
       "    </tr>\n",
       "  </tbody>\n",
       "</table>\n",
       "</div>"
      ],
      "text/plain": [
       "                           group_id                           user_id  \\\n",
       "0  eabbdf4029734c848a9da20779637d03  9a5aead62c344207b2624dba90985dc5   \n",
       "1  eabbdf4029734c848a9da20779637d03  ea7122da1c7b4244a2184a4f9f944053   \n",
       "2  eabbdf4029734c848a9da20779637d03  cba603f34acb4a40b3ccb53fe6681b5d   \n",
       "3  eabbdf4029734c848a9da20779637d03  fa9a126e63714641ae0145557a390cab   \n",
       "4  eabbdf4029734c848a9da20779637d03  299da113c5d1420ab525106c242c9429   \n",
       "\n",
       "      group_type  \n",
       "0  youth program  \n",
       "1  youth program  \n",
       "2  youth program  \n",
       "3  youth program  \n",
       "4  youth program  "
      ]
     },
     "execution_count": 39,
     "metadata": {},
     "output_type": "execute_result"
    }
   ],
   "source": [
    "# load merged tables in to data frame.\n",
    "groups = pd.read_sql(query2, conn)\n",
    "groups.head()"
   ]
  },
  {
   "cell_type": "code",
   "execution_count": 40,
   "id": "faa8ee28-3156-4a72-9120-ed653ea1d933",
   "metadata": {},
   "outputs": [
    {
     "name": "stdout",
     "output_type": "stream",
     "text": [
      "<class 'pandas.core.frame.DataFrame'>\n",
      "RangeIndex: 1038 entries, 0 to 1037\n",
      "Data columns (total 3 columns):\n",
      " #   Column      Non-Null Count  Dtype \n",
      "---  ------      --------------  ----- \n",
      " 0   group_id    1038 non-null   object\n",
      " 1   user_id     1038 non-null   object\n",
      " 2   group_type  1038 non-null   object\n",
      "dtypes: object(3)\n",
      "memory usage: 24.5+ KB\n"
     ]
    }
   ],
   "source": [
    "# show groups information.\n",
    "groups.info()"
   ]
  },
  {
   "cell_type": "code",
   "execution_count": 41,
   "id": "0f376f22-c3bc-4f91-ab0e-0fcbc3d8cabc",
   "metadata": {},
   "outputs": [
    {
     "data": {
      "text/plain": [
       "group_id      0\n",
       "user_id       0\n",
       "group_type    0\n",
       "dtype: int64"
      ]
     },
     "execution_count": 41,
     "metadata": {},
     "output_type": "execute_result"
    }
   ],
   "source": [
    "# check for missing values.\n",
    "groups.isna().sum()"
   ]
  },
  {
   "cell_type": "code",
   "execution_count": 42,
   "id": "2af46faf-3e43-49ce-a5ef-cca5a8638363",
   "metadata": {},
   "outputs": [
    {
     "data": {
      "text/plain": [
       "1"
      ]
     },
     "execution_count": 42,
     "metadata": {},
     "output_type": "execute_result"
    }
   ],
   "source": [
    "# check for duplicates.\n",
    "groups.duplicated().sum()"
   ]
  },
  {
   "cell_type": "code",
   "execution_count": 43,
   "id": "fa0ba9a1-a2f4-4baf-8fa3-015a5b547d78",
   "metadata": {},
   "outputs": [],
   "source": [
    "# drop duplicates.\n",
    "groups.drop_duplicates(inplace=True)"
   ]
  },
  {
   "cell_type": "code",
   "execution_count": 44,
   "id": "98ab28eb-3a8d-4ae1-b90b-4fbfb7319118",
   "metadata": {},
   "outputs": [
    {
     "data": {
      "text/html": [
       "<div>\n",
       "<style scoped>\n",
       "    .dataframe tbody tr th:only-of-type {\n",
       "        vertical-align: middle;\n",
       "    }\n",
       "\n",
       "    .dataframe tbody tr th {\n",
       "        vertical-align: top;\n",
       "    }\n",
       "\n",
       "    .dataframe thead th {\n",
       "        text-align: right;\n",
       "    }\n",
       "</style>\n",
       "<table border=\"1\" class=\"dataframe\">\n",
       "  <thead>\n",
       "    <tr style=\"text-align: right;\">\n",
       "      <th></th>\n",
       "      <th>group_id</th>\n",
       "      <th>user_id</th>\n",
       "      <th>group_type</th>\n",
       "    </tr>\n",
       "  </thead>\n",
       "  <tbody>\n",
       "    <tr>\n",
       "      <th>count</th>\n",
       "      <td>1037</td>\n",
       "      <td>1037</td>\n",
       "      <td>1037</td>\n",
       "    </tr>\n",
       "    <tr>\n",
       "      <th>unique</th>\n",
       "      <td>46</td>\n",
       "      <td>727</td>\n",
       "      <td>7</td>\n",
       "    </tr>\n",
       "    <tr>\n",
       "      <th>top</th>\n",
       "      <td>f16d593910bf443598839021bbe97128</td>\n",
       "      <td>b0f6c44506444fb99e910dcc5836b5d8</td>\n",
       "      <td>youth program</td>\n",
       "    </tr>\n",
       "    <tr>\n",
       "      <th>freq</th>\n",
       "      <td>117</td>\n",
       "      <td>14</td>\n",
       "      <td>652</td>\n",
       "    </tr>\n",
       "  </tbody>\n",
       "</table>\n",
       "</div>"
      ],
      "text/plain": [
       "                                group_id                           user_id  \\\n",
       "count                               1037                              1037   \n",
       "unique                                46                               727   \n",
       "top     f16d593910bf443598839021bbe97128  b0f6c44506444fb99e910dcc5836b5d8   \n",
       "freq                                 117                                14   \n",
       "\n",
       "           group_type  \n",
       "count            1037  \n",
       "unique              7  \n",
       "top     youth program  \n",
       "freq              652  "
      ]
     },
     "execution_count": 44,
     "metadata": {},
     "output_type": "execute_result"
    }
   ],
   "source": [
    "# get staistics summary.\n",
    "groups.describe(include='all')"
   ]
  },
  {
   "cell_type": "code",
   "execution_count": 45,
   "id": "0b60228d-dc43-46fb-a26d-7d47a0363867",
   "metadata": {},
   "outputs": [
    {
     "data": {
      "text/plain": [
       "group_type\n",
       "youth program           652\n",
       "cause                   232\n",
       "professional network     92\n",
       "club                     22\n",
       "mentorship program       22\n",
       "interest group           13\n",
       "competition               4\n",
       "Name: count, dtype: int64"
      ]
     },
     "execution_count": 45,
     "metadata": {},
     "output_type": "execute_result"
    }
   ],
   "source": [
    "# groups type value counts.\n",
    "groups['group_type'].value_counts()"
   ]
  },
  {
   "cell_type": "code",
   "execution_count": 46,
   "id": "9295a277-ee9f-4921-9f89-4eb12362cb3f",
   "metadata": {},
   "outputs": [
    {
     "data": {
      "image/png": "[encoded data removed]",
      "text/plain": [
       "<Figure size 1000x500 with 1 Axes>"
      ]
     },
     "metadata": {},
     "output_type": "display_data"
    }
   ],
   "source": [
    "# plot a bar plot for groups type value counts.\n",
    "plt.figure(figsize=(10,5))\n",
    "ax = groups['group_type'].value_counts().plot(kind='bar')\n",
    "plt.xticks(rotation=45)\n",
    "# Add count labels to each bar\n",
    "for p in ax.patches:\n",
    "    ax.annotate(f\"{p.get_height()}\", (p.get_x() + p.get_width() / 2., p.get_height()),\n",
    "                ha='center', va='bottom')\n",
    "plt.xlabel('Group Type')\n",
    "plt.ylabel('Count')\n",
    "plt.title('Group Type Distribution')\n",
    "plt.show()"
   ]
  },
  {
   "cell_type": "code",
   "execution_count": 47,
   "id": "8739d5a2-2a38-4aed-9aa1-48a87a3fb6ee",
   "metadata": {},
   "outputs": [],
   "source": [
    "# save groups to csv to csv file in folder of tableau  to make visualizations.\n",
    "groups.to_csv('tableau/groups.csv', index=False)"
   ]
  },
  {
   "cell_type": "markdown",
   "id": "3590a0ec-3633-4381-8411-e138a1193713",
   "metadata": {},
   "source": [
    "# load professionals in data frame."
   ]
  },
  {
   "cell_type": "code",
   "execution_count": 48,
   "id": "0575856b-09f5-4e01-9099-960ca86615f5",
   "metadata": {
    "scrolled": true
   },
   "outputs": [
    {
     "data": {
      "text/html": [
       "<div>\n",
       "<style scoped>\n",
       "    .dataframe tbody tr th:only-of-type {\n",
       "        vertical-align: middle;\n",
       "    }\n",
       "\n",
       "    .dataframe tbody tr th {\n",
       "        vertical-align: top;\n",
       "    }\n",
       "\n",
       "    .dataframe thead th {\n",
       "        text-align: right;\n",
       "    }\n",
       "</style>\n",
       "<table border=\"1\" class=\"dataframe\">\n",
       "  <thead>\n",
       "    <tr style=\"text-align: right;\">\n",
       "      <th></th>\n",
       "      <th>professionals_id</th>\n",
       "      <th>professionals_location</th>\n",
       "      <th>professionals_industry</th>\n",
       "      <th>professionals_headline</th>\n",
       "      <th>professionals_date_joined</th>\n",
       "    </tr>\n",
       "  </thead>\n",
       "  <tbody>\n",
       "    <tr>\n",
       "      <th>0</th>\n",
       "      <td>68ecc66323b8418092fdd724aaf5be94</td>\n",
       "      <td>New York, New York</td>\n",
       "      <td>Special Events</td>\n",
       "      <td>Event Hospitality &amp; Operations Specialist</td>\n",
       "      <td>2011-12-26 05:00:00 UTC+0000</td>\n",
       "    </tr>\n",
       "    <tr>\n",
       "      <th>1</th>\n",
       "      <td>c79d4e4fd9af4ab7a7e6b6f433128476</td>\n",
       "      <td>New York, New York</td>\n",
       "      <td>education, tech, media</td>\n",
       "      <td>media, technology, education</td>\n",
       "      <td>2011-12-26 05:00:00 UTC+0000</td>\n",
       "    </tr>\n",
       "    <tr>\n",
       "      <th>2</th>\n",
       "      <td>1e4cc96c24344c8b806c26c3e6746167</td>\n",
       "      <td>Boston, Massachusetts</td>\n",
       "      <td>Hospitality &amp; Consulting</td>\n",
       "      <td>Hospitality and Restaurant Consultant</td>\n",
       "      <td>2011-12-28 14:35:42 UTC+0000</td>\n",
       "    </tr>\n",
       "    <tr>\n",
       "      <th>3</th>\n",
       "      <td>1ec14aee9311480681dfa81b0f193de8</td>\n",
       "      <td>Denton, Texas</td>\n",
       "      <td>Software</td>\n",
       "      <td>Google Software Engineer</td>\n",
       "      <td>2012-01-15 19:21:07 UTC+0000</td>\n",
       "    </tr>\n",
       "    <tr>\n",
       "      <th>4</th>\n",
       "      <td>ccad7c94952a49b9ad0fb85b09d1398d</td>\n",
       "      <td>New York, New York</td>\n",
       "      <td>Mobile</td>\n",
       "      <td>Co-founder of mobile fashion shopping app</td>\n",
       "      <td>2012-01-23 16:54:25 UTC+0000</td>\n",
       "    </tr>\n",
       "  </tbody>\n",
       "</table>\n",
       "</div>"
      ],
      "text/plain": [
       "                   professionals_id professionals_location  \\\n",
       "0  68ecc66323b8418092fdd724aaf5be94     New York, New York   \n",
       "1  c79d4e4fd9af4ab7a7e6b6f433128476     New York, New York   \n",
       "2  1e4cc96c24344c8b806c26c3e6746167  Boston, Massachusetts   \n",
       "3  1ec14aee9311480681dfa81b0f193de8          Denton, Texas   \n",
       "4  ccad7c94952a49b9ad0fb85b09d1398d     New York, New York   \n",
       "\n",
       "     professionals_industry                     professionals_headline  \\\n",
       "0            Special Events  Event Hospitality & Operations Specialist   \n",
       "1    education, tech, media               media, technology, education   \n",
       "2  Hospitality & Consulting      Hospitality and Restaurant Consultant   \n",
       "3                  Software                   Google Software Engineer   \n",
       "4                    Mobile  Co-founder of mobile fashion shopping app   \n",
       "\n",
       "      professionals_date_joined  \n",
       "0  2011-12-26 05:00:00 UTC+0000  \n",
       "1  2011-12-26 05:00:00 UTC+0000  \n",
       "2  2011-12-28 14:35:42 UTC+0000  \n",
       "3  2012-01-15 19:21:07 UTC+0000  \n",
       "4  2012-01-23 16:54:25 UTC+0000  "
      ]
     },
     "execution_count": 48,
     "metadata": {},
     "output_type": "execute_result"
    }
   ],
   "source": [
    "# load table professionals into data frame.\n",
    "query3 = \"\"\"\n",
    "SELECT * \n",
    "FROM professionals\n",
    "\"\"\"\n",
    "professionals = pd.read_sql(query3, conn)\n",
    "professionals.head()"
   ]
  },
  {
   "cell_type": "code",
   "execution_count": 49,
   "id": "cacdc22f-b26c-47cf-bfcd-53dc55a7ebcc",
   "metadata": {},
   "outputs": [
    {
     "name": "stdout",
     "output_type": "stream",
     "text": [
      "<class 'pandas.core.frame.DataFrame'>\n",
      "RangeIndex: 22902 entries, 0 to 22901\n",
      "Data columns (total 5 columns):\n",
      " #   Column                     Non-Null Count  Dtype \n",
      "---  ------                     --------------  ----- \n",
      " 0   professionals_id           22902 non-null  object\n",
      " 1   professionals_location     22902 non-null  object\n",
      " 2   professionals_industry     22902 non-null  object\n",
      " 3   professionals_headline     22902 non-null  object\n",
      " 4   professionals_date_joined  22902 non-null  object\n",
      "dtypes: object(5)\n",
      "memory usage: 894.7+ KB\n"
     ]
    }
   ],
   "source": [
    "# get professionals informations.\n",
    "professionals.info()"
   ]
  },
  {
   "cell_type": "code",
   "execution_count": 50,
   "id": "9a1a4660-4384-4ce9-a226-67f692e1f9ef",
   "metadata": {},
   "outputs": [],
   "source": [
    "# convert professionals date join to datetime. \n",
    "professionals['professionals_date_joined'] = pd.to_datetime(professionals['professionals_date_joined'])"
   ]
  },
  {
   "cell_type": "code",
   "execution_count": 51,
   "id": "8cd2fe1d-2067-42d7-a9cf-3824f4e1c93d",
   "metadata": {},
   "outputs": [
    {
     "name": "stdout",
     "output_type": "stream",
     "text": [
      "<class 'pandas.core.frame.DataFrame'>\n",
      "RangeIndex: 22902 entries, 0 to 22901\n",
      "Data columns (total 5 columns):\n",
      " #   Column                     Non-Null Count  Dtype              \n",
      "---  ------                     --------------  -----              \n",
      " 0   professionals_id           22902 non-null  object             \n",
      " 1   professionals_location     22902 non-null  object             \n",
      " 2   professionals_industry     22902 non-null  object             \n",
      " 3   professionals_headline     22902 non-null  object             \n",
      " 4   professionals_date_joined  22902 non-null  datetime64[ns, UTC]\n",
      "dtypes: datetime64[ns, UTC](1), object(4)\n",
      "memory usage: 894.7+ KB\n"
     ]
    }
   ],
   "source": [
    "# check for convertion.\n",
    "professionals.info()"
   ]
  },
  {
   "cell_type": "code",
   "execution_count": 52,
   "id": "8af2fbfe-2eab-4614-b503-689bbed9a637",
   "metadata": {},
   "outputs": [
    {
     "data": {
      "text/plain": [
       "professionals_id             0\n",
       "professionals_location       0\n",
       "professionals_industry       0\n",
       "professionals_headline       0\n",
       "professionals_date_joined    0\n",
       "dtype: int64"
      ]
     },
     "execution_count": 52,
     "metadata": {},
     "output_type": "execute_result"
    }
   ],
   "source": [
    "# check for missing values.\n",
    "professionals.isnull().sum()"
   ]
  },
  {
   "cell_type": "code",
   "execution_count": 53,
   "id": "101d4b26-2e86-4c65-bcf2-6003594a32f8",
   "metadata": {},
   "outputs": [
    {
     "data": {
      "text/plain": [
       "0"
      ]
     },
     "execution_count": 53,
     "metadata": {},
     "output_type": "execute_result"
    }
   ],
   "source": [
    "# check for duplicates.\n",
    "professionals.duplicated().sum()"
   ]
  },
  {
   "cell_type": "code",
   "execution_count": 54,
   "id": "59c73aa3-68c3-409e-8fb6-e927c84c5161",
   "metadata": {},
   "outputs": [
    {
     "data": {
      "text/html": [
       "<div>\n",
       "<style scoped>\n",
       "    .dataframe tbody tr th:only-of-type {\n",
       "        vertical-align: middle;\n",
       "    }\n",
       "\n",
       "    .dataframe tbody tr th {\n",
       "        vertical-align: top;\n",
       "    }\n",
       "\n",
       "    .dataframe thead th {\n",
       "        text-align: right;\n",
       "    }\n",
       "</style>\n",
       "<table border=\"1\" class=\"dataframe\">\n",
       "  <thead>\n",
       "    <tr style=\"text-align: right;\">\n",
       "      <th></th>\n",
       "      <th>professionals_id</th>\n",
       "      <th>professionals_location</th>\n",
       "      <th>professionals_industry</th>\n",
       "      <th>professionals_headline</th>\n",
       "      <th>professionals_date_joined</th>\n",
       "    </tr>\n",
       "  </thead>\n",
       "  <tbody>\n",
       "    <tr>\n",
       "      <th>count</th>\n",
       "      <td>22902</td>\n",
       "      <td>22902</td>\n",
       "      <td>22902</td>\n",
       "      <td>22902</td>\n",
       "      <td>22902</td>\n",
       "    </tr>\n",
       "    <tr>\n",
       "      <th>unique</th>\n",
       "      <td>22902</td>\n",
       "      <td>2396</td>\n",
       "      <td>2268</td>\n",
       "      <td>20320</td>\n",
       "      <td>NaN</td>\n",
       "    </tr>\n",
       "    <tr>\n",
       "      <th>top</th>\n",
       "      <td>68ecc66323b8418092fdd724aaf5be94</td>\n",
       "      <td>New York, New York</td>\n",
       "      <td>Information Technology and Services</td>\n",
       "      <td>--</td>\n",
       "      <td>NaN</td>\n",
       "    </tr>\n",
       "    <tr>\n",
       "      <th>freq</th>\n",
       "      <td>1</td>\n",
       "      <td>1226</td>\n",
       "      <td>2074</td>\n",
       "      <td>176</td>\n",
       "      <td>NaN</td>\n",
       "    </tr>\n",
       "    <tr>\n",
       "      <th>mean</th>\n",
       "      <td>NaN</td>\n",
       "      <td>NaN</td>\n",
       "      <td>NaN</td>\n",
       "      <td>NaN</td>\n",
       "      <td>2017-06-03 18:58:25.000131072+00:00</td>\n",
       "    </tr>\n",
       "    <tr>\n",
       "      <th>min</th>\n",
       "      <td>NaN</td>\n",
       "      <td>NaN</td>\n",
       "      <td>NaN</td>\n",
       "      <td>NaN</td>\n",
       "      <td>2011-12-26 05:00:00+00:00</td>\n",
       "    </tr>\n",
       "    <tr>\n",
       "      <th>25%</th>\n",
       "      <td>NaN</td>\n",
       "      <td>NaN</td>\n",
       "      <td>NaN</td>\n",
       "      <td>NaN</td>\n",
       "      <td>2016-05-17 17:43:24.249999872+00:00</td>\n",
       "    </tr>\n",
       "    <tr>\n",
       "      <th>50%</th>\n",
       "      <td>NaN</td>\n",
       "      <td>NaN</td>\n",
       "      <td>NaN</td>\n",
       "      <td>NaN</td>\n",
       "      <td>2017-09-19 23:59:10+00:00</td>\n",
       "    </tr>\n",
       "    <tr>\n",
       "      <th>75%</th>\n",
       "      <td>NaN</td>\n",
       "      <td>NaN</td>\n",
       "      <td>NaN</td>\n",
       "      <td>NaN</td>\n",
       "      <td>2018-06-18 13:22:21.249999872+00:00</td>\n",
       "    </tr>\n",
       "    <tr>\n",
       "      <th>max</th>\n",
       "      <td>NaN</td>\n",
       "      <td>NaN</td>\n",
       "      <td>NaN</td>\n",
       "      <td>NaN</td>\n",
       "      <td>2019-01-31 23:59:09+00:00</td>\n",
       "    </tr>\n",
       "  </tbody>\n",
       "</table>\n",
       "</div>"
      ],
      "text/plain": [
       "                        professionals_id professionals_location  \\\n",
       "count                              22902                  22902   \n",
       "unique                             22902                   2396   \n",
       "top     68ecc66323b8418092fdd724aaf5be94     New York, New York   \n",
       "freq                                   1                   1226   \n",
       "mean                                 NaN                    NaN   \n",
       "min                                  NaN                    NaN   \n",
       "25%                                  NaN                    NaN   \n",
       "50%                                  NaN                    NaN   \n",
       "75%                                  NaN                    NaN   \n",
       "max                                  NaN                    NaN   \n",
       "\n",
       "                     professionals_industry professionals_headline  \\\n",
       "count                                 22902                  22902   \n",
       "unique                                 2268                  20320   \n",
       "top     Information Technology and Services                     --   \n",
       "freq                                   2074                    176   \n",
       "mean                                    NaN                    NaN   \n",
       "min                                     NaN                    NaN   \n",
       "25%                                     NaN                    NaN   \n",
       "50%                                     NaN                    NaN   \n",
       "75%                                     NaN                    NaN   \n",
       "max                                     NaN                    NaN   \n",
       "\n",
       "                  professionals_date_joined  \n",
       "count                                 22902  \n",
       "unique                                  NaN  \n",
       "top                                     NaN  \n",
       "freq                                    NaN  \n",
       "mean    2017-06-03 18:58:25.000131072+00:00  \n",
       "min               2011-12-26 05:00:00+00:00  \n",
       "25%     2016-05-17 17:43:24.249999872+00:00  \n",
       "50%               2017-09-19 23:59:10+00:00  \n",
       "75%     2018-06-18 13:22:21.249999872+00:00  \n",
       "max               2019-01-31 23:59:09+00:00  "
      ]
     },
     "execution_count": 54,
     "metadata": {},
     "output_type": "execute_result"
    }
   ],
   "source": [
    "# get summary statistics for professionals.\n",
    "professionals.describe(include='all')"
   ]
  },
  {
   "cell_type": "code",
   "execution_count": 55,
   "id": "d563d07f-1343-448b-985d-101e48e73ab4",
   "metadata": {},
   "outputs": [
    {
     "data": {
      "text/plain": [
       "professionals_id             22902\n",
       "professionals_location        2396\n",
       "professionals_industry        2268\n",
       "professionals_headline       20320\n",
       "professionals_date_joined    22874\n",
       "dtype: int64"
      ]
     },
     "execution_count": 55,
     "metadata": {},
     "output_type": "execute_result"
    }
   ],
   "source": [
    "# ceheck for unique values in professionals.\n",
    "professionals.nunique()"
   ]
  },
  {
   "cell_type": "code",
   "execution_count": 56,
   "id": "9f3e0f91-7887-4853-ab9d-1a16fe0647bf",
   "metadata": {},
   "outputs": [
    {
     "data": {
      "text/plain": [
       "professionals_location\n",
       "New York, New York            1226\n",
       "California, California         841\n",
       "Greater New York City Area     696\n",
       "Boston, Massachusetts          634\n",
       "Los Angeles, California        588\n",
       "Chicago, Illinois              555\n",
       "Austin, Texas                  542\n",
       "Atlanta, Georgia               535\n",
       "Houston, Texas                 510\n",
       "San Francisco Bay Area         501\n",
       "Philadelphia, Pennsylvania     377\n",
       "Greater Atlanta Area           372\n",
       "San Francisco, California      372\n",
       "Dallas/Fort Worth Area         359\n",
       "Greater Los Angeles Area       347\n",
       "Name: count, dtype: int64"
      ]
     },
     "execution_count": 56,
     "metadata": {},
     "output_type": "execute_result"
    }
   ],
   "source": [
    "# get value counts for top 15 in professtionals locations.\n",
    "locations_count = professionals['professionals_location'].value_counts()\n",
    "top_15_locations = locations_count.head(15)\n",
    "top_15_locations"
   ]
  },
  {
   "cell_type": "code",
   "execution_count": 57,
   "id": "7aecd254-8c3e-409f-81ca-28ea52543b7d",
   "metadata": {
    "scrolled": true
   },
   "outputs": [
    {
     "data": {
      "image/png": "[encoded data removed]",
      "text/plain": [
       "<Figure size 1500x600 with 1 Axes>"
      ]
     },
     "metadata": {},
     "output_type": "display_data"
    }
   ],
   "source": [
    "# plot a bar chart for locations.\n",
    "plt.figure(figsize=(15,6))\n",
    "ax = top_15_locations.plot(kind='bar')\n",
    "plt.title('Top 15 Professional Locations')\n",
    "plt.xlabel('Location')\n",
    "plt.ylabel('Count')\n",
    "plt.xticks(rotation=45) # Rotates the x labels for better readability\n",
    "for p in ax.patches:\n",
    "    ax.annotate(f\"{p.get_height()}\",(p.get_x()+ p.get_width()/2., p.get_height()),\n",
    "                ha='center' , va = 'bottom'\n",
    "               )\n",
    "plt.show()"
   ]
  },
  {
   "cell_type": "code",
   "execution_count": 58,
   "id": "bbebb1c5-5cca-4a70-8c74-e9060ccd5214",
   "metadata": {},
   "outputs": [
    {
     "data": {
      "text/plain": [
       "professionals_industry\n",
       "Information Technology and Services    2074\n",
       "Telecommunications                     1306\n",
       "Computer Software                      1249\n",
       "Hospital and Health Care                827\n",
       "Accounting                              767\n",
       "Higher Education                        764\n",
       "Financial Services                      629\n",
       "Education Management                    583\n",
       "Marketing and Advertising               518\n",
       "Internet                                413\n",
       "Name: count, dtype: int64"
      ]
     },
     "execution_count": 58,
     "metadata": {},
     "output_type": "execute_result"
    }
   ],
   "source": [
    "# get value counts for the top 10 industry of professionals.\n",
    "industry_count = professionals['professionals_industry'].value_counts()\n",
    "top_10_industries = industry_count.head(10)\n",
    "top_10_industries"
   ]
  },
  {
   "cell_type": "code",
   "execution_count": 59,
   "id": "466e3be4-44ff-45c2-9849-e0ad5651385d",
   "metadata": {},
   "outputs": [
    {
     "data": {
      "image/png": "[encoded data removed]",
      "text/plain": [
       "<Figure size 1500x600 with 1 Axes>"
      ]
     },
     "metadata": {},
     "output_type": "display_data"
    }
   ],
   "source": [
    "# plot a bar chart for top industries.\n",
    "plt.figure(figsize=(15,6))\n",
    "ax = top_10_industries.plot(kind='bar')\n",
    "plt.title('Top 10 Professional industries')\n",
    "plt.xlabel('industry')\n",
    "plt.ylabel('Count')\n",
    "plt.xticks(rotation=45) # Rotates the x labels for better readability\n",
    "for p in ax.patches:\n",
    "    ax.annotate(f\"{p.get_height()}\",(p.get_x()+ p.get_width()/2., p.get_height()),\n",
    "                ha='center' , va = 'bottom'\n",
    "               )\n",
    "plt.show()"
   ]
  },
  {
   "cell_type": "code",
   "execution_count": 60,
   "id": "9a0e9161-e6ab-476a-9550-d48d919070ab",
   "metadata": {},
   "outputs": [
    {
     "data": {
      "text/plain": [
       "professionals_headline\n",
       "--                            176\n",
       "Assurance Associate at PwC     87\n",
       "Software Engineer              51\n",
       "Senior Associate at PwC        43\n",
       "Biomedical Engineer            38\n",
       "Tax Associate at PwC           37\n",
       "Attorney                       34\n",
       "Mechanical Engineer            34\n",
       "Registered Nurse               32\n",
       "Associate at PwC               28\n",
       "Name: count, dtype: int64"
      ]
     },
     "execution_count": 60,
     "metadata": {},
     "output_type": "execute_result"
    }
   ],
   "source": [
    "# get value counts for the top 10 headlines of professionals.\n",
    "headlines_count = professionals['professionals_headline'].value_counts()\n",
    "top_10_headlines = headlines_count.head(10)\n",
    "top_10_headlines"
   ]
  },
  {
   "cell_type": "code",
   "execution_count": 61,
   "id": "5a7d51c4-5177-4e87-ae45-94ff7d583cc5",
   "metadata": {},
   "outputs": [
    {
     "data": {
      "image/png": "[encoded data removed]",
      "text/plain": [
       "<Figure size 1500x600 with 1 Axes>"
      ]
     },
     "metadata": {},
     "output_type": "display_data"
    }
   ],
   "source": [
    "# plot a bar chart for top headlines.\n",
    "plt.figure(figsize=(15,6))\n",
    "ax = top_10_headlines.plot(kind='bar')\n",
    "plt.title('Top 10 Professional headlines')\n",
    "plt.xlabel('headline')\n",
    "plt.ylabel('Count')\n",
    "plt.xticks(rotation=45) # Rotates the x labels for better readability\n",
    "for p in ax.patches:\n",
    "    ax.annotate(f\"{p.get_height()}\",(p.get_x()+ p.get_width()/2., p.get_height()),\n",
    "                ha='center' , va = 'bottom'\n",
    "               )\n",
    "plt.show()"
   ]
  },
  {
   "cell_type": "code",
   "execution_count": 62,
   "id": "878f6b1f-f35c-405c-83b7-92e613de1adb",
   "metadata": {},
   "outputs": [],
   "source": [
    "# save professionals into csv in tableau folder to visualizations.\n",
    "professionals.to_csv('tableau/professionals.csv', index=False)"
   ]
  },
  {
   "cell_type": "markdown",
   "id": "1a1a3141-50c7-40d0-8d52-398def1f1803",
   "metadata": {
    "jp-MarkdownHeadingCollapsed": true
   },
   "source": [
    "# load questions and merge with it quetion score.\n",
    "to make every question get it score for best analysis."
   ]
  },
  {
   "cell_type": "code",
   "execution_count": 63,
   "id": "57f29f92-deac-4914-880e-5ae408455f60",
   "metadata": {},
   "outputs": [
    {
     "data": {
      "text/html": [
       "<div>\n",
       "<style scoped>\n",
       "    .dataframe tbody tr th:only-of-type {\n",
       "        vertical-align: middle;\n",
       "    }\n",
       "\n",
       "    .dataframe tbody tr th {\n",
       "        vertical-align: top;\n",
       "    }\n",
       "\n",
       "    .dataframe thead th {\n",
       "        text-align: right;\n",
       "    }\n",
       "</style>\n",
       "<table border=\"1\" class=\"dataframe\">\n",
       "  <thead>\n",
       "    <tr style=\"text-align: right;\">\n",
       "      <th></th>\n",
       "      <th>cid</th>\n",
       "      <th>name</th>\n",
       "      <th>type</th>\n",
       "      <th>notnull</th>\n",
       "      <th>dflt_value</th>\n",
       "      <th>pk</th>\n",
       "    </tr>\n",
       "  </thead>\n",
       "  <tbody>\n",
       "    <tr>\n",
       "      <th>0</th>\n",
       "      <td>0</td>\n",
       "      <td>question_id</td>\n",
       "      <td>TEXT</td>\n",
       "      <td>0</td>\n",
       "      <td>None</td>\n",
       "      <td>0</td>\n",
       "    </tr>\n",
       "    <tr>\n",
       "      <th>1</th>\n",
       "      <td>1</td>\n",
       "      <td>author_id</td>\n",
       "      <td>TEXT</td>\n",
       "      <td>0</td>\n",
       "      <td>None</td>\n",
       "      <td>0</td>\n",
       "    </tr>\n",
       "    <tr>\n",
       "      <th>2</th>\n",
       "      <td>2</td>\n",
       "      <td>questions_date_added</td>\n",
       "      <td>TEXT</td>\n",
       "      <td>0</td>\n",
       "      <td>None</td>\n",
       "      <td>0</td>\n",
       "    </tr>\n",
       "    <tr>\n",
       "      <th>3</th>\n",
       "      <td>3</td>\n",
       "      <td>questions_title</td>\n",
       "      <td>TEXT</td>\n",
       "      <td>0</td>\n",
       "      <td>None</td>\n",
       "      <td>0</td>\n",
       "    </tr>\n",
       "    <tr>\n",
       "      <th>4</th>\n",
       "      <td>4</td>\n",
       "      <td>questions_body</td>\n",
       "      <td>TEXT</td>\n",
       "      <td>0</td>\n",
       "      <td>None</td>\n",
       "      <td>0</td>\n",
       "    </tr>\n",
       "  </tbody>\n",
       "</table>\n",
       "</div>"
      ],
      "text/plain": [
       "   cid                  name  type  notnull dflt_value  pk\n",
       "0    0           question_id  TEXT        0       None   0\n",
       "1    1             author_id  TEXT        0       None   0\n",
       "2    2  questions_date_added  TEXT        0       None   0\n",
       "3    3       questions_title  TEXT        0       None   0\n",
       "4    4        questions_body  TEXT        0       None   0"
      ]
     },
     "execution_count": 63,
     "metadata": {},
     "output_type": "execute_result"
    }
   ],
   "source": [
    "# show questions table information\n",
    "query = \"PRAGMA table_info(questions);\"\n",
    "questions_info = pd.read_sql(query,conn)\n",
    "questions_info"
   ]
  },
  {
   "cell_type": "code",
   "execution_count": 64,
   "id": "0adf259b-1eee-4a50-a900-45a9337bb56d",
   "metadata": {},
   "outputs": [
    {
     "data": {
      "text/html": [
       "<div>\n",
       "<style scoped>\n",
       "    .dataframe tbody tr th:only-of-type {\n",
       "        vertical-align: middle;\n",
       "    }\n",
       "\n",
       "    .dataframe tbody tr th {\n",
       "        vertical-align: top;\n",
       "    }\n",
       "\n",
       "    .dataframe thead th {\n",
       "        text-align: right;\n",
       "    }\n",
       "</style>\n",
       "<table border=\"1\" class=\"dataframe\">\n",
       "  <thead>\n",
       "    <tr style=\"text-align: right;\">\n",
       "      <th></th>\n",
       "      <th>cid</th>\n",
       "      <th>name</th>\n",
       "      <th>type</th>\n",
       "      <th>notnull</th>\n",
       "      <th>dflt_value</th>\n",
       "      <th>pk</th>\n",
       "    </tr>\n",
       "  </thead>\n",
       "  <tbody>\n",
       "    <tr>\n",
       "      <th>0</th>\n",
       "      <td>0</td>\n",
       "      <td>question_id</td>\n",
       "      <td>TEXT</td>\n",
       "      <td>0</td>\n",
       "      <td>None</td>\n",
       "      <td>0</td>\n",
       "    </tr>\n",
       "    <tr>\n",
       "      <th>1</th>\n",
       "      <td>1</td>\n",
       "      <td>score</td>\n",
       "      <td>INTEGER</td>\n",
       "      <td>0</td>\n",
       "      <td>None</td>\n",
       "      <td>0</td>\n",
       "    </tr>\n",
       "  </tbody>\n",
       "</table>\n",
       "</div>"
      ],
      "text/plain": [
       "   cid         name     type  notnull dflt_value  pk\n",
       "0    0  question_id     TEXT        0       None   0\n",
       "1    1        score  INTEGER        0       None   0"
      ]
     },
     "execution_count": 64,
     "metadata": {},
     "output_type": "execute_result"
    }
   ],
   "source": [
    "# show question score table information\n",
    "query = \"PRAGMA table_info(question_scores);\"\n",
    "questions_info = pd.read_sql(query,conn)\n",
    "questions_info"
   ]
  },
  {
   "cell_type": "code",
   "execution_count": 65,
   "id": "2886bb37-6683-4dc5-be7f-351ec5c822e7",
   "metadata": {},
   "outputs": [],
   "source": [
    "# query to join questions and question scores tables.\n",
    "query4 = \"\"\"\n",
    "SELECT q.question_id, q.author_id, q.questions_date_added, q.questions_title,q.questions_body , qs.score\n",
    "FROM questions as q \n",
    "INNER JOIN question_scores as qs\n",
    "ON q.question_id = qs.question_id\t\n",
    "\"\"\""
   ]
  },
  {
   "cell_type": "code",
   "execution_count": 66,
   "id": "8f4bb4cb-0048-4202-87f8-f551b11384d3",
   "metadata": {},
   "outputs": [
    {
     "data": {
      "text/html": [
       "<div>\n",
       "<style scoped>\n",
       "    .dataframe tbody tr th:only-of-type {\n",
       "        vertical-align: middle;\n",
       "    }\n",
       "\n",
       "    .dataframe tbody tr th {\n",
       "        vertical-align: top;\n",
       "    }\n",
       "\n",
       "    .dataframe thead th {\n",
       "        text-align: right;\n",
       "    }\n",
       "</style>\n",
       "<table border=\"1\" class=\"dataframe\">\n",
       "  <thead>\n",
       "    <tr style=\"text-align: right;\">\n",
       "      <th></th>\n",
       "      <th>question_id</th>\n",
       "      <th>author_id</th>\n",
       "      <th>questions_date_added</th>\n",
       "      <th>questions_title</th>\n",
       "      <th>questions_body</th>\n",
       "      <th>score</th>\n",
       "    </tr>\n",
       "  </thead>\n",
       "  <tbody>\n",
       "    <tr>\n",
       "      <th>0</th>\n",
       "      <td>332a511f1569444485cf7a7a556a5e54</td>\n",
       "      <td>8f6f374ffd834d258ab69d376dd998f5</td>\n",
       "      <td>2016-04-26 11:14:26 UTC+0000</td>\n",
       "      <td>Teacher   career   question</td>\n",
       "      <td>What  is  a  maths  teacher?   what  is  a  ma...</td>\n",
       "      <td>1</td>\n",
       "    </tr>\n",
       "    <tr>\n",
       "      <th>1</th>\n",
       "      <td>eb80205482e4424cad8f16bc25aa2d9c</td>\n",
       "      <td>acccbda28edd4362ab03fb8b6fd2d67b</td>\n",
       "      <td>2016-05-20 16:48:25 UTC+0000</td>\n",
       "      <td>I want to become an army officer. What can I d...</td>\n",
       "      <td>I am Priyanka from Bangalore . Now am in 10th ...</td>\n",
       "      <td>5</td>\n",
       "    </tr>\n",
       "    <tr>\n",
       "      <th>2</th>\n",
       "      <td>4ec31632938a40b98909416bdd0decff</td>\n",
       "      <td>f2c179a563024ccc927399ce529094b5</td>\n",
       "      <td>2017-02-08 19:13:38 UTC+0000</td>\n",
       "      <td>Will going abroad for your first job increase ...</td>\n",
       "      <td>I'm planning on going abroad for my first job....</td>\n",
       "      <td>2</td>\n",
       "    </tr>\n",
       "    <tr>\n",
       "      <th>3</th>\n",
       "      <td>2f6a9a99d9b24e5baa50d40d0ba50a75</td>\n",
       "      <td>2c30ffba444e40eabb4583b55233a5a4</td>\n",
       "      <td>2017-09-01 14:05:32 UTC+0000</td>\n",
       "      <td>To become a specialist in business  management...</td>\n",
       "      <td>i hear business management is a hard way to ge...</td>\n",
       "      <td>2</td>\n",
       "    </tr>\n",
       "    <tr>\n",
       "      <th>4</th>\n",
       "      <td>5af8880460c141dbb02971a1a8369529</td>\n",
       "      <td>aa9eb1a2ab184ebbb00dc01ab663428a</td>\n",
       "      <td>2017-09-01 02:36:54 UTC+0000</td>\n",
       "      <td>Are there any scholarships out there for stude...</td>\n",
       "      <td>I'm trying to find scholarships for first year...</td>\n",
       "      <td>2</td>\n",
       "    </tr>\n",
       "  </tbody>\n",
       "</table>\n",
       "</div>"
      ],
      "text/plain": [
       "                        question_id                         author_id  \\\n",
       "0  332a511f1569444485cf7a7a556a5e54  8f6f374ffd834d258ab69d376dd998f5   \n",
       "1  eb80205482e4424cad8f16bc25aa2d9c  acccbda28edd4362ab03fb8b6fd2d67b   \n",
       "2  4ec31632938a40b98909416bdd0decff  f2c179a563024ccc927399ce529094b5   \n",
       "3  2f6a9a99d9b24e5baa50d40d0ba50a75  2c30ffba444e40eabb4583b55233a5a4   \n",
       "4  5af8880460c141dbb02971a1a8369529  aa9eb1a2ab184ebbb00dc01ab663428a   \n",
       "\n",
       "           questions_date_added  \\\n",
       "0  2016-04-26 11:14:26 UTC+0000   \n",
       "1  2016-05-20 16:48:25 UTC+0000   \n",
       "2  2017-02-08 19:13:38 UTC+0000   \n",
       "3  2017-09-01 14:05:32 UTC+0000   \n",
       "4  2017-09-01 02:36:54 UTC+0000   \n",
       "\n",
       "                                     questions_title  \\\n",
       "0                        Teacher   career   question   \n",
       "1  I want to become an army officer. What can I d...   \n",
       "2  Will going abroad for your first job increase ...   \n",
       "3  To become a specialist in business  management...   \n",
       "4  Are there any scholarships out there for stude...   \n",
       "\n",
       "                                      questions_body  score  \n",
       "0  What  is  a  maths  teacher?   what  is  a  ma...      1  \n",
       "1  I am Priyanka from Bangalore . Now am in 10th ...      5  \n",
       "2  I'm planning on going abroad for my first job....      2  \n",
       "3  i hear business management is a hard way to ge...      2  \n",
       "4  I'm trying to find scholarships for first year...      2  "
      ]
     },
     "execution_count": 66,
     "metadata": {},
     "output_type": "execute_result"
    }
   ],
   "source": [
    "# load the joined tables into data frame.\n",
    "questions = pd.read_sql(query4, conn)\n",
    "questions.head()"
   ]
  },
  {
   "cell_type": "code",
   "execution_count": 67,
   "id": "bef2f7d6-4601-4dde-b93f-12cf46fdb438",
   "metadata": {},
   "outputs": [
    {
     "name": "stdout",
     "output_type": "stream",
     "text": [
      "<class 'pandas.core.frame.DataFrame'>\n",
      "RangeIndex: 23928 entries, 0 to 23927\n",
      "Data columns (total 6 columns):\n",
      " #   Column                Non-Null Count  Dtype \n",
      "---  ------                --------------  ----- \n",
      " 0   question_id           23928 non-null  object\n",
      " 1   author_id             23928 non-null  object\n",
      " 2   questions_date_added  23928 non-null  object\n",
      " 3   questions_title       23928 non-null  object\n",
      " 4   questions_body        23928 non-null  object\n",
      " 5   score                 23928 non-null  int64 \n",
      "dtypes: int64(1), object(5)\n",
      "memory usage: 1.1+ MB\n"
     ]
    }
   ],
   "source": [
    "# get questions informations.\n",
    "questions.info()"
   ]
  },
  {
   "cell_type": "code",
   "execution_count": 68,
   "id": "921385b6-e1f7-4c7e-8d63-8fb5d9b569fa",
   "metadata": {},
   "outputs": [],
   "source": [
    "# convert questions date added to datetime.\n",
    "questions['questions_date_added'] = pd.to_datetime(questions['questions_date_added'])"
   ]
  },
  {
   "cell_type": "code",
   "execution_count": 69,
   "id": "2704cb7b-72d6-4a94-a78e-5a9dee5dbc94",
   "metadata": {},
   "outputs": [
    {
     "data": {
      "text/plain": [
       "question_id             0\n",
       "author_id               0\n",
       "questions_date_added    0\n",
       "questions_title         0\n",
       "questions_body          0\n",
       "score                   0\n",
       "dtype: int64"
      ]
     },
     "execution_count": 69,
     "metadata": {},
     "output_type": "execute_result"
    }
   ],
   "source": [
    "# check for missing values. \n",
    "questions.isnull().sum()"
   ]
  },
  {
   "cell_type": "code",
   "execution_count": 70,
   "id": "f6911b39-c3f1-49c3-b69a-c31fd2a94566",
   "metadata": {},
   "outputs": [
    {
     "data": {
      "text/plain": [
       "0"
      ]
     },
     "execution_count": 70,
     "metadata": {},
     "output_type": "execute_result"
    }
   ],
   "source": [
    "# check for duplicates in questions.\n",
    "questions.duplicated().sum()"
   ]
  },
  {
   "cell_type": "code",
   "execution_count": 71,
   "id": "9228a393-9ffe-4dcd-9920-f5b96e35ce24",
   "metadata": {},
   "outputs": [
    {
     "data": {
      "text/html": [
       "<div>\n",
       "<style scoped>\n",
       "    .dataframe tbody tr th:only-of-type {\n",
       "        vertical-align: middle;\n",
       "    }\n",
       "\n",
       "    .dataframe tbody tr th {\n",
       "        vertical-align: top;\n",
       "    }\n",
       "\n",
       "    .dataframe thead th {\n",
       "        text-align: right;\n",
       "    }\n",
       "</style>\n",
       "<table border=\"1\" class=\"dataframe\">\n",
       "  <thead>\n",
       "    <tr style=\"text-align: right;\">\n",
       "      <th></th>\n",
       "      <th>question_id</th>\n",
       "      <th>author_id</th>\n",
       "      <th>questions_date_added</th>\n",
       "      <th>questions_title</th>\n",
       "      <th>questions_body</th>\n",
       "      <th>score</th>\n",
       "    </tr>\n",
       "  </thead>\n",
       "  <tbody>\n",
       "    <tr>\n",
       "      <th>count</th>\n",
       "      <td>23928</td>\n",
       "      <td>23928</td>\n",
       "      <td>23928</td>\n",
       "      <td>23928</td>\n",
       "      <td>23928</td>\n",
       "      <td>23928.000000</td>\n",
       "    </tr>\n",
       "    <tr>\n",
       "      <th>unique</th>\n",
       "      <td>23928</td>\n",
       "      <td>12328</td>\n",
       "      <td>NaN</td>\n",
       "      <td>23736</td>\n",
       "      <td>23678</td>\n",
       "      <td>NaN</td>\n",
       "    </tr>\n",
       "    <tr>\n",
       "      <th>top</th>\n",
       "      <td>332a511f1569444485cf7a7a556a5e54</td>\n",
       "      <td>2fe767de78fa4dfd83f0021cf7712064</td>\n",
       "      <td>NaN</td>\n",
       "      <td>How do I become an IAS officer?</td>\n",
       "      <td>Accounting student at Towson university  #acco...</td>\n",
       "      <td>NaN</td>\n",
       "    </tr>\n",
       "    <tr>\n",
       "      <th>freq</th>\n",
       "      <td>1</td>\n",
       "      <td>93</td>\n",
       "      <td>NaN</td>\n",
       "      <td>6</td>\n",
       "      <td>16</td>\n",
       "      <td>NaN</td>\n",
       "    </tr>\n",
       "    <tr>\n",
       "      <th>mean</th>\n",
       "      <td>NaN</td>\n",
       "      <td>NaN</td>\n",
       "      <td>2017-01-07 06:44:34.797768192+00:00</td>\n",
       "      <td>NaN</td>\n",
       "      <td>NaN</td>\n",
       "      <td>2.900326</td>\n",
       "    </tr>\n",
       "    <tr>\n",
       "      <th>min</th>\n",
       "      <td>NaN</td>\n",
       "      <td>NaN</td>\n",
       "      <td>2011-09-27 15:23:17+00:00</td>\n",
       "      <td>NaN</td>\n",
       "      <td>NaN</td>\n",
       "      <td>0.000000</td>\n",
       "    </tr>\n",
       "    <tr>\n",
       "      <th>25%</th>\n",
       "      <td>NaN</td>\n",
       "      <td>NaN</td>\n",
       "      <td>2016-05-16 19:56:57+00:00</td>\n",
       "      <td>NaN</td>\n",
       "      <td>NaN</td>\n",
       "      <td>1.000000</td>\n",
       "    </tr>\n",
       "    <tr>\n",
       "      <th>50%</th>\n",
       "      <td>NaN</td>\n",
       "      <td>NaN</td>\n",
       "      <td>2016-10-31 22:36:06.500000+00:00</td>\n",
       "      <td>NaN</td>\n",
       "      <td>NaN</td>\n",
       "      <td>2.000000</td>\n",
       "    </tr>\n",
       "    <tr>\n",
       "      <th>75%</th>\n",
       "      <td>NaN</td>\n",
       "      <td>NaN</td>\n",
       "      <td>2018-01-24 22:04:30.500000+00:00</td>\n",
       "      <td>NaN</td>\n",
       "      <td>NaN</td>\n",
       "      <td>3.000000</td>\n",
       "    </tr>\n",
       "    <tr>\n",
       "      <th>max</th>\n",
       "      <td>NaN</td>\n",
       "      <td>NaN</td>\n",
       "      <td>2019-01-31 22:32:00+00:00</td>\n",
       "      <td>NaN</td>\n",
       "      <td>NaN</td>\n",
       "      <td>125.000000</td>\n",
       "    </tr>\n",
       "    <tr>\n",
       "      <th>std</th>\n",
       "      <td>NaN</td>\n",
       "      <td>NaN</td>\n",
       "      <td>NaN</td>\n",
       "      <td>NaN</td>\n",
       "      <td>NaN</td>\n",
       "      <td>4.745618</td>\n",
       "    </tr>\n",
       "  </tbody>\n",
       "</table>\n",
       "</div>"
      ],
      "text/plain": [
       "                             question_id                         author_id  \\\n",
       "count                              23928                             23928   \n",
       "unique                             23928                             12328   \n",
       "top     332a511f1569444485cf7a7a556a5e54  2fe767de78fa4dfd83f0021cf7712064   \n",
       "freq                                   1                                93   \n",
       "mean                                 NaN                               NaN   \n",
       "min                                  NaN                               NaN   \n",
       "25%                                  NaN                               NaN   \n",
       "50%                                  NaN                               NaN   \n",
       "75%                                  NaN                               NaN   \n",
       "max                                  NaN                               NaN   \n",
       "std                                  NaN                               NaN   \n",
       "\n",
       "                       questions_date_added                  questions_title  \\\n",
       "count                                 23928                            23928   \n",
       "unique                                  NaN                            23736   \n",
       "top                                     NaN  How do I become an IAS officer?   \n",
       "freq                                    NaN                                6   \n",
       "mean    2017-01-07 06:44:34.797768192+00:00                              NaN   \n",
       "min               2011-09-27 15:23:17+00:00                              NaN   \n",
       "25%               2016-05-16 19:56:57+00:00                              NaN   \n",
       "50%        2016-10-31 22:36:06.500000+00:00                              NaN   \n",
       "75%        2018-01-24 22:04:30.500000+00:00                              NaN   \n",
       "max               2019-01-31 22:32:00+00:00                              NaN   \n",
       "std                                     NaN                              NaN   \n",
       "\n",
       "                                           questions_body         score  \n",
       "count                                               23928  23928.000000  \n",
       "unique                                              23678           NaN  \n",
       "top     Accounting student at Towson university  #acco...           NaN  \n",
       "freq                                                   16           NaN  \n",
       "mean                                                  NaN      2.900326  \n",
       "min                                                   NaN      0.000000  \n",
       "25%                                                   NaN      1.000000  \n",
       "50%                                                   NaN      2.000000  \n",
       "75%                                                   NaN      3.000000  \n",
       "max                                                   NaN    125.000000  \n",
       "std                                                   NaN      4.745618  "
      ]
     },
     "execution_count": 71,
     "metadata": {},
     "output_type": "execute_result"
    }
   ],
   "source": [
    "# get statistics summary for questions.\n",
    "questions.describe(include='all')"
   ]
  },
  {
   "cell_type": "code",
   "execution_count": 72,
   "id": "04846986-1894-4f67-ab0b-042a154091ce",
   "metadata": {},
   "outputs": [
    {
     "data": {
      "text/plain": [
       "questions_title\n",
       "How do I become an IAS officer?                      6\n",
       "engineering                                          4\n",
       "Do you like what you do for your job?                4\n",
       "How do I become a software engineer?                 4\n",
       "How do I become a singer?                            4\n",
       "What is the most difficult part of being a nurse?    4\n",
       "Engineering                                          4\n",
       "What should I major in?                              4\n",
       "How do I become a scientist?                         4\n",
       "How do I become a bank manager?                      4\n",
       "Name: count, dtype: int64"
      ]
     },
     "execution_count": 72,
     "metadata": {},
     "output_type": "execute_result"
    }
   ],
   "source": [
    "# get value counts for the top 10 question title in questions.\n",
    "title_count = questions['questions_title'].value_counts()\n",
    "top_10_titles = title_count.head(10)\n",
    "top_10_titles"
   ]
  },
  {
   "cell_type": "code",
   "execution_count": 73,
   "id": "d5cd59b7-e0b0-4d3e-8f31-ff4fadcbd232",
   "metadata": {},
   "outputs": [
    {
     "data": {
      "image/png": "[encoded data removed]",
      "text/plain": [
       "<Figure size 1500x600 with 1 Axes>"
      ]
     },
     "metadata": {},
     "output_type": "display_data"
    }
   ],
   "source": [
    "# plot a bar chart for top headlines.\n",
    "plt.figure(figsize=(15,6))\n",
    "ax = top_10_titles.plot(kind='bar')\n",
    "plt.title('Top 10 questions titles')\n",
    "plt.xlabel('title')\n",
    "plt.ylabel('Count')\n",
    "plt.xticks(rotation=45) # Rotates the x labels for better readability\n",
    "for p in ax.patches:\n",
    "    ax.annotate(f\"{p.get_height()}\",(p.get_x()+ p.get_width()/2., p.get_height()),\n",
    "                ha='center' , va = 'bottom'\n",
    "               )\n",
    "plt.show()"
   ]
  },
  {
   "cell_type": "code",
   "execution_count": 74,
   "id": "444215d2-4b56-4a8e-a738-01902d0f5c50",
   "metadata": {},
   "outputs": [],
   "source": [
    "# save questions to csv in tableau to visualizations.\n",
    "questions.to_csv('tableau/questions.csv',index=False)"
   ]
  },
  {
   "cell_type": "markdown",
   "id": "97258be4-eae7-4e55-abfc-c3d0a0f01932",
   "metadata": {},
   "source": [
    "# load school_memberships to data frame."
   ]
  },
  {
   "cell_type": "code",
   "execution_count": 75,
   "id": "11e54173-a563-4aeb-833e-1a95c8b3a2c4",
   "metadata": {},
   "outputs": [
    {
     "data": {
      "text/html": [
       "<div>\n",
       "<style scoped>\n",
       "    .dataframe tbody tr th:only-of-type {\n",
       "        vertical-align: middle;\n",
       "    }\n",
       "\n",
       "    .dataframe tbody tr th {\n",
       "        vertical-align: top;\n",
       "    }\n",
       "\n",
       "    .dataframe thead th {\n",
       "        text-align: right;\n",
       "    }\n",
       "</style>\n",
       "<table border=\"1\" class=\"dataframe\">\n",
       "  <thead>\n",
       "    <tr style=\"text-align: right;\">\n",
       "      <th></th>\n",
       "      <th>school_id</th>\n",
       "      <th>user_id</th>\n",
       "    </tr>\n",
       "  </thead>\n",
       "  <tbody>\n",
       "    <tr>\n",
       "      <th>0</th>\n",
       "      <td>197406</td>\n",
       "      <td>23dce13ca6164a73aec7a3cd56a4884d</td>\n",
       "    </tr>\n",
       "    <tr>\n",
       "      <th>1</th>\n",
       "      <td>197398</td>\n",
       "      <td>23dce13ca6164a73aec7a3cd56a4884d</td>\n",
       "    </tr>\n",
       "    <tr>\n",
       "      <th>2</th>\n",
       "      <td>199821</td>\n",
       "      <td>23dce13ca6164a73aec7a3cd56a4884d</td>\n",
       "    </tr>\n",
       "    <tr>\n",
       "      <th>3</th>\n",
       "      <td>186239</td>\n",
       "      <td>9c5803ae43ca4cf6b27ea85871625116</td>\n",
       "    </tr>\n",
       "    <tr>\n",
       "      <th>4</th>\n",
       "      <td>182063</td>\n",
       "      <td>9c5803ae43ca4cf6b27ea85871625116</td>\n",
       "    </tr>\n",
       "  </tbody>\n",
       "</table>\n",
       "</div>"
      ],
      "text/plain": [
       "   school_id                           user_id\n",
       "0     197406  23dce13ca6164a73aec7a3cd56a4884d\n",
       "1     197398  23dce13ca6164a73aec7a3cd56a4884d\n",
       "2     199821  23dce13ca6164a73aec7a3cd56a4884d\n",
       "3     186239  9c5803ae43ca4cf6b27ea85871625116\n",
       "4     182063  9c5803ae43ca4cf6b27ea85871625116"
      ]
     },
     "execution_count": 75,
     "metadata": {},
     "output_type": "execute_result"
    }
   ],
   "source": [
    "# load school membershipe table into data frame.\n",
    "query5 = \"\"\"SELECT *  FROM school_memberships\"\"\"\n",
    "school_memberships = pd.read_sql(query5, conn)\n",
    "school_memberships.head()"
   ]
  },
  {
   "cell_type": "code",
   "execution_count": 76,
   "id": "b2c48587-066f-4f7f-afea-6bf3bd1fac2f",
   "metadata": {},
   "outputs": [
    {
     "name": "stdout",
     "output_type": "stream",
     "text": [
      "<class 'pandas.core.frame.DataFrame'>\n",
      "RangeIndex: 5638 entries, 0 to 5637\n",
      "Data columns (total 2 columns):\n",
      " #   Column     Non-Null Count  Dtype \n",
      "---  ------     --------------  ----- \n",
      " 0   school_id  5638 non-null   int64 \n",
      " 1   user_id    5638 non-null   object\n",
      "dtypes: int64(1), object(1)\n",
      "memory usage: 88.2+ KB\n"
     ]
    }
   ],
   "source": [
    "# get school memberships informations.\n",
    "school_memberships.info()"
   ]
  },
  {
   "cell_type": "code",
   "execution_count": 77,
   "id": "2bf863b0-3ac2-4fbb-b712-d5ae695d3b91",
   "metadata": {},
   "outputs": [
    {
     "data": {
      "text/plain": [
       "224"
      ]
     },
     "execution_count": 77,
     "metadata": {},
     "output_type": "execute_result"
    }
   ],
   "source": [
    "# check for duplicates.\n",
    "school_memberships.duplicated().sum()"
   ]
  },
  {
   "cell_type": "code",
   "execution_count": 78,
   "id": "34f6f06c-154d-43a5-b57f-7633d3e9aaa0",
   "metadata": {},
   "outputs": [],
   "source": [
    "# drop duplicates.\n",
    "school_memberships.drop_duplicates(inplace=True)"
   ]
  },
  {
   "cell_type": "code",
   "execution_count": 79,
   "id": "742eb230-da80-4952-a51b-617347bc8b2c",
   "metadata": {},
   "outputs": [
    {
     "data": {
      "text/plain": [
       "0"
      ]
     },
     "execution_count": 79,
     "metadata": {},
     "output_type": "execute_result"
    }
   ],
   "source": [
    "# recheck for duplicates.\n",
    "school_memberships.duplicated().sum()"
   ]
  },
  {
   "cell_type": "code",
   "execution_count": 80,
   "id": "0f4a3724-aef3-4dca-aedc-a423f18b51df",
   "metadata": {},
   "outputs": [
    {
     "data": {
      "text/html": [
       "<div>\n",
       "<style scoped>\n",
       "    .dataframe tbody tr th:only-of-type {\n",
       "        vertical-align: middle;\n",
       "    }\n",
       "\n",
       "    .dataframe tbody tr th {\n",
       "        vertical-align: top;\n",
       "    }\n",
       "\n",
       "    .dataframe thead th {\n",
       "        text-align: right;\n",
       "    }\n",
       "</style>\n",
       "<table border=\"1\" class=\"dataframe\">\n",
       "  <thead>\n",
       "    <tr style=\"text-align: right;\">\n",
       "      <th></th>\n",
       "      <th>school_id</th>\n",
       "      <th>user_id</th>\n",
       "    </tr>\n",
       "  </thead>\n",
       "  <tbody>\n",
       "    <tr>\n",
       "      <th>count</th>\n",
       "      <td>5414.000000</td>\n",
       "      <td>5414</td>\n",
       "    </tr>\n",
       "    <tr>\n",
       "      <th>unique</th>\n",
       "      <td>NaN</td>\n",
       "      <td>3181</td>\n",
       "    </tr>\n",
       "    <tr>\n",
       "      <th>top</th>\n",
       "      <td>NaN</td>\n",
       "      <td>a1246930dc4944ae840cd7c25a34c9a7</td>\n",
       "    </tr>\n",
       "    <tr>\n",
       "      <th>freq</th>\n",
       "      <td>NaN</td>\n",
       "      <td>20</td>\n",
       "    </tr>\n",
       "    <tr>\n",
       "      <th>mean</th>\n",
       "      <td>168048.421869</td>\n",
       "      <td>NaN</td>\n",
       "    </tr>\n",
       "    <tr>\n",
       "      <th>std</th>\n",
       "      <td>47221.416662</td>\n",
       "      <td>NaN</td>\n",
       "    </tr>\n",
       "    <tr>\n",
       "      <th>min</th>\n",
       "      <td>69421.000000</td>\n",
       "      <td>NaN</td>\n",
       "    </tr>\n",
       "    <tr>\n",
       "      <th>25%</th>\n",
       "      <td>133412.750000</td>\n",
       "      <td>NaN</td>\n",
       "    </tr>\n",
       "    <tr>\n",
       "      <th>50%</th>\n",
       "      <td>196977.000000</td>\n",
       "      <td>NaN</td>\n",
       "    </tr>\n",
       "    <tr>\n",
       "      <th>75%</th>\n",
       "      <td>198800.750000</td>\n",
       "      <td>NaN</td>\n",
       "    </tr>\n",
       "    <tr>\n",
       "      <th>max</th>\n",
       "      <td>214607.000000</td>\n",
       "      <td>NaN</td>\n",
       "    </tr>\n",
       "  </tbody>\n",
       "</table>\n",
       "</div>"
      ],
      "text/plain": [
       "            school_id                           user_id\n",
       "count     5414.000000                              5414\n",
       "unique            NaN                              3181\n",
       "top               NaN  a1246930dc4944ae840cd7c25a34c9a7\n",
       "freq              NaN                                20\n",
       "mean    168048.421869                               NaN\n",
       "std      47221.416662                               NaN\n",
       "min      69421.000000                               NaN\n",
       "25%     133412.750000                               NaN\n",
       "50%     196977.000000                               NaN\n",
       "75%     198800.750000                               NaN\n",
       "max     214607.000000                               NaN"
      ]
     },
     "execution_count": 80,
     "metadata": {},
     "output_type": "execute_result"
    }
   ],
   "source": [
    "# get statistics summary.\n",
    "school_memberships.describe(include='all')"
   ]
  },
  {
   "cell_type": "code",
   "execution_count": 81,
   "id": "66f9f21c-a8fc-4d65-8876-0a5db26f6a23",
   "metadata": {},
   "outputs": [],
   "source": [
    "# save school memberships to scv in tableau for visualizations.\n",
    "school_memberships.to_csv('tableau/school_memberships.csv',index=False)"
   ]
  },
  {
   "cell_type": "markdown",
   "id": "5e62c585-14b5-4c9b-9a1f-326f1caa9b0d",
   "metadata": {},
   "source": [
    "# load students into data frame."
   ]
  },
  {
   "cell_type": "code",
   "execution_count": 82,
   "id": "0c80f4b6-43f1-46fb-b5db-bfa27d2b3d40",
   "metadata": {},
   "outputs": [
    {
     "data": {
      "text/html": [
       "<div>\n",
       "<style scoped>\n",
       "    .dataframe tbody tr th:only-of-type {\n",
       "        vertical-align: middle;\n",
       "    }\n",
       "\n",
       "    .dataframe tbody tr th {\n",
       "        vertical-align: top;\n",
       "    }\n",
       "\n",
       "    .dataframe thead th {\n",
       "        text-align: right;\n",
       "    }\n",
       "</style>\n",
       "<table border=\"1\" class=\"dataframe\">\n",
       "  <thead>\n",
       "    <tr style=\"text-align: right;\">\n",
       "      <th></th>\n",
       "      <th>students_id</th>\n",
       "      <th>students_location</th>\n",
       "      <th>students_date_joined</th>\n",
       "    </tr>\n",
       "  </thead>\n",
       "  <tbody>\n",
       "    <tr>\n",
       "      <th>0</th>\n",
       "      <td>9658267bc2564a85bad1e802de5fb597</td>\n",
       "      <td>Wayne, Pennsylvania</td>\n",
       "      <td>2012-01-01 05:00:00 UTC+0000</td>\n",
       "    </tr>\n",
       "    <tr>\n",
       "      <th>1</th>\n",
       "      <td>d49795757f274dd690bdce3936edea20</td>\n",
       "      <td>New York, New York</td>\n",
       "      <td>2012-01-01 05:00:00 UTC+0000</td>\n",
       "    </tr>\n",
       "    <tr>\n",
       "      <th>2</th>\n",
       "      <td>fae3c431698a418882c4204e5f3ee244</td>\n",
       "      <td>Lakewood, Ohio</td>\n",
       "      <td>2012-01-01 05:00:00 UTC+0000</td>\n",
       "    </tr>\n",
       "    <tr>\n",
       "      <th>3</th>\n",
       "      <td>2e67080928c74a4d863b2bcc60921152</td>\n",
       "      <td>New York, New York</td>\n",
       "      <td>2012-01-01 05:00:00 UTC+0000</td>\n",
       "    </tr>\n",
       "    <tr>\n",
       "      <th>4</th>\n",
       "      <td>2e7d1b7f1d474530b8114ab72686726f</td>\n",
       "      <td>London, Ontario, Canada</td>\n",
       "      <td>2012-01-01 05:00:00 UTC+0000</td>\n",
       "    </tr>\n",
       "  </tbody>\n",
       "</table>\n",
       "</div>"
      ],
      "text/plain": [
       "                        students_id        students_location  \\\n",
       "0  9658267bc2564a85bad1e802de5fb597      Wayne, Pennsylvania   \n",
       "1  d49795757f274dd690bdce3936edea20       New York, New York   \n",
       "2  fae3c431698a418882c4204e5f3ee244           Lakewood, Ohio   \n",
       "3  2e67080928c74a4d863b2bcc60921152       New York, New York   \n",
       "4  2e7d1b7f1d474530b8114ab72686726f  London, Ontario, Canada   \n",
       "\n",
       "           students_date_joined  \n",
       "0  2012-01-01 05:00:00 UTC+0000  \n",
       "1  2012-01-01 05:00:00 UTC+0000  \n",
       "2  2012-01-01 05:00:00 UTC+0000  \n",
       "3  2012-01-01 05:00:00 UTC+0000  \n",
       "4  2012-01-01 05:00:00 UTC+0000  "
      ]
     },
     "execution_count": 82,
     "metadata": {},
     "output_type": "execute_result"
    }
   ],
   "source": [
    "# load students table into data frame.\n",
    "query6 = \"\"\" SELECT * FROM students\"\"\"\n",
    "students = pd.read_sql(query6, conn)\n",
    "students.head()"
   ]
  },
  {
   "cell_type": "code",
   "execution_count": 83,
   "id": "76715f31-64ba-4f2c-afdd-2ae211809825",
   "metadata": {},
   "outputs": [],
   "source": [
    "# convert students date join to datetime.\n",
    "students['students_date_joined'] = pd.to_datetime(students['students_date_joined'])"
   ]
  },
  {
   "cell_type": "code",
   "execution_count": 84,
   "id": "c72a78ae-3fa7-4566-bbcd-ed967ff6a0f7",
   "metadata": {},
   "outputs": [
    {
     "name": "stdout",
     "output_type": "stream",
     "text": [
      "<class 'pandas.core.frame.DataFrame'>\n",
      "RangeIndex: 28938 entries, 0 to 28937\n",
      "Data columns (total 3 columns):\n",
      " #   Column                Non-Null Count  Dtype              \n",
      "---  ------                --------------  -----              \n",
      " 0   students_id           28938 non-null  object             \n",
      " 1   students_location     28938 non-null  object             \n",
      " 2   students_date_joined  28938 non-null  datetime64[ns, UTC]\n",
      "dtypes: datetime64[ns, UTC](1), object(2)\n",
      "memory usage: 678.4+ KB\n"
     ]
    }
   ],
   "source": [
    "# grt students informations.\n",
    "students.info()"
   ]
  },
  {
   "cell_type": "code",
   "execution_count": 85,
   "id": "3c7c80bc-6462-4e84-b600-7d67404dc872",
   "metadata": {},
   "outputs": [
    {
     "data": {
      "text/plain": [
       "0"
      ]
     },
     "execution_count": 85,
     "metadata": {},
     "output_type": "execute_result"
    }
   ],
   "source": [
    "# check for duplicates in students.\n",
    "students.duplicated().sum()"
   ]
  },
  {
   "cell_type": "code",
   "execution_count": 86,
   "id": "bb8b1fa2-4e3d-4cda-bcc6-235161740d7b",
   "metadata": {},
   "outputs": [
    {
     "data": {
      "text/html": [
       "<div>\n",
       "<style scoped>\n",
       "    .dataframe tbody tr th:only-of-type {\n",
       "        vertical-align: middle;\n",
       "    }\n",
       "\n",
       "    .dataframe tbody tr th {\n",
       "        vertical-align: top;\n",
       "    }\n",
       "\n",
       "    .dataframe thead th {\n",
       "        text-align: right;\n",
       "    }\n",
       "</style>\n",
       "<table border=\"1\" class=\"dataframe\">\n",
       "  <thead>\n",
       "    <tr style=\"text-align: right;\">\n",
       "      <th></th>\n",
       "      <th>students_id</th>\n",
       "      <th>students_location</th>\n",
       "      <th>students_date_joined</th>\n",
       "    </tr>\n",
       "  </thead>\n",
       "  <tbody>\n",
       "    <tr>\n",
       "      <th>count</th>\n",
       "      <td>28938</td>\n",
       "      <td>28938</td>\n",
       "      <td>28938</td>\n",
       "    </tr>\n",
       "    <tr>\n",
       "      <th>unique</th>\n",
       "      <td>28938</td>\n",
       "      <td>5480</td>\n",
       "      <td>NaN</td>\n",
       "    </tr>\n",
       "    <tr>\n",
       "      <th>top</th>\n",
       "      <td>9658267bc2564a85bad1e802de5fb597</td>\n",
       "      <td>New York, New York</td>\n",
       "      <td>NaN</td>\n",
       "    </tr>\n",
       "    <tr>\n",
       "      <th>freq</th>\n",
       "      <td>1</td>\n",
       "      <td>1313</td>\n",
       "      <td>NaN</td>\n",
       "    </tr>\n",
       "    <tr>\n",
       "      <th>mean</th>\n",
       "      <td>NaN</td>\n",
       "      <td>NaN</td>\n",
       "      <td>2016-12-27 02:47:24.699979264+00:00</td>\n",
       "    </tr>\n",
       "    <tr>\n",
       "      <th>min</th>\n",
       "      <td>NaN</td>\n",
       "      <td>NaN</td>\n",
       "      <td>2012-01-01 05:00:00+00:00</td>\n",
       "    </tr>\n",
       "    <tr>\n",
       "      <th>25%</th>\n",
       "      <td>NaN</td>\n",
       "      <td>NaN</td>\n",
       "      <td>2016-05-15 13:00:19.249999872+00:00</td>\n",
       "    </tr>\n",
       "    <tr>\n",
       "      <th>50%</th>\n",
       "      <td>NaN</td>\n",
       "      <td>NaN</td>\n",
       "      <td>2016-10-27 02:27:25+00:00</td>\n",
       "    </tr>\n",
       "    <tr>\n",
       "      <th>75%</th>\n",
       "      <td>NaN</td>\n",
       "      <td>NaN</td>\n",
       "      <td>2018-01-16 15:34:01+00:00</td>\n",
       "    </tr>\n",
       "    <tr>\n",
       "      <th>max</th>\n",
       "      <td>NaN</td>\n",
       "      <td>NaN</td>\n",
       "      <td>2019-01-31 22:29:57+00:00</td>\n",
       "    </tr>\n",
       "  </tbody>\n",
       "</table>\n",
       "</div>"
      ],
      "text/plain": [
       "                             students_id   students_location  \\\n",
       "count                              28938               28938   \n",
       "unique                             28938                5480   \n",
       "top     9658267bc2564a85bad1e802de5fb597  New York, New York   \n",
       "freq                                   1                1313   \n",
       "mean                                 NaN                 NaN   \n",
       "min                                  NaN                 NaN   \n",
       "25%                                  NaN                 NaN   \n",
       "50%                                  NaN                 NaN   \n",
       "75%                                  NaN                 NaN   \n",
       "max                                  NaN                 NaN   \n",
       "\n",
       "                       students_date_joined  \n",
       "count                                 28938  \n",
       "unique                                  NaN  \n",
       "top                                     NaN  \n",
       "freq                                    NaN  \n",
       "mean    2016-12-27 02:47:24.699979264+00:00  \n",
       "min               2012-01-01 05:00:00+00:00  \n",
       "25%     2016-05-15 13:00:19.249999872+00:00  \n",
       "50%               2016-10-27 02:27:25+00:00  \n",
       "75%               2018-01-16 15:34:01+00:00  \n",
       "max               2019-01-31 22:29:57+00:00  "
      ]
     },
     "execution_count": 86,
     "metadata": {},
     "output_type": "execute_result"
    }
   ],
   "source": [
    "#get statistical summary for students.\n",
    "students.describe(include='all')"
   ]
  },
  {
   "cell_type": "code",
   "execution_count": 87,
   "id": "7b72aafb-0b39-4209-8227-7c572759bfd8",
   "metadata": {},
   "outputs": [
    {
     "data": {
      "text/plain": [
       "students_location\n",
       "New York, New York             1313\n",
       "Bengaluru, Karnataka, India     890\n",
       "Los Angeles, California         663\n",
       "Hyderabad, Telangana, India     597\n",
       "Boston, Massachusetts           557\n",
       "San Francisco, California       550\n",
       "San Jose, California            548\n",
       "Houston, Texas                  476\n",
       "Chennai, Tamil Nadu, India      437\n",
       "Chicago, Illinois               344\n",
       "Oakland, California             261\n",
       "San Antonio, Texas              202\n",
       "Dallas, Texas                   197\n",
       "Owensboro, Kentucky             196\n",
       "Providence, Rhode Island        187\n",
       "Name: count, dtype: int64"
      ]
     },
     "execution_count": 87,
     "metadata": {},
     "output_type": "execute_result"
    }
   ],
   "source": [
    "# get value counts for top 15 in students locations.\n",
    "location_count = students['students_location'].value_counts()\n",
    "top_15_location = location_count.head(15)\n",
    "top_15_location"
   ]
  },
  {
   "cell_type": "code",
   "execution_count": 88,
   "id": "31039232-8c11-4fd5-b634-08c8600fa112",
   "metadata": {},
   "outputs": [
    {
     "data": {
      "image/png": "[encoded data removed]",
      "text/plain": [
       "<Figure size 1500x600 with 1 Axes>"
      ]
     },
     "metadata": {},
     "output_type": "display_data"
    }
   ],
   "source": [
    "# plot a bar chart for locations.\n",
    "plt.figure(figsize=(15,6))\n",
    "ax = top_15_location.plot(kind='bar')\n",
    "plt.title('Top students Locations')\n",
    "plt.xlabel('Location')\n",
    "plt.ylabel('Count')\n",
    "plt.xticks(rotation=45) # Rotates the x labels for better readability\n",
    "for p in ax.patches:\n",
    "    ax.annotate(f\"{p.get_height()}\",(p.get_x()+ p.get_width()/2., p.get_height()),\n",
    "                ha='center' , va = 'bottom'\n",
    "               )\n",
    "plt.show()"
   ]
  },
  {
   "cell_type": "code",
   "execution_count": 89,
   "id": "a825fa39-093c-4bd7-a067-d9c2e88706bb",
   "metadata": {},
   "outputs": [],
   "source": [
    "# save students into csv in tableau for visualizations.\n",
    "students.to_csv('tableau/students.csv',index=False)"
   ]
  },
  {
   "cell_type": "markdown",
   "id": "ec1cd6cf-7285-4360-af80-88a0150e58de",
   "metadata": {},
   "source": [
    "# load tags, tag_question, and tag_users"
   ]
  },
  {
   "cell_type": "code",
   "execution_count": 90,
   "id": "d4d9ed3c-0529-4bd3-955d-0a0c35df816b",
   "metadata": {},
   "outputs": [
    {
     "data": {
      "text/html": [
       "<div>\n",
       "<style scoped>\n",
       "    .dataframe tbody tr th:only-of-type {\n",
       "        vertical-align: middle;\n",
       "    }\n",
       "\n",
       "    .dataframe tbody tr th {\n",
       "        vertical-align: top;\n",
       "    }\n",
       "\n",
       "    .dataframe thead th {\n",
       "        text-align: right;\n",
       "    }\n",
       "</style>\n",
       "<table border=\"1\" class=\"dataframe\">\n",
       "  <thead>\n",
       "    <tr style=\"text-align: right;\">\n",
       "      <th></th>\n",
       "      <th>tag_id</th>\n",
       "      <th>tag_name</th>\n",
       "    </tr>\n",
       "  </thead>\n",
       "  <tbody>\n",
       "    <tr>\n",
       "      <th>0</th>\n",
       "      <td>27490</td>\n",
       "      <td>college</td>\n",
       "    </tr>\n",
       "    <tr>\n",
       "      <th>1</th>\n",
       "      <td>461</td>\n",
       "      <td>computer-science</td>\n",
       "    </tr>\n",
       "    <tr>\n",
       "      <th>2</th>\n",
       "      <td>593</td>\n",
       "      <td>computer-software</td>\n",
       "    </tr>\n",
       "    <tr>\n",
       "      <th>3</th>\n",
       "      <td>27292</td>\n",
       "      <td>business</td>\n",
       "    </tr>\n",
       "    <tr>\n",
       "      <th>4</th>\n",
       "      <td>18217</td>\n",
       "      <td>doctor</td>\n",
       "    </tr>\n",
       "  </tbody>\n",
       "</table>\n",
       "</div>"
      ],
      "text/plain": [
       "   tag_id           tag_name\n",
       "0   27490            college\n",
       "1     461   computer-science\n",
       "2     593  computer-software\n",
       "3   27292           business\n",
       "4   18217             doctor"
      ]
     },
     "execution_count": 90,
     "metadata": {},
     "output_type": "execute_result"
    }
   ],
   "source": [
    "# laod tags table.\n",
    "query8 =\"SELECT * FROM tags\"\n",
    "tags = pd.read_sql(query8,conn)\n",
    "tags.head()"
   ]
  },
  {
   "cell_type": "code",
   "execution_count": 91,
   "id": "e1f3b03c-6c4b-48a6-a401-6f5c27739fd2",
   "metadata": {},
   "outputs": [
    {
     "name": "stdout",
     "output_type": "stream",
     "text": [
      "<class 'pandas.core.frame.DataFrame'>\n",
      "RangeIndex: 16268 entries, 0 to 16267\n",
      "Data columns (total 2 columns):\n",
      " #   Column    Non-Null Count  Dtype \n",
      "---  ------    --------------  ----- \n",
      " 0   tag_id    16268 non-null  int64 \n",
      " 1   tag_name  16268 non-null  object\n",
      "dtypes: int64(1), object(1)\n",
      "memory usage: 254.3+ KB\n"
     ]
    }
   ],
   "source": [
    "# get tags informations.\n",
    "tags.info()"
   ]
  },
  {
   "cell_type": "code",
   "execution_count": 92,
   "id": "43980602-1d02-4c12-8e82-d90679216d91",
   "metadata": {},
   "outputs": [
    {
     "data": {
      "text/plain": [
       "0"
      ]
     },
     "execution_count": 92,
     "metadata": {},
     "output_type": "execute_result"
    }
   ],
   "source": [
    "# check for duplicates.\n",
    "tags.duplicated().sum()"
   ]
  },
  {
   "cell_type": "code",
   "execution_count": 93,
   "id": "8574bea1-2c73-4da7-9fd9-32c47f8df77c",
   "metadata": {},
   "outputs": [
    {
     "data": {
      "text/html": [
       "<div>\n",
       "<style scoped>\n",
       "    .dataframe tbody tr th:only-of-type {\n",
       "        vertical-align: middle;\n",
       "    }\n",
       "\n",
       "    .dataframe tbody tr th {\n",
       "        vertical-align: top;\n",
       "    }\n",
       "\n",
       "    .dataframe thead th {\n",
       "        text-align: right;\n",
       "    }\n",
       "</style>\n",
       "<table border=\"1\" class=\"dataframe\">\n",
       "  <thead>\n",
       "    <tr style=\"text-align: right;\">\n",
       "      <th></th>\n",
       "      <th>tag_id</th>\n",
       "      <th>tag_name</th>\n",
       "    </tr>\n",
       "  </thead>\n",
       "  <tbody>\n",
       "    <tr>\n",
       "      <th>count</th>\n",
       "      <td>16268.000000</td>\n",
       "      <td>16268</td>\n",
       "    </tr>\n",
       "    <tr>\n",
       "      <th>unique</th>\n",
       "      <td>NaN</td>\n",
       "      <td>16268</td>\n",
       "    </tr>\n",
       "    <tr>\n",
       "      <th>top</th>\n",
       "      <td>NaN</td>\n",
       "      <td>college</td>\n",
       "    </tr>\n",
       "    <tr>\n",
       "      <th>freq</th>\n",
       "      <td>NaN</td>\n",
       "      <td>1</td>\n",
       "    </tr>\n",
       "    <tr>\n",
       "      <th>mean</th>\n",
       "      <td>28511.771207</td>\n",
       "      <td>NaN</td>\n",
       "    </tr>\n",
       "    <tr>\n",
       "      <th>std</th>\n",
       "      <td>8421.665899</td>\n",
       "      <td>NaN</td>\n",
       "    </tr>\n",
       "    <tr>\n",
       "      <th>min</th>\n",
       "      <td>27.000000</td>\n",
       "      <td>NaN</td>\n",
       "    </tr>\n",
       "    <tr>\n",
       "      <th>25%</th>\n",
       "      <td>21710.750000</td>\n",
       "      <td>NaN</td>\n",
       "    </tr>\n",
       "    <tr>\n",
       "      <th>50%</th>\n",
       "      <td>31101.500000</td>\n",
       "      <td>NaN</td>\n",
       "    </tr>\n",
       "    <tr>\n",
       "      <th>75%</th>\n",
       "      <td>35207.250000</td>\n",
       "      <td>NaN</td>\n",
       "    </tr>\n",
       "    <tr>\n",
       "      <th>max</th>\n",
       "      <td>39276.000000</td>\n",
       "      <td>NaN</td>\n",
       "    </tr>\n",
       "  </tbody>\n",
       "</table>\n",
       "</div>"
      ],
      "text/plain": [
       "              tag_id tag_name\n",
       "count   16268.000000    16268\n",
       "unique           NaN    16268\n",
       "top              NaN  college\n",
       "freq             NaN        1\n",
       "mean    28511.771207      NaN\n",
       "std      8421.665899      NaN\n",
       "min        27.000000      NaN\n",
       "25%     21710.750000      NaN\n",
       "50%     31101.500000      NaN\n",
       "75%     35207.250000      NaN\n",
       "max     39276.000000      NaN"
      ]
     },
     "execution_count": 93,
     "metadata": {},
     "output_type": "execute_result"
    }
   ],
   "source": [
    "# get statistical summary.\n",
    "tags.describe(include='all')"
   ]
  },
  {
   "cell_type": "code",
   "execution_count": 94,
   "id": "60a1b0ac-8cb3-4389-b02c-fc360fe1d814",
   "metadata": {},
   "outputs": [
    {
     "data": {
      "text/html": [
       "<div>\n",
       "<style scoped>\n",
       "    .dataframe tbody tr th:only-of-type {\n",
       "        vertical-align: middle;\n",
       "    }\n",
       "\n",
       "    .dataframe tbody tr th {\n",
       "        vertical-align: top;\n",
       "    }\n",
       "\n",
       "    .dataframe thead th {\n",
       "        text-align: right;\n",
       "    }\n",
       "</style>\n",
       "<table border=\"1\" class=\"dataframe\">\n",
       "  <thead>\n",
       "    <tr style=\"text-align: right;\">\n",
       "      <th></th>\n",
       "      <th>tag_id</th>\n",
       "      <th>question_id</th>\n",
       "    </tr>\n",
       "  </thead>\n",
       "  <tbody>\n",
       "    <tr>\n",
       "      <th>0</th>\n",
       "      <td>28930</td>\n",
       "      <td>cb43ebee01364c68ac61d347a393ae39</td>\n",
       "    </tr>\n",
       "    <tr>\n",
       "      <th>1</th>\n",
       "      <td>28930</td>\n",
       "      <td>47f55e85ce944242a5a347ab85a8ffb4</td>\n",
       "    </tr>\n",
       "    <tr>\n",
       "      <th>2</th>\n",
       "      <td>28930</td>\n",
       "      <td>ccc30a033a0f4dfdb2eb987012f25792</td>\n",
       "    </tr>\n",
       "    <tr>\n",
       "      <th>3</th>\n",
       "      <td>28930</td>\n",
       "      <td>e30b274e48d741f7bf50eb5e7171a3c0</td>\n",
       "    </tr>\n",
       "    <tr>\n",
       "      <th>4</th>\n",
       "      <td>28930</td>\n",
       "      <td>3d22742052df4989b311b4195cbb0f1a</td>\n",
       "    </tr>\n",
       "  </tbody>\n",
       "</table>\n",
       "</div>"
      ],
      "text/plain": [
       "   tag_id                       question_id\n",
       "0   28930  cb43ebee01364c68ac61d347a393ae39\n",
       "1   28930  47f55e85ce944242a5a347ab85a8ffb4\n",
       "2   28930  ccc30a033a0f4dfdb2eb987012f25792\n",
       "3   28930  e30b274e48d741f7bf50eb5e7171a3c0\n",
       "4   28930  3d22742052df4989b311b4195cbb0f1a"
      ]
     },
     "execution_count": 94,
     "metadata": {},
     "output_type": "execute_result"
    }
   ],
   "source": [
    "# load tag_question in to data frame.\n",
    "query9 = \"SELECT * FROM tag_questions\"\n",
    "tag_questions = pd.read_sql(query9,conn)\n",
    "tag_questions.head()"
   ]
  },
  {
   "cell_type": "code",
   "execution_count": 95,
   "id": "95a80d41-a5c6-4a76-91bd-29fc61cf94dc",
   "metadata": {},
   "outputs": [
    {
     "name": "stdout",
     "output_type": "stream",
     "text": [
      "<class 'pandas.core.frame.DataFrame'>\n",
      "RangeIndex: 76553 entries, 0 to 76552\n",
      "Data columns (total 2 columns):\n",
      " #   Column       Non-Null Count  Dtype \n",
      "---  ------       --------------  ----- \n",
      " 0   tag_id       76553 non-null  int64 \n",
      " 1   question_id  76553 non-null  object\n",
      "dtypes: int64(1), object(1)\n",
      "memory usage: 1.2+ MB\n"
     ]
    }
   ],
   "source": [
    "# get informations.\n",
    "tag_questions.info()"
   ]
  },
  {
   "cell_type": "code",
   "execution_count": 96,
   "id": "53a6fe17-ec61-4dfd-880a-22c4b11e07b0",
   "metadata": {},
   "outputs": [
    {
     "data": {
      "text/plain": [
       "tag_id         0\n",
       "question_id    0\n",
       "dtype: int64"
      ]
     },
     "execution_count": 96,
     "metadata": {},
     "output_type": "execute_result"
    }
   ],
   "source": [
    "# check for missing values.\n",
    "tag_questions.isnull().sum()"
   ]
  },
  {
   "cell_type": "code",
   "execution_count": 97,
   "id": "1aaf4195-173b-46b1-aced-2ee1ee783356",
   "metadata": {},
   "outputs": [
    {
     "data": {
      "text/plain": [
       "0"
      ]
     },
     "execution_count": 97,
     "metadata": {},
     "output_type": "execute_result"
    }
   ],
   "source": [
    "# check for duplicates.\n",
    "tag_questions.duplicated().sum()"
   ]
  },
  {
   "cell_type": "code",
   "execution_count": 98,
   "id": "539dd627-70a7-4f6c-87c1-77704094f959",
   "metadata": {},
   "outputs": [
    {
     "data": {
      "text/html": [
       "<div>\n",
       "<style scoped>\n",
       "    .dataframe tbody tr th:only-of-type {\n",
       "        vertical-align: middle;\n",
       "    }\n",
       "\n",
       "    .dataframe tbody tr th {\n",
       "        vertical-align: top;\n",
       "    }\n",
       "\n",
       "    .dataframe thead th {\n",
       "        text-align: right;\n",
       "    }\n",
       "</style>\n",
       "<table border=\"1\" class=\"dataframe\">\n",
       "  <thead>\n",
       "    <tr style=\"text-align: right;\">\n",
       "      <th></th>\n",
       "      <th>tag_id</th>\n",
       "      <th>question_id</th>\n",
       "    </tr>\n",
       "  </thead>\n",
       "  <tbody>\n",
       "    <tr>\n",
       "      <th>count</th>\n",
       "      <td>76553.000000</td>\n",
       "      <td>76553</td>\n",
       "    </tr>\n",
       "    <tr>\n",
       "      <th>unique</th>\n",
       "      <td>NaN</td>\n",
       "      <td>23288</td>\n",
       "    </tr>\n",
       "    <tr>\n",
       "      <th>top</th>\n",
       "      <td>NaN</td>\n",
       "      <td>e79bf4570af646d5892cf42b031c2a52</td>\n",
       "    </tr>\n",
       "    <tr>\n",
       "      <th>freq</th>\n",
       "      <td>NaN</td>\n",
       "      <td>54</td>\n",
       "    </tr>\n",
       "    <tr>\n",
       "      <th>mean</th>\n",
       "      <td>17289.690763</td>\n",
       "      <td>NaN</td>\n",
       "    </tr>\n",
       "    <tr>\n",
       "      <th>std</th>\n",
       "      <td>10308.915329</td>\n",
       "      <td>NaN</td>\n",
       "    </tr>\n",
       "    <tr>\n",
       "      <th>min</th>\n",
       "      <td>27.000000</td>\n",
       "      <td>NaN</td>\n",
       "    </tr>\n",
       "    <tr>\n",
       "      <th>25%</th>\n",
       "      <td>11165.000000</td>\n",
       "      <td>NaN</td>\n",
       "    </tr>\n",
       "    <tr>\n",
       "      <th>50%</th>\n",
       "      <td>18360.000000</td>\n",
       "      <td>NaN</td>\n",
       "    </tr>\n",
       "    <tr>\n",
       "      <th>75%</th>\n",
       "      <td>26420.000000</td>\n",
       "      <td>NaN</td>\n",
       "    </tr>\n",
       "    <tr>\n",
       "      <th>max</th>\n",
       "      <td>39250.000000</td>\n",
       "      <td>NaN</td>\n",
       "    </tr>\n",
       "  </tbody>\n",
       "</table>\n",
       "</div>"
      ],
      "text/plain": [
       "              tag_id                       question_id\n",
       "count   76553.000000                             76553\n",
       "unique           NaN                             23288\n",
       "top              NaN  e79bf4570af646d5892cf42b031c2a52\n",
       "freq             NaN                                54\n",
       "mean    17289.690763                               NaN\n",
       "std     10308.915329                               NaN\n",
       "min        27.000000                               NaN\n",
       "25%     11165.000000                               NaN\n",
       "50%     18360.000000                               NaN\n",
       "75%     26420.000000                               NaN\n",
       "max     39250.000000                               NaN"
      ]
     },
     "execution_count": 98,
     "metadata": {},
     "output_type": "execute_result"
    }
   ],
   "source": [
    "# get summary.\n",
    "tag_questions.describe(include='all')"
   ]
  },
  {
   "cell_type": "code",
   "execution_count": 99,
   "id": "890894dc-e092-4e6d-b3be-70661cd60be0",
   "metadata": {},
   "outputs": [
    {
     "data": {
      "text/html": [
       "<div>\n",
       "<style scoped>\n",
       "    .dataframe tbody tr th:only-of-type {\n",
       "        vertical-align: middle;\n",
       "    }\n",
       "\n",
       "    .dataframe tbody tr th {\n",
       "        vertical-align: top;\n",
       "    }\n",
       "\n",
       "    .dataframe thead th {\n",
       "        text-align: right;\n",
       "    }\n",
       "</style>\n",
       "<table border=\"1\" class=\"dataframe\">\n",
       "  <thead>\n",
       "    <tr style=\"text-align: right;\">\n",
       "      <th></th>\n",
       "      <th>tag_id</th>\n",
       "      <th>user_id</th>\n",
       "    </tr>\n",
       "  </thead>\n",
       "  <tbody>\n",
       "    <tr>\n",
       "      <th>0</th>\n",
       "      <td>593</td>\n",
       "      <td>c72ab38e073246e88da7e9a4ec7a4472</td>\n",
       "    </tr>\n",
       "    <tr>\n",
       "      <th>1</th>\n",
       "      <td>1642</td>\n",
       "      <td>8db519781ec24f2e8bdc67c2ac53f614</td>\n",
       "    </tr>\n",
       "    <tr>\n",
       "      <th>2</th>\n",
       "      <td>638</td>\n",
       "      <td>042d2184ee3e4e548fc3589baaa69caf</td>\n",
       "    </tr>\n",
       "    <tr>\n",
       "      <th>3</th>\n",
       "      <td>11093</td>\n",
       "      <td>c660bd0dc1b34224be78a58aa5a84a63</td>\n",
       "    </tr>\n",
       "    <tr>\n",
       "      <th>4</th>\n",
       "      <td>21539</td>\n",
       "      <td>8ce1dca4e94240239e4385ed22ef43ce</td>\n",
       "    </tr>\n",
       "  </tbody>\n",
       "</table>\n",
       "</div>"
      ],
      "text/plain": [
       "   tag_id                           user_id\n",
       "0     593  c72ab38e073246e88da7e9a4ec7a4472\n",
       "1    1642  8db519781ec24f2e8bdc67c2ac53f614\n",
       "2     638  042d2184ee3e4e548fc3589baaa69caf\n",
       "3   11093  c660bd0dc1b34224be78a58aa5a84a63\n",
       "4   21539  8ce1dca4e94240239e4385ed22ef43ce"
      ]
     },
     "execution_count": 99,
     "metadata": {},
     "output_type": "execute_result"
    }
   ],
   "source": [
    "# load tag users into data frame.\n",
    "query10 = \"SELECT * FROM tag_users\"\n",
    "tag_users = pd.read_sql(query10,conn)\n",
    "tag_users.head()"
   ]
  },
  {
   "cell_type": "code",
   "execution_count": 100,
   "id": "e292186b-e766-42f3-ad04-d7fe8481184f",
   "metadata": {},
   "outputs": [
    {
     "name": "stdout",
     "output_type": "stream",
     "text": [
      "<class 'pandas.core.frame.DataFrame'>\n",
      "RangeIndex: 136663 entries, 0 to 136662\n",
      "Data columns (total 2 columns):\n",
      " #   Column   Non-Null Count   Dtype \n",
      "---  ------   --------------   ----- \n",
      " 0   tag_id   136663 non-null  int64 \n",
      " 1   user_id  136663 non-null  object\n",
      "dtypes: int64(1), object(1)\n",
      "memory usage: 2.1+ MB\n"
     ]
    }
   ],
   "source": [
    "# get info \n",
    "tag_users.info()"
   ]
  },
  {
   "cell_type": "code",
   "execution_count": 101,
   "id": "0168ae19-6630-4a19-9f3e-bd3b2a3ca8b5",
   "metadata": {},
   "outputs": [
    {
     "data": {
      "text/plain": [
       "tag_id     0\n",
       "user_id    0\n",
       "dtype: int64"
      ]
     },
     "execution_count": 101,
     "metadata": {},
     "output_type": "execute_result"
    }
   ],
   "source": [
    "# check for missing values.\n",
    "tag_users.isnull().sum()"
   ]
  },
  {
   "cell_type": "code",
   "execution_count": 102,
   "id": "4fac4c7b-fb28-4092-815a-a0b87e07feb0",
   "metadata": {},
   "outputs": [
    {
     "data": {
      "text/plain": [
       "756"
      ]
     },
     "execution_count": 102,
     "metadata": {},
     "output_type": "execute_result"
    }
   ],
   "source": [
    "# check for duplicates.\n",
    "tag_users.duplicated().sum()"
   ]
  },
  {
   "cell_type": "code",
   "execution_count": 103,
   "id": "f90a02e7-ef2b-48ad-bf60-722e62aa8ec7",
   "metadata": {},
   "outputs": [],
   "source": [
    "# drop duplicates.\n",
    "tag_users.drop_duplicates(inplace=True)"
   ]
  },
  {
   "cell_type": "code",
   "execution_count": 104,
   "id": "e36ed8c5-a115-4070-b56c-780380fd9772",
   "metadata": {},
   "outputs": [
    {
     "data": {
      "text/html": [
       "<div>\n",
       "<style scoped>\n",
       "    .dataframe tbody tr th:only-of-type {\n",
       "        vertical-align: middle;\n",
       "    }\n",
       "\n",
       "    .dataframe tbody tr th {\n",
       "        vertical-align: top;\n",
       "    }\n",
       "\n",
       "    .dataframe thead th {\n",
       "        text-align: right;\n",
       "    }\n",
       "</style>\n",
       "<table border=\"1\" class=\"dataframe\">\n",
       "  <thead>\n",
       "    <tr style=\"text-align: right;\">\n",
       "      <th></th>\n",
       "      <th>tag_id</th>\n",
       "      <th>user_id</th>\n",
       "    </tr>\n",
       "  </thead>\n",
       "  <tbody>\n",
       "    <tr>\n",
       "      <th>count</th>\n",
       "      <td>135907.000000</td>\n",
       "      <td>135907</td>\n",
       "    </tr>\n",
       "    <tr>\n",
       "      <th>unique</th>\n",
       "      <td>NaN</td>\n",
       "      <td>30202</td>\n",
       "    </tr>\n",
       "    <tr>\n",
       "      <th>top</th>\n",
       "      <td>NaN</td>\n",
       "      <td>b3525548bad243cb9a437a0bf5f60eb9</td>\n",
       "    </tr>\n",
       "    <tr>\n",
       "      <th>freq</th>\n",
       "      <td>NaN</td>\n",
       "      <td>82</td>\n",
       "    </tr>\n",
       "    <tr>\n",
       "      <th>mean</th>\n",
       "      <td>19025.841097</td>\n",
       "      <td>NaN</td>\n",
       "    </tr>\n",
       "    <tr>\n",
       "      <th>std</th>\n",
       "      <td>8984.541164</td>\n",
       "      <td>NaN</td>\n",
       "    </tr>\n",
       "    <tr>\n",
       "      <th>min</th>\n",
       "      <td>27.000000</td>\n",
       "      <td>NaN</td>\n",
       "    </tr>\n",
       "    <tr>\n",
       "      <th>25%</th>\n",
       "      <td>18070.000000</td>\n",
       "      <td>NaN</td>\n",
       "    </tr>\n",
       "    <tr>\n",
       "      <th>50%</th>\n",
       "      <td>18814.000000</td>\n",
       "      <td>NaN</td>\n",
       "    </tr>\n",
       "    <tr>\n",
       "      <th>75%</th>\n",
       "      <td>24217.500000</td>\n",
       "      <td>NaN</td>\n",
       "    </tr>\n",
       "    <tr>\n",
       "      <th>max</th>\n",
       "      <td>39261.000000</td>\n",
       "      <td>NaN</td>\n",
       "    </tr>\n",
       "  </tbody>\n",
       "</table>\n",
       "</div>"
      ],
      "text/plain": [
       "               tag_id                           user_id\n",
       "count   135907.000000                            135907\n",
       "unique            NaN                             30202\n",
       "top               NaN  b3525548bad243cb9a437a0bf5f60eb9\n",
       "freq              NaN                                82\n",
       "mean     19025.841097                               NaN\n",
       "std       8984.541164                               NaN\n",
       "min         27.000000                               NaN\n",
       "25%      18070.000000                               NaN\n",
       "50%      18814.000000                               NaN\n",
       "75%      24217.500000                               NaN\n",
       "max      39261.000000                               NaN"
      ]
     },
     "execution_count": 104,
     "metadata": {},
     "output_type": "execute_result"
    }
   ],
   "source": [
    "# get summary \n",
    "tag_users.describe(include='all')"
   ]
  },
  {
   "cell_type": "code",
   "execution_count": 105,
   "id": "f0c83559-bf80-4900-b289-18c38d08c45b",
   "metadata": {},
   "outputs": [],
   "source": [
    "# save tags, tag_questions, and tag_users to csv in tableau for visualization.\n",
    "tags.to_csv('tableau/tags.csv',index=False)\n",
    "tag_questions.to_csv('tableau/tag_questions.csv',index=False)\n",
    "tag_users.to_csv('tableau/tag_users.csv',index=False)"
   ]
  },
  {
   "cell_type": "markdown",
   "id": "f33f82a3-a26a-4860-88e7-f50c713714b2",
   "metadata": {},
   "source": [
    "# load comments into data frame."
   ]
  },
  {
   "cell_type": "code",
   "execution_count": 106,
   "id": "ba6d43bf-6aee-4c49-b639-32ede0803c56",
   "metadata": {},
   "outputs": [
    {
     "data": {
      "text/html": [
       "<div>\n",
       "<style scoped>\n",
       "    .dataframe tbody tr th:only-of-type {\n",
       "        vertical-align: middle;\n",
       "    }\n",
       "\n",
       "    .dataframe tbody tr th {\n",
       "        vertical-align: top;\n",
       "    }\n",
       "\n",
       "    .dataframe thead th {\n",
       "        text-align: right;\n",
       "    }\n",
       "</style>\n",
       "<table border=\"1\" class=\"dataframe\">\n",
       "  <thead>\n",
       "    <tr style=\"text-align: right;\">\n",
       "      <th></th>\n",
       "      <th>cid</th>\n",
       "      <th>name</th>\n",
       "      <th>type</th>\n",
       "      <th>notnull</th>\n",
       "      <th>dflt_value</th>\n",
       "      <th>pk</th>\n",
       "    </tr>\n",
       "  </thead>\n",
       "  <tbody>\n",
       "    <tr>\n",
       "      <th>0</th>\n",
       "      <td>0</td>\n",
       "      <td>comments_id</td>\n",
       "      <td>TEXT</td>\n",
       "      <td>0</td>\n",
       "      <td>None</td>\n",
       "      <td>0</td>\n",
       "    </tr>\n",
       "    <tr>\n",
       "      <th>1</th>\n",
       "      <td>1</td>\n",
       "      <td>author_id</td>\n",
       "      <td>TEXT</td>\n",
       "      <td>0</td>\n",
       "      <td>None</td>\n",
       "      <td>0</td>\n",
       "    </tr>\n",
       "    <tr>\n",
       "      <th>2</th>\n",
       "      <td>2</td>\n",
       "      <td>parent_content_id</td>\n",
       "      <td>TEXT</td>\n",
       "      <td>0</td>\n",
       "      <td>None</td>\n",
       "      <td>0</td>\n",
       "    </tr>\n",
       "    <tr>\n",
       "      <th>3</th>\n",
       "      <td>3</td>\n",
       "      <td>comments_date_added</td>\n",
       "      <td>TEXT</td>\n",
       "      <td>0</td>\n",
       "      <td>None</td>\n",
       "      <td>0</td>\n",
       "    </tr>\n",
       "    <tr>\n",
       "      <th>4</th>\n",
       "      <td>4</td>\n",
       "      <td>comments_body</td>\n",
       "      <td>TEXT</td>\n",
       "      <td>0</td>\n",
       "      <td>None</td>\n",
       "      <td>0</td>\n",
       "    </tr>\n",
       "  </tbody>\n",
       "</table>\n",
       "</div>"
      ],
      "text/plain": [
       "   cid                 name  type  notnull dflt_value  pk\n",
       "0    0          comments_id  TEXT        0       None   0\n",
       "1    1            author_id  TEXT        0       None   0\n",
       "2    2    parent_content_id  TEXT        0       None   0\n",
       "3    3  comments_date_added  TEXT        0       None   0\n",
       "4    4        comments_body  TEXT        0       None   0"
      ]
     },
     "execution_count": 106,
     "metadata": {},
     "output_type": "execute_result"
    }
   ],
   "source": [
    "# show question score table information\n",
    "query = \"PRAGMA table_info(comments);\"\n",
    "comments_info = pd.read_sql(query,conn)\n",
    "comments_info"
   ]
  },
  {
   "cell_type": "code",
   "execution_count": 107,
   "id": "80c16774-aa62-4c3c-8e7b-01a2ff30457a",
   "metadata": {},
   "outputs": [
    {
     "data": {
      "text/html": [
       "<div>\n",
       "<style scoped>\n",
       "    .dataframe tbody tr th:only-of-type {\n",
       "        vertical-align: middle;\n",
       "    }\n",
       "\n",
       "    .dataframe tbody tr th {\n",
       "        vertical-align: top;\n",
       "    }\n",
       "\n",
       "    .dataframe thead th {\n",
       "        text-align: right;\n",
       "    }\n",
       "</style>\n",
       "<table border=\"1\" class=\"dataframe\">\n",
       "  <thead>\n",
       "    <tr style=\"text-align: right;\">\n",
       "      <th></th>\n",
       "      <th>comments_id</th>\n",
       "      <th>author_id</th>\n",
       "      <th>parent_content_id</th>\n",
       "      <th>comments_date_added</th>\n",
       "      <th>comments_body</th>\n",
       "    </tr>\n",
       "  </thead>\n",
       "  <tbody>\n",
       "    <tr>\n",
       "      <th>0</th>\n",
       "      <td>f30250d3c2ca489db1afa9b95d481e08</td>\n",
       "      <td>9fc88a7c3323466dbb35798264c7d497</td>\n",
       "      <td>b476f9c6d9cd4c50a7bacdd90edd015a</td>\n",
       "      <td>2019-01-31 23:39:40 UTC+0000</td>\n",
       "      <td>First, you speak to recruiters. They are train...</td>\n",
       "    </tr>\n",
       "    <tr>\n",
       "      <th>1</th>\n",
       "      <td>ca9bfc4ba9464ea383a8b080301ad72c</td>\n",
       "      <td>de2415064b9b445c8717425ed70fd99a</td>\n",
       "      <td>ef4b6ae24d1f4c3b977731e8189c7fd7</td>\n",
       "      <td>2019-01-31 20:30:47 UTC+0000</td>\n",
       "      <td>Most large universities offer study abroad pro...</td>\n",
       "    </tr>\n",
       "    <tr>\n",
       "      <th>2</th>\n",
       "      <td>c354f6e33956499aa8b03798a60e9386</td>\n",
       "      <td>6ed20605002a42b0b8e3d6ac97c50c7f</td>\n",
       "      <td>ca7a9d7a95df471c816db82ee758f57d</td>\n",
       "      <td>2019-01-31 18:44:04 UTC+0000</td>\n",
       "      <td>First, I want to put you at ease that the oppo...</td>\n",
       "    </tr>\n",
       "    <tr>\n",
       "      <th>3</th>\n",
       "      <td>73a6223948714c5da6231937157e4cb7</td>\n",
       "      <td>d02f6d9faac24997a7003a59e5f34bd3</td>\n",
       "      <td>c7a88aa76f5f49b0830bfeb46ba17e4d</td>\n",
       "      <td>2019-01-31 17:53:28 UTC+0000</td>\n",
       "      <td>Your question submission was great! I just wan...</td>\n",
       "    </tr>\n",
       "    <tr>\n",
       "      <th>4</th>\n",
       "      <td>55a89a9061d44dd19569c45f90a22779</td>\n",
       "      <td>e78f75c543e84e1c94da1801d8560f65</td>\n",
       "      <td>c7a88aa76f5f49b0830bfeb46ba17e4d</td>\n",
       "      <td>2019-01-31 14:51:53 UTC+0000</td>\n",
       "      <td>Thank you. I'm new to this site. I'm sorry if ...</td>\n",
       "    </tr>\n",
       "  </tbody>\n",
       "</table>\n",
       "</div>"
      ],
      "text/plain": [
       "                        comments_id                         author_id  \\\n",
       "0  f30250d3c2ca489db1afa9b95d481e08  9fc88a7c3323466dbb35798264c7d497   \n",
       "1  ca9bfc4ba9464ea383a8b080301ad72c  de2415064b9b445c8717425ed70fd99a   \n",
       "2  c354f6e33956499aa8b03798a60e9386  6ed20605002a42b0b8e3d6ac97c50c7f   \n",
       "3  73a6223948714c5da6231937157e4cb7  d02f6d9faac24997a7003a59e5f34bd3   \n",
       "4  55a89a9061d44dd19569c45f90a22779  e78f75c543e84e1c94da1801d8560f65   \n",
       "\n",
       "                  parent_content_id           comments_date_added  \\\n",
       "0  b476f9c6d9cd4c50a7bacdd90edd015a  2019-01-31 23:39:40 UTC+0000   \n",
       "1  ef4b6ae24d1f4c3b977731e8189c7fd7  2019-01-31 20:30:47 UTC+0000   \n",
       "2  ca7a9d7a95df471c816db82ee758f57d  2019-01-31 18:44:04 UTC+0000   \n",
       "3  c7a88aa76f5f49b0830bfeb46ba17e4d  2019-01-31 17:53:28 UTC+0000   \n",
       "4  c7a88aa76f5f49b0830bfeb46ba17e4d  2019-01-31 14:51:53 UTC+0000   \n",
       "\n",
       "                                       comments_body  \n",
       "0  First, you speak to recruiters. They are train...  \n",
       "1  Most large universities offer study abroad pro...  \n",
       "2  First, I want to put you at ease that the oppo...  \n",
       "3  Your question submission was great! I just wan...  \n",
       "4  Thank you. I'm new to this site. I'm sorry if ...  "
      ]
     },
     "execution_count": 107,
     "metadata": {},
     "output_type": "execute_result"
    }
   ],
   "source": [
    "query10 = \"SELECT* FROM comments\"\n",
    "comments = pd.read_sql(query10,conn)\n",
    "comments.head()"
   ]
  },
  {
   "cell_type": "code",
   "execution_count": 108,
   "id": "3a37a429-4d3c-4691-9351-7d60a876d0b6",
   "metadata": {},
   "outputs": [],
   "source": [
    "# convert comments date added to date time\n",
    "comments['comments_date_added'] = pd.to_datetime(comments['comments_date_added'])"
   ]
  },
  {
   "cell_type": "code",
   "execution_count": 109,
   "id": "71333772-b409-48ee-b473-d3c8f9123148",
   "metadata": {},
   "outputs": [
    {
     "name": "stdout",
     "output_type": "stream",
     "text": [
      "<class 'pandas.core.frame.DataFrame'>\n",
      "RangeIndex: 14962 entries, 0 to 14961\n",
      "Data columns (total 5 columns):\n",
      " #   Column               Non-Null Count  Dtype              \n",
      "---  ------               --------------  -----              \n",
      " 0   comments_id          14962 non-null  object             \n",
      " 1   author_id            14962 non-null  object             \n",
      " 2   parent_content_id    14962 non-null  object             \n",
      " 3   comments_date_added  14962 non-null  datetime64[ns, UTC]\n",
      " 4   comments_body        14962 non-null  object             \n",
      "dtypes: datetime64[ns, UTC](1), object(4)\n",
      "memory usage: 584.6+ KB\n"
     ]
    }
   ],
   "source": [
    "# get comments informations.\n",
    "comments.info()"
   ]
  },
  {
   "cell_type": "code",
   "execution_count": 110,
   "id": "836b603f-5cd9-4550-a276-da3e0d764c72",
   "metadata": {},
   "outputs": [
    {
     "data": {
      "text/plain": [
       "comments_id            0\n",
       "author_id              0\n",
       "parent_content_id      0\n",
       "comments_date_added    0\n",
       "comments_body          0\n",
       "dtype: int64"
      ]
     },
     "execution_count": 110,
     "metadata": {},
     "output_type": "execute_result"
    }
   ],
   "source": [
    "# check for missing values.\n",
    "comments.isnull().sum()"
   ]
  },
  {
   "cell_type": "code",
   "execution_count": 111,
   "id": "54f719ed-8f0e-48bc-b2f6-e2b737c01251",
   "metadata": {},
   "outputs": [
    {
     "data": {
      "text/plain": [
       "0"
      ]
     },
     "execution_count": 111,
     "metadata": {},
     "output_type": "execute_result"
    }
   ],
   "source": [
    "# check for duplicates.\n",
    "comments.duplicated().sum()"
   ]
  },
  {
   "cell_type": "code",
   "execution_count": 112,
   "id": "d2f3e61d-6492-4f26-a042-d58d40df27ad",
   "metadata": {},
   "outputs": [
    {
     "data": {
      "text/html": [
       "<div>\n",
       "<style scoped>\n",
       "    .dataframe tbody tr th:only-of-type {\n",
       "        vertical-align: middle;\n",
       "    }\n",
       "\n",
       "    .dataframe tbody tr th {\n",
       "        vertical-align: top;\n",
       "    }\n",
       "\n",
       "    .dataframe thead th {\n",
       "        text-align: right;\n",
       "    }\n",
       "</style>\n",
       "<table border=\"1\" class=\"dataframe\">\n",
       "  <thead>\n",
       "    <tr style=\"text-align: right;\">\n",
       "      <th></th>\n",
       "      <th>comments_id</th>\n",
       "      <th>author_id</th>\n",
       "      <th>parent_content_id</th>\n",
       "      <th>comments_date_added</th>\n",
       "      <th>comments_body</th>\n",
       "    </tr>\n",
       "  </thead>\n",
       "  <tbody>\n",
       "    <tr>\n",
       "      <th>count</th>\n",
       "      <td>14962</td>\n",
       "      <td>14962</td>\n",
       "      <td>14962</td>\n",
       "      <td>14962</td>\n",
       "      <td>14962</td>\n",
       "    </tr>\n",
       "    <tr>\n",
       "      <th>unique</th>\n",
       "      <td>14962</td>\n",
       "      <td>4230</td>\n",
       "      <td>9923</td>\n",
       "      <td>NaN</td>\n",
       "      <td>11963</td>\n",
       "    </tr>\n",
       "    <tr>\n",
       "      <th>top</th>\n",
       "      <td>f30250d3c2ca489db1afa9b95d481e08</td>\n",
       "      <td>36ff3b3666df400f956f8335cf53e09e</td>\n",
       "      <td>4c6ae4bd2136472899c15b798eb9d3df</td>\n",
       "      <td>NaN</td>\n",
       "      <td>Thank you!</td>\n",
       "    </tr>\n",
       "    <tr>\n",
       "      <th>freq</th>\n",
       "      <td>1</td>\n",
       "      <td>317</td>\n",
       "      <td>30</td>\n",
       "      <td>NaN</td>\n",
       "      <td>388</td>\n",
       "    </tr>\n",
       "    <tr>\n",
       "      <th>mean</th>\n",
       "      <td>NaN</td>\n",
       "      <td>NaN</td>\n",
       "      <td>NaN</td>\n",
       "      <td>2016-07-31 10:18:19.175778560+00:00</td>\n",
       "      <td>NaN</td>\n",
       "    </tr>\n",
       "    <tr>\n",
       "      <th>min</th>\n",
       "      <td>NaN</td>\n",
       "      <td>NaN</td>\n",
       "      <td>NaN</td>\n",
       "      <td>2011-10-18 17:26:28+00:00</td>\n",
       "      <td>NaN</td>\n",
       "    </tr>\n",
       "    <tr>\n",
       "      <th>25%</th>\n",
       "      <td>NaN</td>\n",
       "      <td>NaN</td>\n",
       "      <td>NaN</td>\n",
       "      <td>2015-12-23 17:03:23.249999872+00:00</td>\n",
       "      <td>NaN</td>\n",
       "    </tr>\n",
       "    <tr>\n",
       "      <th>50%</th>\n",
       "      <td>NaN</td>\n",
       "      <td>NaN</td>\n",
       "      <td>NaN</td>\n",
       "      <td>2016-06-27 10:34:19+00:00</td>\n",
       "      <td>NaN</td>\n",
       "    </tr>\n",
       "    <tr>\n",
       "      <th>75%</th>\n",
       "      <td>NaN</td>\n",
       "      <td>NaN</td>\n",
       "      <td>NaN</td>\n",
       "      <td>2017-07-19 15:46:02.750000128+00:00</td>\n",
       "      <td>NaN</td>\n",
       "    </tr>\n",
       "    <tr>\n",
       "      <th>max</th>\n",
       "      <td>NaN</td>\n",
       "      <td>NaN</td>\n",
       "      <td>NaN</td>\n",
       "      <td>2019-01-31 23:39:40+00:00</td>\n",
       "      <td>NaN</td>\n",
       "    </tr>\n",
       "  </tbody>\n",
       "</table>\n",
       "</div>"
      ],
      "text/plain": [
       "                             comments_id                         author_id  \\\n",
       "count                              14962                             14962   \n",
       "unique                             14962                              4230   \n",
       "top     f30250d3c2ca489db1afa9b95d481e08  36ff3b3666df400f956f8335cf53e09e   \n",
       "freq                                   1                               317   \n",
       "mean                                 NaN                               NaN   \n",
       "min                                  NaN                               NaN   \n",
       "25%                                  NaN                               NaN   \n",
       "50%                                  NaN                               NaN   \n",
       "75%                                  NaN                               NaN   \n",
       "max                                  NaN                               NaN   \n",
       "\n",
       "                       parent_content_id                  comments_date_added  \\\n",
       "count                              14962                                14962   \n",
       "unique                              9923                                  NaN   \n",
       "top     4c6ae4bd2136472899c15b798eb9d3df                                  NaN   \n",
       "freq                                  30                                  NaN   \n",
       "mean                                 NaN  2016-07-31 10:18:19.175778560+00:00   \n",
       "min                                  NaN            2011-10-18 17:26:28+00:00   \n",
       "25%                                  NaN  2015-12-23 17:03:23.249999872+00:00   \n",
       "50%                                  NaN            2016-06-27 10:34:19+00:00   \n",
       "75%                                  NaN  2017-07-19 15:46:02.750000128+00:00   \n",
       "max                                  NaN            2019-01-31 23:39:40+00:00   \n",
       "\n",
       "       comments_body  \n",
       "count          14962  \n",
       "unique         11963  \n",
       "top       Thank you!  \n",
       "freq             388  \n",
       "mean             NaN  \n",
       "min              NaN  \n",
       "25%              NaN  \n",
       "50%              NaN  \n",
       "75%              NaN  \n",
       "max              NaN  "
      ]
     },
     "execution_count": 112,
     "metadata": {},
     "output_type": "execute_result"
    }
   ],
   "source": [
    "# get summary \n",
    "comments.describe(include='all')"
   ]
  },
  {
   "cell_type": "code",
   "execution_count": 113,
   "id": "8a2fffcd-1fa7-46f8-ade5-5bf46556a337",
   "metadata": {},
   "outputs": [],
   "source": [
    "# save comments to csv in tableau for visualization.\n",
    "comments.to_csv('tableau/comments.csv',index=False)"
   ]
  },
  {
   "cell_type": "code",
   "execution_count": null,
   "id": "37cca163-7175-4ecc-8abc-111a04eb2158",
   "metadata": {},
   "outputs": [],
   "source": []
  }
 ],
 "metadata": {
  "kernelspec": {
   "display_name": "Python 3 (ipykernel)",
   "language": "python",
   "name": "python3"
  },
  "language_info": {
   "codemirror_mode": {
    "name": "ipython",
    "version": 3
   },
   "file_extension": ".py",
   "mimetype": "text/x-python",
   "name": "python",
   "nbconvert_exporter": "python",
   "pygments_lexer": "ipython3",
   "version": "3.11.7"
  }
 },
 "nbformat": 4,
 "nbformat_minor": 5
}
